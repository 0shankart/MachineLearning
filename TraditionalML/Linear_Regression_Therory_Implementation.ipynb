{
  "nbformat": 4,
  "nbformat_minor": 0,
  "metadata": {
    "colab": {
      "provenance": []
    },
    "kernelspec": {
      "name": "python3",
      "display_name": "Python 3"
    },
    "language_info": {
      "name": "python"
    }
  },
  "cells": [
    {
      "cell_type": "markdown",
      "source": [
        "## Linear Regression"
      ],
      "metadata": {
        "id": "FtCVoFclN7FP"
      }
    },
    {
      "cell_type": "markdown",
      "source": [
        "Lets talk about the dataset, I have downloaded [Used Car Price Dataset](https://www.kaggle.com/datasets/rishabhkarn/used-car-dataset) from Kaggle website. The dataset contains `13` feature/independent variables($x_i$) and a target/dependant variable($y$), from those 13 feature/independant variables, I will be using 5 feature/independent variables they are `kms_driven` ,`mileage(kmpl)`, `engine(cc)`, `max_power(bhp)` and `torque(Nm). ` and `price(in lakhs)` as the target variable.<br><br>\n",
        "\n",
        "\n",
        "kms_driven   | mileage(kmpl)| engine(cc) | max_power(bhp) | torque(Nm) | price(in lakhs)\n",
        "-------------|-------------|------------|----------------|------------|-------------\n",
        " 56000       |   7.81      |2996        |\t   2996        |     333    |       63.75\n",
        " 30615       |  17.4      |    999     |     999        |     9863   |       8.99\n",
        "24000        |  20.68     |    1995    |     1995       |      188   |       23.75\n",
        "18378        |  16.5      |    1353    |     1353       |     13808  |       13.56\n",
        "\n",
        "\n",
        "<br>\n",
        "<br>\n",
        "Here $x$'s are four-dimensional vector in $\\mathbb{R}^5$. For instance, $x_1^{(i)}$ is the `kms_driven`, $x_2^{(i)}$ is the `mileage(kmpl)`, $x_3^{(i)}$ is the `engine(cc)`, $x_4^{(i)}$ is the `max_power(bhp)`, and $x_4^{(i)}$ is the `torque(Nm)` of the $i$-th house in the training set\n"
      ],
      "metadata": {
        "id": "tKxdr-fuFbrY"
      }
    },
    {
      "cell_type": "markdown",
      "source": [
        "To perform supervised learning, we will represent $y$ as  the functions/hypothese $h$ or as a linear function of $x$.\n",
        "\n",
        "$$h_{\\theta}(x) = \\theta_0 + \\theta_1x_1 + \\theta_2x_2 + \\theta_3x_3 + \\theta_4x_4 + \\theta_5x_5$$\n",
        "\n",
        "Here, the $\\theta_i$'s are the parameters (also called wights) parameterizing the space of linear functions mapping $\\mathcal{X}$ $\\to$ $\\mathcal{Y}$. For simplifying the notation, we drop $\\theta$ and use $x_0=1$(intercept term).\n",
        "$$h(x) = \\sum_{i=0}^d\\theta_ix_i = \\theta^Tx$$\n",
        "\n",
        "on the right-hand side both $\\theta$ and $x$ are both vectors and d is the no. of feature/input/independent variables(not counting $x_0$).\n",
        "\n",
        "\n",
        "\n",
        "Now, given a training set, how do we pick, or learn, the parameters $\\theta$. One reasonable method is to make $h(x)$ close to $y$, atleast for the training examples we have. To formalize this, we will define a function that measures, for each value of the $\\theta$'s, how close the $h(x^{(i)})$'s are to the correspoding $y^{(i)}$'s. We define the **cost function**:\n",
        "$$J(\\theta) = \\frac{1}{2}\\sum_{i=1}^n(h_{\\theta}(x^{(i)})-y^{(i)})^2.$$\n",
        "\n"
      ],
      "metadata": {
        "id": "bJ2UIvD9PPqc"
      }
    },
    {
      "cell_type": "markdown",
      "source": [
        "# LMS algorithm\n"
      ],
      "metadata": {
        "id": "Ficrjfy0N_SN"
      }
    },
    {
      "cell_type": "markdown",
      "source": [
        "We watnt to choose $\\theta$ so as to minimize $J(\\theta)$. To do so, let's use a search algorithm that starts with some \"initial guess\" for $\\theta$, and that repeatedly changes $\\theta$ to make $J(\\theta)$ smaller, until hopefully we converge to a value of $\\theta$ that minimizes $J(\\theta)$. Specifically, lets consider the **gradient descent** algorithm, which starts with some initial $\\theta$, and repeatedly performs the update:\n",
        "$$\\theta_j:=\\theta_j - \\alpha\\frac{\\partial}{\\partial\\theta_j}J(\\theta). $$\n",
        "(This update is simultaneously performed for all values of $j$= 0,...,d.)\n",
        "\n",
        "\n",
        "Here, $\\alpha$ is called the **learning rate**. This is a very natural algorithm that repeatedly takes a step in the direction of steepest descrease of $J$.\n",
        "\n",
        "In order to implement this algorithm, we have to work out what is the partial derivative term on the right hand side. Lets first work it out for the case of it we have only one training example $(x, y)$, so that we can neglect the sum in the definition of $\\textit{J}$. We have:\n",
        "\n",
        "\n",
        "$$ \\frac{\\partial}{\\partial\\theta_j}J(\\theta) = \\frac{\\partial}{\\partial\\theta_j}\\frac{1}{2}(h_\\theta(x) - y)^2$$\n",
        "$$ = 2.\\frac{1}{2}(h_\\theta(x)-y).\\frac{\\partial}{\\partial\\theta_j}(h_\\theta(x)-y))$$\n",
        "$$=(h_\\theta(x)-y).\\frac{\\partial}{\\partial\\theta_j}(\\sum_{i=0}^d\\theta_ix_i-y)$$\n",
        "$$=(h_\\theta(x)-y)x_j$$\n",
        "for a single training example, this gives the update rule:\n",
        "$$\\theta_j:= \\theta_j +\\alpha(y^{(i)}-h_\\theta(x^{(i)}))x_j^{(i)}. $$\n",
        "\n",
        "This rule is called the **LMS** update rule (LMS stands for \"least mean squares\"), and is also known as the **Widrow-Hoff** learning rule. This rule has several properties that seem natural and intuitive. For instance, the magnitude of the update is proportial to the error term $(y^{(i)}-h_\\theta(x^{(i)}))$; thus for instance, if we are encountering a training example on which our prediction nearly matches the actual value of $y^{(i)}$, then we find that there is little need to change the parameters; in contrast, a larger change to the parameters will be made if our prediction $h_\\theta(x^(i)$ has a large error (i.e, if it is very far from $y^{(i)}$).\n",
        "\n",
        "We'd derived the LMS rule for when there was only a single training example. There are two ways to modify this method for a training set of more than one example. The first is replace it with the following algorithm:\n",
        "\n",
        "repeat until convergence $ \\{ $\n",
        "$$\\theta_j := \\theta_j + \\alpha\\sum_{i=i}^n(y^{(i)} - h_\\theta(x^{(i)}))x_j^{(i)}, \\text{(for every $j$)  (1.1)} $$\n",
        "$ \\}$\n",
        "\n"
      ],
      "metadata": {
        "id": "fagHUGT-lSm-"
      }
    },
    {
      "cell_type": "markdown",
      "source": [
        "By grouping the updates of the coordinates into an update of the vector $\\theta$, we can rewrite update (1.1) in a slightly more succing way:\n",
        "$$ \\theta := \\theta + \\alpha\\sum_{i=1}^n(y^{(i)} - h_\\theta(x^{(i)}))x^{(i)}$$\n",
        "This is simply gradient descent on the original cost funtion $\\textit{J}$. This method looks ar every example in the entire training set on every step, and is called **batch gradient descent**. Note that, while gradient descent can be susceptible to local minima in general, the optimization problem we have posed here for linear regression has only one global, and no other local, optima; thus gradient descent always converges (assumming the learning rate $\\alpha$ is not too large) to the global minimum. Indeed, $\\textit{J}$ is a convex quadratic funtion. Here is an examlpe of gradient descent as it run to minimize a quadratic function.\n",
        "\n",
        "<figure>\n",
        "  <img src=\"https://github.com/0shankart/MachineLearningNotes/blob/main/TraditionalML/images/batch_gradient_descent_global_minimum.png?raw=true\" width=\"40%\"/>\n",
        "  <figcaption>Ref: https://cs229.stanford.edu/notes2021fall/cs229-notes1.pdf</figcaption>\n",
        "</figure>\n",
        " <br>\n",
        " <br>The ellipses shown above are the countours of a quadratiic function. Also shown is the trajectory taken by graidnet descent, which was initialized at (48, 30). The $x$'s in the figure (joined by straight lines) mark the successive values of $\\theta$ that gradient descent went through.\n",
        "\n",
        " There is an alternative to batch gradient descent that also works very well. Consider the folling algorithm:<br><br>$\\text{Loop }  \\{ $\n",
        "\n",
        " $ \\text{ for $i$ = 1 to n, } \\{ $\n",
        " $$\\theta^j := \\theta_j + \\alpha(y^{(i)} - h_\\theta(x^{(i)}))x_j^{(i)}, \\text{ (for every $j$)  (1.2) }$$\n",
        " $\\}$\n",
        "\n",
        " $\\}$\n",
        "<br>\n",
        "By grouping the updates of the coordinates into an update of the vector \\theta, we can rewrite update (1.2) in a slightly more succing way:\n",
        "$$\\theta := \\theta + \\alpha(y^{(i)} - h_\\theta(x^{(i)}))x^{(i)}$$\n",
        "<br>\n",
        "In this algorithm, we repeatedly run through the training set, and each time we encounter a training example, we update the parameters according to the gradient of the error with respect to that single training examlpe only. This algorithm is called **stochastic gradient descent** (also **incremental gradient descent**). Whereas batch gradient descent has to scan through the entire training set before taking a single step$-$a cpst;u p[eratopm of n is large$-$stochastic gradient descent can start making progress right away and continues to ,make progress with each example it looks at. Often, stochastic gradient descent gets $\\theta$ \"close to the minimum much faster than batch gradient descent. (Note however that it may never \"converge\" to the minimum, and the parameters $\\theta$ will keep oscillating around the minimum of the $J(\\theta)$; but in practise most of the values near the minimum will be reasonably good approximations to the true minimum. By slowly letting the learning rate $\\alpha$ decrease to zero as the algorithm runs, it is also possible to ensure that the parameters will converge to the global minimum rather than merely oscillate around the minimum.) For these reasons, particularly when the training set is large, stochastic gradient descent is often preferred voer batch gradient descent.\n",
        "\n"
      ],
      "metadata": {
        "id": "hv4CWDISaP6S"
      }
    },
    {
      "cell_type": "markdown",
      "source": [
        "# Python Implementation"
      ],
      "metadata": {
        "id": "0bz3-aewODwM"
      }
    },
    {
      "cell_type": "code",
      "source": [
        "from google.colab import drive\n",
        "drive.mount('/content/drive')"
      ],
      "metadata": {
        "colab": {
          "base_uri": "https://localhost:8080/"
        },
        "id": "TnDXTTEQFpcc",
        "outputId": "6bf1862a-a071-45c4-ac71-54a6354e8fb5"
      },
      "execution_count": 1,
      "outputs": [
        {
          "output_type": "stream",
          "name": "stdout",
          "text": [
            "Mounted at /content/drive\n"
          ]
        }
      ]
    },
    {
      "cell_type": "code",
      "source": [
        "cd /content/drive/MyDrive/files"
      ],
      "metadata": {
        "colab": {
          "base_uri": "https://localhost:8080/"
        },
        "id": "wOflmV8PJ7Nk",
        "outputId": "a1b8c26a-fe3b-4d9e-856b-fcf318c804ba"
      },
      "execution_count": 2,
      "outputs": [
        {
          "output_type": "stream",
          "name": "stdout",
          "text": [
            "/content/drive/MyDrive/files\n"
          ]
        }
      ]
    },
    {
      "cell_type": "code",
      "source": [
        "ls"
      ],
      "metadata": {
        "colab": {
          "base_uri": "https://localhost:8080/"
        },
        "id": "p81ecDR8KF58",
        "outputId": "68b28092-f38a-4e73-8b5d-16d513f9bf11"
      },
      "execution_count": 3,
      "outputs": [
        {
          "output_type": "stream",
          "name": "stdout",
          "text": [
            "imdb_data.csv  Used_Car_Dataset.csv  yelp.csv\n"
          ]
        }
      ]
    },
    {
      "cell_type": "code",
      "execution_count": 4,
      "metadata": {
        "id": "krOOiagSDPK8"
      },
      "outputs": [],
      "source": [
        "import numpy as np\n",
        "import pandas as pd\n",
        "import matplotlib.pyplot as plt\n",
        "plt.rcParams['figure.figsize'] = (12.0, 9.0)"
      ]
    },
    {
      "cell_type": "code",
      "source": [
        "df = pd.read_csv(\"Used_Car_Dataset.csv\")\n",
        "df.info()"
      ],
      "metadata": {
        "colab": {
          "base_uri": "https://localhost:8080/"
        },
        "id": "t9drSqCvFzwe",
        "outputId": "04d98c58-151c-4cb6-eb74-888a8fb213c3"
      },
      "execution_count": 252,
      "outputs": [
        {
          "output_type": "stream",
          "name": "stdout",
          "text": [
            "<class 'pandas.core.frame.DataFrame'>\n",
            "RangeIndex: 1553 entries, 0 to 1552\n",
            "Data columns (total 15 columns):\n",
            " #   Column              Non-Null Count  Dtype  \n",
            "---  ------              --------------  -----  \n",
            " 0   Unnamed: 0          1553 non-null   int64  \n",
            " 1   car_name            1553 non-null   object \n",
            " 2   registration_year   1553 non-null   object \n",
            " 3   insurance_validity  1553 non-null   object \n",
            " 4   fuel_type           1553 non-null   object \n",
            " 5   seats               1553 non-null   int64  \n",
            " 6   kms_driven          1553 non-null   int64  \n",
            " 7   ownsership          1553 non-null   object \n",
            " 8   transmission        1553 non-null   object \n",
            " 9   manufacturing_year  1553 non-null   object \n",
            " 10  mileage(kmpl)       1550 non-null   float64\n",
            " 11  engine(cc)          1550 non-null   float64\n",
            " 12  max_power(bhp)      1550 non-null   float64\n",
            " 13  torque(Nm)          1549 non-null   float64\n",
            " 14  price(in lakhs)     1553 non-null   float64\n",
            "dtypes: float64(5), int64(3), object(7)\n",
            "memory usage: 182.1+ KB\n"
          ]
        }
      ]
    },
    {
      "cell_type": "code",
      "source": [
        "# drop all other columsn except mileage(kmpl), engine(cc), max_power(bhp), torque(Nm), price(in lakhs)\n",
        "# sort the dataframe based on the price(in lakhs) column and only 100 samples are choosen\n",
        "df = df[:100]\n",
        "df = df[['kms_driven','mileage(kmpl)', 'engine(cc)', 'max_power(bhp)', 'torque(Nm)', 'price(in lakhs)']]\n",
        "df['kms_driven'] = df['kms_driven']/1000\n",
        "df.info()"
      ],
      "metadata": {
        "id": "sypAS6qKML7-",
        "colab": {
          "base_uri": "https://localhost:8080/"
        },
        "outputId": "3c75673a-0a16-4a35-e2a3-4533339b9ca4"
      },
      "execution_count": 253,
      "outputs": [
        {
          "output_type": "stream",
          "name": "stdout",
          "text": [
            "<class 'pandas.core.frame.DataFrame'>\n",
            "RangeIndex: 100 entries, 0 to 99\n",
            "Data columns (total 6 columns):\n",
            " #   Column           Non-Null Count  Dtype  \n",
            "---  ------           --------------  -----  \n",
            " 0   kms_driven       100 non-null    float64\n",
            " 1   mileage(kmpl)    100 non-null    float64\n",
            " 2   engine(cc)       100 non-null    float64\n",
            " 3   max_power(bhp)   100 non-null    float64\n",
            " 4   torque(Nm)       100 non-null    float64\n",
            " 5   price(in lakhs)  100 non-null    float64\n",
            "dtypes: float64(6)\n",
            "memory usage: 4.8 KB\n"
          ]
        }
      ]
    },
    {
      "cell_type": "code",
      "source": [
        "# to replicate the values across, lets set the random seed\n",
        "np.random.seed(seed=123456)"
      ],
      "metadata": {
        "id": "IRyB0gy9Q2YM"
      },
      "execution_count": 254,
      "outputs": []
    },
    {
      "cell_type": "code",
      "source": [
        "# lets create random θ vector, which is 5 dimensions\n",
        "t = np.random.rand"
      ],
      "metadata": {
        "id": "0XX0hnxN2eCy"
      },
      "execution_count": 255,
      "outputs": []
    },
    {
      "cell_type": "code",
      "source": [
        "# segregate the dataframe based on the\n",
        "\n",
        "X = df[['kms_driven','mileage(kmpl)', 'engine(cc)', 'max_power(bhp)', 'torque(Nm)']].to_numpy()\n",
        "y = df[['price(in lakhs)']].to_numpy()\n",
        "#We then need to add a feature of “1” concatenating it with the dataset we already have and also add q to the vector m.\n",
        "X = np.concatenate([X , np.ones((X.shape[0],1))], axis = 1)"
      ],
      "metadata": {
        "id": "rKtICuB72hAv"
      },
      "execution_count": 256,
      "outputs": []
    },
    {
      "cell_type": "code",
      "source": [
        "X.shape"
      ],
      "metadata": {
        "colab": {
          "base_uri": "https://localhost:8080/"
        },
        "id": "6gvBPRq78YlS",
        "outputId": "3aa3ceac-a3a5-43e3-9f73-52a38eaffe72"
      },
      "execution_count": 257,
      "outputs": [
        {
          "output_type": "execute_result",
          "data": {
            "text/plain": [
              "(100, 6)"
            ]
          },
          "metadata": {},
          "execution_count": 257
        }
      ]
    },
    {
      "cell_type": "code",
      "source": [
        "X[0]"
      ],
      "metadata": {
        "colab": {
          "base_uri": "https://localhost:8080/"
        },
        "id": "IZGagvxU8ZKn",
        "outputId": "2191c6d2-10ac-4cd5-9fda-c867313d462d"
      },
      "execution_count": 258,
      "outputs": [
        {
          "output_type": "execute_result",
          "data": {
            "text/plain": [
              "array([5.600e+01, 7.810e+00, 2.996e+03, 2.996e+03, 3.330e+02, 1.000e+00])"
            ]
          },
          "metadata": {},
          "execution_count": 258
        }
      ]
    },
    {
      "cell_type": "code",
      "source": [
        "X.shape"
      ],
      "metadata": {
        "colab": {
          "base_uri": "https://localhost:8080/"
        },
        "id": "fQ_d11fXLBwf",
        "outputId": "c87776d5-73c5-41ee-af84-d0e4bbd86176"
      },
      "execution_count": 259,
      "outputs": [
        {
          "output_type": "execute_result",
          "data": {
            "text/plain": [
              "(100, 6)"
            ]
          },
          "metadata": {},
          "execution_count": 259
        }
      ]
    },
    {
      "cell_type": "code",
      "source": [
        "m = np.random.rand(5,1)"
      ],
      "metadata": {
        "id": "HXaGJluAEEGn"
      },
      "execution_count": 260,
      "outputs": []
    },
    {
      "cell_type": "code",
      "source": [
        "m.shape"
      ],
      "metadata": {
        "colab": {
          "base_uri": "https://localhost:8080/"
        },
        "id": "3KNc1i8mEMzn",
        "outputId": "bd4d2055-bfef-4cdc-d664-24c1ac8f4eca"
      },
      "execution_count": 261,
      "outputs": [
        {
          "output_type": "execute_result",
          "data": {
            "text/plain": [
              "(5, 1)"
            ]
          },
          "metadata": {},
          "execution_count": 261
        }
      ]
    },
    {
      "cell_type": "code",
      "source": [
        "q = np.random.rand(1)\n",
        "m = np.concatenate([m,q.reshape(1,-1)],axis = 0)"
      ],
      "metadata": {
        "id": "VQipMmj8ENLe"
      },
      "execution_count": 262,
      "outputs": []
    },
    {
      "cell_type": "code",
      "source": [
        "m"
      ],
      "metadata": {
        "colab": {
          "base_uri": "https://localhost:8080/"
        },
        "id": "72O3u64bEXC-",
        "outputId": "9dc1392c-bc04-4f98-efcc-a8dea1ce6369"
      },
      "execution_count": 263,
      "outputs": [
        {
          "output_type": "execute_result",
          "data": {
            "text/plain": [
              "array([[0.12696983],\n",
              "       [0.96671784],\n",
              "       [0.26047601],\n",
              "       [0.89723652],\n",
              "       [0.37674972],\n",
              "       [0.33622174]])"
            ]
          },
          "metadata": {},
          "execution_count": 263
        }
      ]
    },
    {
      "cell_type": "code",
      "source": [
        "def mean_squared_error(X, y, m_stat):\n",
        "    y_pred = X @ m_stat\n",
        "    mse = np.sum(((y_pred - y)**2), axis = 0)/len(X)\n",
        "    print(mse, \"mse\")\n",
        "    return mse"
      ],
      "metadata": {
        "id": "hkv45xyKEf5s"
      },
      "execution_count": 264,
      "outputs": []
    },
    {
      "cell_type": "code",
      "source": [
        "def root_mean_squared_error(X, y, m_stat):\n",
        "    y_pred = X @ m_stat\n",
        "    rmse = (np.sum(((y_pred - y)**2), axis = 0)/len(X))**(1/2)\n",
        "    print(rmse, \"rmse\")\n",
        "    return rmse"
      ],
      "metadata": {
        "id": "QOyZ1sh5SlHB"
      },
      "execution_count": 265,
      "outputs": []
    },
    {
      "cell_type": "code",
      "source": [
        "def partial_derivative(X_batch, y_batch, m_stat):\n",
        "    print(\"print\")\n",
        "    y_pred = X_batch @ m_stat\n",
        "    print(y_pred,\"y_pred\")\n",
        "    n = len(X_batch)\n",
        "\n",
        "    df_dh = -(2/n) * (X_batch.T @ (y_batch - y_pred))\n",
        "    df_dh = df_dh.reshape(len(df_dh), -1)\n",
        "    print(df_dh, \"partial\")\n",
        "    return df_dh"
      ],
      "metadata": {
        "id": "kBJ1EFaJI7c9"
      },
      "execution_count": 267,
      "outputs": []
    },
    {
      "cell_type": "code",
      "source": [
        "def training(X, y, batch_size, lr, epochs):\n",
        "\n",
        "    for epoch in range(epochs):\n",
        "\n",
        "        # random initial statistics\n",
        "        if epoch == 0:\n",
        "            m_stat = np.random.rand(X.shape[1], 1)\n",
        "\n",
        "        # shuffle X and y using same permutation\n",
        "        indices = np.arange(X.shape[0])\n",
        "        np.random.shuffle(indices)\n",
        "\n",
        "        X = X[indices]\n",
        "        y = y[indices]\n",
        "\n",
        "        # store cumulative derivative\n",
        "        cumulative_derivative = np.zeros((X.shape[1], 1))\n",
        "        # parti=partial_derivative(X, y, m_stat)\n",
        "        # print(parti, \"parti\")\n",
        "        # m_stat = m_stat - (lr * parti)\n",
        "        # print(m_stat)\n",
        "        for batch in range(len(X)//batch_size):\n",
        "            start = batch*batch_size\n",
        "            stop = (batch*batch_size) + batch_size\n",
        "\n",
        "            X_batch = X[start:stop]\n",
        "            y_batch = y[start:stop]\n",
        "            # print(X_batch.shape, \"X_batch\")\n",
        "            # print(y_batch.shape, \"y_batch\")\n",
        "            #derivative\n",
        "            parti = partial_derivative(X_batch, y_batch, m_stat)\n",
        "\n",
        "            cumulative_derivative = cumulative_derivative + parti\n",
        "\n",
        "            #updating rule\n",
        "            m_stat = m_stat - (lr * cumulative_derivative)\n",
        "\n",
        "        print(f\"epoch: {epoch} ----> MSE: {root_mean_squared_error(X, y, m_stat)}\")\n"
      ],
      "metadata": {
        "id": "kUcKLgWKGGoX"
      },
      "execution_count": 268,
      "outputs": []
    },
    {
      "cell_type": "code",
      "source": [
        "batch_size = 25\n",
        "lr = 0.01\n",
        "epochs = 1\n",
        "\n",
        "m_stat = training(X,y, batch_size,lr,epochs)\n",
        "m_stat"
      ],
      "metadata": {
        "colab": {
          "base_uri": "https://localhost:8080/"
        },
        "id": "2KQd59-IJhzP",
        "outputId": "a96e13fe-216b-4873-97b0-7997ea83c9ba"
      },
      "execution_count": 270,
      "outputs": [
        {
          "output_type": "stream",
          "name": "stdout",
          "text": [
            "print\n",
            "[[ 1656.08440431]\n",
            " [11511.50666794]\n",
            " [ 3187.11665196]\n",
            " [ 1609.10205366]\n",
            " [ 6143.81649617]\n",
            " [ 3588.32161176]\n",
            " [ 1228.84399979]\n",
            " [ 9999.39214984]\n",
            " [  654.79681455]\n",
            " [ 9999.39214984]\n",
            " [ 1120.59280012]\n",
            " [ 6122.38732303]\n",
            " [ 6121.63986174]\n",
            " [ 7909.74694887]\n",
            " [ 1093.3849779 ]\n",
            " [12870.62539779]\n",
            " [17709.63819027]\n",
            " [  691.48517445]\n",
            " [ 1656.08440431]\n",
            " [11548.63035549]\n",
            " [14519.12354777]\n",
            " [ 1533.97759511]\n",
            " [ 1658.3329859 ]\n",
            " [  784.65597992]\n",
            " [  717.79101498]] y_pred\n",
            "[[4.01356083e+05]\n",
            " [5.47297847e+05]\n",
            " [1.86151136e+07]\n",
            " [1.86151136e+07]\n",
            " [1.48348832e+08]\n",
            " [1.08156016e+04]] partial\n",
            "print\n",
            "[[-6.72233295e+08]\n",
            " [-1.56143701e+09]\n",
            " [-1.02494171e+09]\n",
            " [-3.89101940e+10]\n",
            " [-1.73834047e+10]\n",
            " [-1.56143701e+09]\n",
            " [-1.76251438e+09]\n",
            " [-1.35754174e+10]\n",
            " [-1.82632752e+10]\n",
            " [-2.09878859e+10]\n",
            " [-1.82632752e+10]\n",
            " [-2.43597736e+09]\n",
            " [-1.00707523e+09]\n",
            " [-4.71493849e+08]\n",
            " [-1.73270013e+09]\n",
            " [-1.79288011e+10]\n",
            " [-2.12232926e+09]\n",
            " [-2.29789847e+09]\n",
            " [-1.25808993e+10]\n",
            " [-1.35746873e+10]\n",
            " [-1.62733380e+10]\n",
            " [-2.11026626e+10]\n",
            " [-1.02184737e+09]\n",
            " [-4.71493849e+08]\n",
            " [-5.53466429e+08]] y_pred\n",
            "[[-7.05618690e+11]\n",
            " [-3.98235812e+11]\n",
            " [-3.11197241e+13]\n",
            " [-3.11197241e+13]\n",
            " [-2.35570771e+14]\n",
            " [-1.82032549e+10]] partial\n",
            "print\n",
            "[[9.16178193e+14]\n",
            " [2.78880040e+15]\n",
            " [4.54513843e+16]\n",
            " [2.95209063e+16]\n",
            " [3.70239924e+16]\n",
            " [2.60409042e+15]\n",
            " [2.15944253e+16]\n",
            " [5.82609640e+15]\n",
            " [3.30183833e+15]\n",
            " [3.69562262e+15]\n",
            " [3.70239924e+16]\n",
            " [1.67604729e+15]\n",
            " [5.96840663e+16]\n",
            " [6.33897785e+14]\n",
            " [4.54513843e+16]\n",
            " [1.09122440e+15]\n",
            " [2.15931752e+16]\n",
            " [2.60409042e+15]\n",
            " [1.16766922e+15]\n",
            " [3.41677651e+15]\n",
            " [1.61822249e+15]\n",
            " [3.35779186e+16]\n",
            " [5.18926022e+16]\n",
            " [2.00291390e+16]\n",
            " [3.84829767e+15]] y_pred\n",
            "[[1.40001075e+18]\n",
            " [7.49846614e+17]\n",
            " [6.40823094e+19]\n",
            " [6.40823094e+19]\n",
            " [5.46003361e+20]\n",
            " [3.50425471e+16]] partial\n",
            "print\n",
            "[[-2.15753242e+22]\n",
            " [-4.62306548e+22]\n",
            " [-1.77417722e+22]\n",
            " [-1.30235084e+22]\n",
            " [-5.90048731e+22]\n",
            " [-1.12328129e+23]\n",
            " [-6.07236085e+21]\n",
            " [-1.98249810e+21]\n",
            " [-1.99938457e+21]\n",
            " [-3.58441852e+21]\n",
            " [-1.99975989e+21]\n",
            " [-5.51331878e+22]\n",
            " [-2.15753242e+22]\n",
            " [-4.62306548e+22]\n",
            " [-6.07181578e+21]\n",
            " [-6.38476106e+22]\n",
            " [-8.66291317e+21]\n",
            " [-1.19954828e+23]\n",
            " [-3.43579100e+21]\n",
            " [-6.07236085e+21]\n",
            " [-3.56376892e+21]\n",
            " [-8.78969932e+21]\n",
            " [-8.95344225e+22]\n",
            " [-7.90983103e+21]\n",
            " [-6.07181578e+21]] y_pred\n",
            "[[-2.18458498e+24]\n",
            " [-8.99315447e+24]\n",
            " [-1.45317541e+26]\n",
            " [-1.45317541e+26]\n",
            " [-7.23706037e+26]\n",
            " [-5.85917365e+22]] partial\n",
            "[7.18776805e+28] rmse\n",
            "epoch: 0 ----> MSE: [7.18776805e+28]\n"
          ]
        }
      ]
    }
  ]
}
