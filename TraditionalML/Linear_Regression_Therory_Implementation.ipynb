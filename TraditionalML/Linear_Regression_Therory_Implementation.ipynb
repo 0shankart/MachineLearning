{
  "nbformat": 4,
  "nbformat_minor": 0,
  "metadata": {
    "colab": {
      "provenance": []
    },
    "kernelspec": {
      "name": "python3",
      "display_name": "Python 3"
    },
    "language_info": {
      "name": "python"
    }
  },
  "cells": [
    {
      "cell_type": "markdown",
      "source": [
        "\\begin{equation}  \\end{equation}\n",
        "1. $f(x) = 2x -5$"
      ],
      "metadata": {
        "id": "tKxdr-fuFbrY"
      }
    },
    {
      "cell_type": "code",
      "execution_count": null,
      "metadata": {
        "id": "krOOiagSDPK8"
      },
      "outputs": [],
      "source": []
    },
    {
      "cell_type": "code",
      "source": [
        "from google.colab import drive\n",
        "drive.mount('/content/drive')"
      ],
      "metadata": {
        "id": "TnDXTTEQFpcc"
      },
      "execution_count": null,
      "outputs": []
    },
    {
      "cell_type": "code",
      "source": [],
      "metadata": {
        "id": "t9drSqCvFzwe"
      },
      "execution_count": null,
      "outputs": []
    }
  ]
}
