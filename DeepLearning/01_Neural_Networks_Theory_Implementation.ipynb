{
  "nbformat": 4,
  "nbformat_minor": 0,
  "metadata": {
    "colab": {
      "provenance": []
    },
    "kernelspec": {
      "name": "python3",
      "display_name": "Python 3"
    },
    "language_info": {
      "name": "python"
    }
  },
  "cells": [
    {
      "cell_type": "markdown",
      "source": [
        "# Neural Networks\n",
        "\n"
      ],
      "metadata": {
        "id": "GCo5oKb7ZxPm"
      }
    },
    {
      "cell_type": "markdown",
      "source": [
        "  1. Dataset exploration\n",
        "  2. Neural Networks Explanation\n",
        "  3. Neural Networks Implementation\n",
        "  4. Training\n",
        "  5. Evaluation\n",
        "  \n",
        "\n",
        "\n"
      ],
      "metadata": {
        "id": "aA46047_Wq8V"
      }
    },
    {
      "cell_type": "markdown",
      "source": [
        "### Dataset"
      ],
      "metadata": {
        "id": "-0Kl19gVcHdz"
      }
    },
    {
      "cell_type": "markdown",
      "source": [
        "Lets talk about the dataset, I have downloaded [Used Car Price Dataset](https://www.kaggle.com/datasets/rishabhkarn/used-car-dataset) from Kaggle website. The dataset contains `13` feature/independent variables($x_i$) and a target/dependant variable($y$), from those 13 feature/independant variables, I will be using 5 feature/independent variables they are `kms_driven` ,`mileage(kmpl)`, `engine(cc)`, `max_power(bhp)` and `torque(Nm). ` and `price(in lakhs)` as the target variable.<br><br>\n",
        "\n",
        "\n",
        "kms_driven   | mileage(kmpl)| engine(cc) | max_power(bhp) | torque(Nm) | price(in lakhs)\n",
        "-------------|-------------|------------|----------------|------------|-------------\n",
        " 56000       |   7.81      |2996        |\t   2996        |     333    |       63.75\n",
        " 30615       |  17.4      |    999     |     999        |     9863   |       8.99\n",
        "24000        |  20.68     |    1995    |     1995       |      188   |       23.75\n",
        "18378        |  16.5      |    1353    |     1353       |     13808  |       13.56\n",
        "\n",
        "\n",
        "<br>\n",
        "<br>\n",
        "Here $x$'s are the five-dimensional vector in $\\mathbb{R}^5$. For instance, $X_1^{(i)}$ is the `kms_driven`, $x_2^{(i)}$ is the `mileage(kmpl)`, $x_3^{(i)}$ is the `engine(cc)`, $x_4$^{(i)} is the `max_power(bhp)`, and $x_5^{(i)}$ is the `torque(Nm)` of the $i$-th house in the training data\n"
      ],
      "metadata": {
        "id": "epKkB0i2a1z_"
      }
    },
    {
      "cell_type": "code",
      "execution_count": 1,
      "metadata": {
        "id": "1T1as4X6kwSc",
        "colab": {
          "base_uri": "https://localhost:8080/"
        },
        "outputId": "0c55cd02-2ee6-408f-fa11-7cbb0aed7176"
      },
      "outputs": [
        {
          "output_type": "stream",
          "name": "stdout",
          "text": [
            "Mounted at /content/drive\n"
          ]
        }
      ],
      "source": [
        "from google.colab import drive\n",
        "drive.mount('/content/drive')"
      ]
    },
    {
      "cell_type": "code",
      "source": [
        "cd /content/drive/MyDrive/files"
      ],
      "metadata": {
        "colab": {
          "base_uri": "https://localhost:8080/"
        },
        "id": "f7rGis3BGYcz",
        "outputId": "4b43f4dd-5371-4267-fd53-370a94736fcd"
      },
      "execution_count": 2,
      "outputs": [
        {
          "output_type": "stream",
          "name": "stdout",
          "text": [
            "/content/drive/MyDrive/files\n"
          ]
        }
      ]
    },
    {
      "cell_type": "code",
      "source": [
        "ls"
      ],
      "metadata": {
        "colab": {
          "base_uri": "https://localhost:8080/"
        },
        "id": "HG-02dhuGgnx",
        "outputId": "b9be88a9-db29-4b62-e6a1-c6017b9cf15d"
      },
      "execution_count": 3,
      "outputs": [
        {
          "output_type": "stream",
          "name": "stdout",
          "text": [
            "imdb_data.csv  iris.csv  Used_Car_Dataset.csv  yelp.csv\n"
          ]
        }
      ]
    },
    {
      "cell_type": "code",
      "source": [
        "import numpy as np\n",
        "import pandas as pd\n",
        "import matplotlib.pyplot as plt\n",
        "import time\n",
        "from sklearn.model_selection import train_test_split\n",
        "plt.rcParams['figure.figsize'] = (12.0, 9.0)"
      ],
      "metadata": {
        "id": "zSq92HUJGhP7"
      },
      "execution_count": 21,
      "outputs": []
    },
    {
      "cell_type": "code",
      "source": [
        "df = pd.read_csv(\"Used_Car_Dataset.csv\")\n",
        "df = df[['kms_driven','mileage(kmpl)', 'engine(cc)', 'max_power(bhp)', 'torque(Nm)', 'price(in lakhs)']]\n",
        "df = df.sample(frac=1).reset_index(drop=True)\n",
        "df[:5]"
      ],
      "metadata": {
        "colab": {
          "base_uri": "https://localhost:8080/",
          "height": 206
        },
        "id": "_xuFs5R1Gmg0",
        "outputId": "325269d1-c599-455a-ecf7-b4811c773fe0"
      },
      "execution_count": 5,
      "outputs": [
        {
          "output_type": "execute_result",
          "data": {
            "text/plain": [
              "   kms_driven  mileage(kmpl)    engine(cc)  max_power(bhp)  torque(Nm)  \\\n",
              "0       50000          18.00  1.497000e+03    1.497000e+03      1173.0   \n",
              "1       79097        1248.00  7.394000e+03    7.394000e+03       190.0   \n",
              "2       16000        2925.00  3.258640e+12    3.258640e+12       700.0   \n",
              "3       55000          20.36  1.197000e+03    1.197000e+03       789.0   \n",
              "4       64000          20.68  1.995000e+03    1.995000e+03       188.0   \n",
              "\n",
              "   price(in lakhs)  \n",
              "0             6.50  \n",
              "1             3.29  \n",
              "2             1.32  \n",
              "3             1.51  \n",
              "4            25.50  "
            ],
            "text/html": [
              "\n",
              "  <div id=\"df-b1f5bab7-1164-4b4a-aadf-100b4bb8b7f9\" class=\"colab-df-container\">\n",
              "    <div>\n",
              "<style scoped>\n",
              "    .dataframe tbody tr th:only-of-type {\n",
              "        vertical-align: middle;\n",
              "    }\n",
              "\n",
              "    .dataframe tbody tr th {\n",
              "        vertical-align: top;\n",
              "    }\n",
              "\n",
              "    .dataframe thead th {\n",
              "        text-align: right;\n",
              "    }\n",
              "</style>\n",
              "<table border=\"1\" class=\"dataframe\">\n",
              "  <thead>\n",
              "    <tr style=\"text-align: right;\">\n",
              "      <th></th>\n",
              "      <th>kms_driven</th>\n",
              "      <th>mileage(kmpl)</th>\n",
              "      <th>engine(cc)</th>\n",
              "      <th>max_power(bhp)</th>\n",
              "      <th>torque(Nm)</th>\n",
              "      <th>price(in lakhs)</th>\n",
              "    </tr>\n",
              "  </thead>\n",
              "  <tbody>\n",
              "    <tr>\n",
              "      <th>0</th>\n",
              "      <td>50000</td>\n",
              "      <td>18.00</td>\n",
              "      <td>1.497000e+03</td>\n",
              "      <td>1.497000e+03</td>\n",
              "      <td>1173.0</td>\n",
              "      <td>6.50</td>\n",
              "    </tr>\n",
              "    <tr>\n",
              "      <th>1</th>\n",
              "      <td>79097</td>\n",
              "      <td>1248.00</td>\n",
              "      <td>7.394000e+03</td>\n",
              "      <td>7.394000e+03</td>\n",
              "      <td>190.0</td>\n",
              "      <td>3.29</td>\n",
              "    </tr>\n",
              "    <tr>\n",
              "      <th>2</th>\n",
              "      <td>16000</td>\n",
              "      <td>2925.00</td>\n",
              "      <td>3.258640e+12</td>\n",
              "      <td>3.258640e+12</td>\n",
              "      <td>700.0</td>\n",
              "      <td>1.32</td>\n",
              "    </tr>\n",
              "    <tr>\n",
              "      <th>3</th>\n",
              "      <td>55000</td>\n",
              "      <td>20.36</td>\n",
              "      <td>1.197000e+03</td>\n",
              "      <td>1.197000e+03</td>\n",
              "      <td>789.0</td>\n",
              "      <td>1.51</td>\n",
              "    </tr>\n",
              "    <tr>\n",
              "      <th>4</th>\n",
              "      <td>64000</td>\n",
              "      <td>20.68</td>\n",
              "      <td>1.995000e+03</td>\n",
              "      <td>1.995000e+03</td>\n",
              "      <td>188.0</td>\n",
              "      <td>25.50</td>\n",
              "    </tr>\n",
              "  </tbody>\n",
              "</table>\n",
              "</div>\n",
              "    <div class=\"colab-df-buttons\">\n",
              "\n",
              "  <div class=\"colab-df-container\">\n",
              "    <button class=\"colab-df-convert\" onclick=\"convertToInteractive('df-b1f5bab7-1164-4b4a-aadf-100b4bb8b7f9')\"\n",
              "            title=\"Convert this dataframe to an interactive table.\"\n",
              "            style=\"display:none;\">\n",
              "\n",
              "  <svg xmlns=\"http://www.w3.org/2000/svg\" height=\"24px\" viewBox=\"0 -960 960 960\">\n",
              "    <path d=\"M120-120v-720h720v720H120Zm60-500h600v-160H180v160Zm220 220h160v-160H400v160Zm0 220h160v-160H400v160ZM180-400h160v-160H180v160Zm440 0h160v-160H620v160ZM180-180h160v-160H180v160Zm440 0h160v-160H620v160Z\"/>\n",
              "  </svg>\n",
              "    </button>\n",
              "\n",
              "  <style>\n",
              "    .colab-df-container {\n",
              "      display:flex;\n",
              "      gap: 12px;\n",
              "    }\n",
              "\n",
              "    .colab-df-convert {\n",
              "      background-color: #E8F0FE;\n",
              "      border: none;\n",
              "      border-radius: 50%;\n",
              "      cursor: pointer;\n",
              "      display: none;\n",
              "      fill: #1967D2;\n",
              "      height: 32px;\n",
              "      padding: 0 0 0 0;\n",
              "      width: 32px;\n",
              "    }\n",
              "\n",
              "    .colab-df-convert:hover {\n",
              "      background-color: #E2EBFA;\n",
              "      box-shadow: 0px 1px 2px rgba(60, 64, 67, 0.3), 0px 1px 3px 1px rgba(60, 64, 67, 0.15);\n",
              "      fill: #174EA6;\n",
              "    }\n",
              "\n",
              "    .colab-df-buttons div {\n",
              "      margin-bottom: 4px;\n",
              "    }\n",
              "\n",
              "    [theme=dark] .colab-df-convert {\n",
              "      background-color: #3B4455;\n",
              "      fill: #D2E3FC;\n",
              "    }\n",
              "\n",
              "    [theme=dark] .colab-df-convert:hover {\n",
              "      background-color: #434B5C;\n",
              "      box-shadow: 0px 1px 3px 1px rgba(0, 0, 0, 0.15);\n",
              "      filter: drop-shadow(0px 1px 2px rgba(0, 0, 0, 0.3));\n",
              "      fill: #FFFFFF;\n",
              "    }\n",
              "  </style>\n",
              "\n",
              "    <script>\n",
              "      const buttonEl =\n",
              "        document.querySelector('#df-b1f5bab7-1164-4b4a-aadf-100b4bb8b7f9 button.colab-df-convert');\n",
              "      buttonEl.style.display =\n",
              "        google.colab.kernel.accessAllowed ? 'block' : 'none';\n",
              "\n",
              "      async function convertToInteractive(key) {\n",
              "        const element = document.querySelector('#df-b1f5bab7-1164-4b4a-aadf-100b4bb8b7f9');\n",
              "        const dataTable =\n",
              "          await google.colab.kernel.invokeFunction('convertToInteractive',\n",
              "                                                    [key], {});\n",
              "        if (!dataTable) return;\n",
              "\n",
              "        const docLinkHtml = 'Like what you see? Visit the ' +\n",
              "          '<a target=\"_blank\" href=https://colab.research.google.com/notebooks/data_table.ipynb>data table notebook</a>'\n",
              "          + ' to learn more about interactive tables.';\n",
              "        element.innerHTML = '';\n",
              "        dataTable['output_type'] = 'display_data';\n",
              "        await google.colab.output.renderOutput(dataTable, element);\n",
              "        const docLink = document.createElement('div');\n",
              "        docLink.innerHTML = docLinkHtml;\n",
              "        element.appendChild(docLink);\n",
              "      }\n",
              "    </script>\n",
              "  </div>\n",
              "\n",
              "\n",
              "<div id=\"df-ccdb169f-eed4-4f92-9e81-5b544866463e\">\n",
              "  <button class=\"colab-df-quickchart\" onclick=\"quickchart('df-ccdb169f-eed4-4f92-9e81-5b544866463e')\"\n",
              "            title=\"Suggest charts\"\n",
              "            style=\"display:none;\">\n",
              "\n",
              "<svg xmlns=\"http://www.w3.org/2000/svg\" height=\"24px\"viewBox=\"0 0 24 24\"\n",
              "     width=\"24px\">\n",
              "    <g>\n",
              "        <path d=\"M19 3H5c-1.1 0-2 .9-2 2v14c0 1.1.9 2 2 2h14c1.1 0 2-.9 2-2V5c0-1.1-.9-2-2-2zM9 17H7v-7h2v7zm4 0h-2V7h2v10zm4 0h-2v-4h2v4z\"/>\n",
              "    </g>\n",
              "</svg>\n",
              "  </button>\n",
              "\n",
              "<style>\n",
              "  .colab-df-quickchart {\n",
              "      --bg-color: #E8F0FE;\n",
              "      --fill-color: #1967D2;\n",
              "      --hover-bg-color: #E2EBFA;\n",
              "      --hover-fill-color: #174EA6;\n",
              "      --disabled-fill-color: #AAA;\n",
              "      --disabled-bg-color: #DDD;\n",
              "  }\n",
              "\n",
              "  [theme=dark] .colab-df-quickchart {\n",
              "      --bg-color: #3B4455;\n",
              "      --fill-color: #D2E3FC;\n",
              "      --hover-bg-color: #434B5C;\n",
              "      --hover-fill-color: #FFFFFF;\n",
              "      --disabled-bg-color: #3B4455;\n",
              "      --disabled-fill-color: #666;\n",
              "  }\n",
              "\n",
              "  .colab-df-quickchart {\n",
              "    background-color: var(--bg-color);\n",
              "    border: none;\n",
              "    border-radius: 50%;\n",
              "    cursor: pointer;\n",
              "    display: none;\n",
              "    fill: var(--fill-color);\n",
              "    height: 32px;\n",
              "    padding: 0;\n",
              "    width: 32px;\n",
              "  }\n",
              "\n",
              "  .colab-df-quickchart:hover {\n",
              "    background-color: var(--hover-bg-color);\n",
              "    box-shadow: 0 1px 2px rgba(60, 64, 67, 0.3), 0 1px 3px 1px rgba(60, 64, 67, 0.15);\n",
              "    fill: var(--button-hover-fill-color);\n",
              "  }\n",
              "\n",
              "  .colab-df-quickchart-complete:disabled,\n",
              "  .colab-df-quickchart-complete:disabled:hover {\n",
              "    background-color: var(--disabled-bg-color);\n",
              "    fill: var(--disabled-fill-color);\n",
              "    box-shadow: none;\n",
              "  }\n",
              "\n",
              "  .colab-df-spinner {\n",
              "    border: 2px solid var(--fill-color);\n",
              "    border-color: transparent;\n",
              "    border-bottom-color: var(--fill-color);\n",
              "    animation:\n",
              "      spin 1s steps(1) infinite;\n",
              "  }\n",
              "\n",
              "  @keyframes spin {\n",
              "    0% {\n",
              "      border-color: transparent;\n",
              "      border-bottom-color: var(--fill-color);\n",
              "      border-left-color: var(--fill-color);\n",
              "    }\n",
              "    20% {\n",
              "      border-color: transparent;\n",
              "      border-left-color: var(--fill-color);\n",
              "      border-top-color: var(--fill-color);\n",
              "    }\n",
              "    30% {\n",
              "      border-color: transparent;\n",
              "      border-left-color: var(--fill-color);\n",
              "      border-top-color: var(--fill-color);\n",
              "      border-right-color: var(--fill-color);\n",
              "    }\n",
              "    40% {\n",
              "      border-color: transparent;\n",
              "      border-right-color: var(--fill-color);\n",
              "      border-top-color: var(--fill-color);\n",
              "    }\n",
              "    60% {\n",
              "      border-color: transparent;\n",
              "      border-right-color: var(--fill-color);\n",
              "    }\n",
              "    80% {\n",
              "      border-color: transparent;\n",
              "      border-right-color: var(--fill-color);\n",
              "      border-bottom-color: var(--fill-color);\n",
              "    }\n",
              "    90% {\n",
              "      border-color: transparent;\n",
              "      border-bottom-color: var(--fill-color);\n",
              "    }\n",
              "  }\n",
              "</style>\n",
              "\n",
              "  <script>\n",
              "    async function quickchart(key) {\n",
              "      const quickchartButtonEl =\n",
              "        document.querySelector('#' + key + ' button');\n",
              "      quickchartButtonEl.disabled = true;  // To prevent multiple clicks.\n",
              "      quickchartButtonEl.classList.add('colab-df-spinner');\n",
              "      try {\n",
              "        const charts = await google.colab.kernel.invokeFunction(\n",
              "            'suggestCharts', [key], {});\n",
              "      } catch (error) {\n",
              "        console.error('Error during call to suggestCharts:', error);\n",
              "      }\n",
              "      quickchartButtonEl.classList.remove('colab-df-spinner');\n",
              "      quickchartButtonEl.classList.add('colab-df-quickchart-complete');\n",
              "    }\n",
              "    (() => {\n",
              "      let quickchartButtonEl =\n",
              "        document.querySelector('#df-ccdb169f-eed4-4f92-9e81-5b544866463e button');\n",
              "      quickchartButtonEl.style.display =\n",
              "        google.colab.kernel.accessAllowed ? 'block' : 'none';\n",
              "    })();\n",
              "  </script>\n",
              "</div>\n",
              "\n",
              "    </div>\n",
              "  </div>\n"
            ]
          },
          "metadata": {},
          "execution_count": 5
        }
      ]
    },
    {
      "cell_type": "markdown",
      "source": [
        "###Neural Networks Explanation & Implementation"
      ],
      "metadata": {
        "id": "wwWySoDlct6D"
      }
    },
    {
      "cell_type": "markdown",
      "source": [
        "Neural networks refer to broad type of non-linear models/parametrizations $h_\\theta(x)$ tht involve combinations of matrix multiplications and other entry-wise non-linear operations. We will start small and slowly build up a neural network, step by step\n",
        "\n",
        "**Neural Network with a Single Neuron.**\n",
        "We define a parameterized function $h_\\theta(x)$ with input  x, parameterized by $\\theta$, which outpus the price of the house $y$. Formally, $h_\\theta : x \\to y$. Perhaps one of the simplest parametrization would be\n",
        "$$h_\\theta(x) = max(wx + b, 0), \\quad\\text{where } \\theta = (w, b) \\in \\mathbb{R}^2$$\n",
        "\n",
        "Here $h_\\theta(x)$ returns a single value: $(wx + b)$ or zero, whichever is greater. In the context of neural networks, the function max$\\{t, 0\\}$ is called ReLU (pronounced \"ray-lu\"), or rectified linear unit, and often denoted by ReLU$(t) \\triangleq \\text{max}\\{t, 0\\}$.\n",
        "<br>\n",
        "Generally, a one-dimensional non-linear function that maps $\\mathbb{R}$ to $\\mathbb{R}$ such as ReLU is often referred to as an **activation function**. The model $h_\\theta(x)$ is said to have a singel neuron partly because it has a single non-liear activation function.<br>\n",
        "\n",
        "When the input $x \\in \\mathbb{R}^d$ has mulitple dimensions, a neural network with a single neuron can be written as\n",
        "$$\\begin{align} h_\\theta(x) = \\text{ReLU}(w^Tx + b), \\quad\\text{where } w \\in \\mathbb{R}^d, b \\in \\mathbb{R}, \\text{ and } \\theta = (w, b) \\tag{nn.7}\n",
        "\\end{align}$$\n",
        "The term $b$ is often referred to as the \"bias\", and the vector $w$ is referred to as the weight vector. Such a neural network has 1 layer.<br>\n",
        "\n",
        "**Stacking Neurons.**\n",
        "A more complex neural network may take the single neuron described above and \"stack\" them together such that one neuron passes its output as input into the next neuron, resulting in a more complex function.\n",
        "\n",
        "Let us now deepen the house prediction example. In addition to the size of the house, suppose that you know the number of bedrooms, the zip code and the wealth of the neigjborhood. Building neural networks is analogous to Lego bricks: you take individual bricks and stack them together to build complex structures. The same applied to neural networks: we take individual neurons and stack them together to create complex neural networks.\n",
        "\n",
        "Given these features(size, number of bedrooms, zip code, adn wealth), we might then decide that the price of the house depends on the maximum family size it can accommodate. Suppose the family size is a function of the size of the house and number of bedrooms. The zip code may provide additional information such as how walkable the neighborhood is (i.e., can you walk to the grocery store or do you need o drive everywhere). Combining the zip code with the wealth of the neighborhood may predict the quality of the local  elementary school. Given these three derived features(family size, walkable, school quality), we may conclude that the price of the home ultimately depends on these three features.\n",
        "<br>\n",
        "\n",
        "Formally, the input to a neural network is a set of input features $x_1, x_2,x_3,x_4$. We denote the intermediate variables for \"family size\", \"walkable\", and \"school quality\" by $a_1, a_2, a_3$ (these $a_i$'s as a neural network with a single neuron with a subset of $x_1,\\cdots,x_4$ as inputs. Then we will have the parameterizaion:<br>\n",
        "$$\\begin{align*}\n",
        "a_1 &= \\text{ReLU}(\\theta_1x_1 + \\theta_2x_2 + \\theta_3) \\\\\n",
        "a_2 &= \\text{ReLU}(\\theta_4x_3 + \\theta_5) \\\\\n",
        "a_3 &= \\text{ReLU}(\\theta_6x_3 + \\theta_7x_4 + \\theta_8)\n",
        "\\end{align*}$$\n",
        "where $(\\theta_1, \\theta_2,\\cdots,\\theta_8)$ are parameters. Now we represetnt the final output $h_\\theta(x)$ as another linear function with $a_1, a_2, a_3$ as inputs, and we get:\n",
        "$$h_\\theta(x) = \\theta_9a_1 + \\theta_{10}a_2 + \\theta_{11}a_3 + \\theta_{12} \\tag{nn.8}$$\n",
        "where $\\theta$ contains all the parameters $(\\theta_1,...,\\theta_{12})$.<br>\n",
        "Now we represent the output as a quite complex function of $x$ with parameters $\\theta$. Then you can use this parametrization $h_\\theta$ with the machinery to learn the parameters $\\theta$.\n",
        "\n",
        "\n",
        "\n",
        "\n",
        "\n"
      ],
      "metadata": {
        "id": "q4tLr5eQdHHW"
      }
    },
    {
      "cell_type": "markdown",
      "source": [
        "**Two-layer Fully-Connected Neural Networks.**\n",
        "In the equation $(nn.8)$, based on the prior knowledge we have constructed \"family size\", \"walkable\" and \"school quality\" features based on the inputs. Such a prior knowledge might not be available for other applications. To make it more flexible and general to have a generic parameterization and can be written as intermediate variable $a_1$ as a function of all $x_1,\\cdots,x_4$. <br>\n",
        "$$\\begin{align*}\n",
        "a_1 &= \\text{ReLU}(w_1^Tx + b_1),\\quad\\text{where } w_1 \\in \\mathbb{R}^4 \\text{ and  } b_1 \\in \\mathbb{R} \\tag{nn.9}\\\\\n",
        "a_2 &= \\text{ReLU}(w_2^Tx + b_2),\\quad \\text{where } w_2 \\in \\mathbb{R}^4 \\text{ and  } b_2 \\in \\mathbb{R} \\\\\n",
        "a_3 &= \\text{ReLU}(w_3^Tx + b_3),\\quad \\text{where } w_3 \\in \\mathbb{R}^4 \\text{ and  } b_3 \\in \\mathbb{R}\n",
        "\\end{align*}$$\n",
        "\n",
        "Now $h_\\theta(x)$ is defined similar to equation $(\\text{nn}.8)$ and we have a **fully-connected neural network** where the intermediate $a_i$'s depend on all the inputs $x_i$'s.<br>\n",
        "\n",
        "To fully generalize a two-layer fully-connected neural network with $m$ hidden units and $d$ dimentionsa input $x \\in \\mathbb{R}^d $ is define as\n",
        "$$\\begin{align*}\n",
        "\\forall j \\in [1,\\cdots,m], \\quad z_j &j = w_{j}^{[1]^T} x + b_j^{[1]} \\quad \\text{where } w_j^{[1]} \\in \\mathbb{R}^d, b_j^{[1]} \\in R \\tag{nn.10}\\\\\n",
        "a_j &= \\text{ReLU}(z_j), \\\\\n",
        "a &= [a_1,\\cdots,a_m]^T \\in \\mathbb{R}^m\\\\\n",
        "h\\theta(x) &= w^{[2]^T}a + b^{[2]} \\quad \\text{where } w^{[2]} \\in \\mathbb{R}^m,\\; b^{[2]} \\in \\mathbb{R} \\tag{nn.11}\n",
        "\\end{align*}$$\n",
        "Note that by deafult the vectors in $\\mathbb{R}^d$ are views as column vectors, and in particular $a$ is a column vector with components $a_1, a_2,\\cdots,a_m$. The indices ${}^{[1]}$ and ${}^{[2]}$ are used to distinguish two sets of parametes: the $w_j^{[1]}$'s (each of which is a vector in $\\mathbb{R}^d$) and $w^{[2]}$ (which is a vector in $\\mathbb{R}^m$<br>\n",
        "\n",
        "**Vectorization.**\n"
      ],
      "metadata": {
        "id": "ELdLmAhM1RIN"
      }
    },
    {
      "cell_type": "markdown",
      "source": [
        "### Python Implementation"
      ],
      "metadata": {
        "id": "jMkJ3CsMbSKq"
      }
    },
    {
      "cell_type": "code",
      "source": [
        "X = df[['kms_driven','mileage(kmpl)', 'engine(cc)', 'max_power(bhp)', 'torque(Nm)']].to_numpy()\n",
        "y = df[['price(in lakhs)']].to_numpy()"
      ],
      "metadata": {
        "id": "9BXD7XIOaqQ2"
      },
      "execution_count": 6,
      "outputs": []
    },
    {
      "cell_type": "code",
      "source": [
        "X_train, X_test, y_train, y_test = train_test_split(X, y, test_size=0.15, random_state=42)"
      ],
      "metadata": {
        "id": "Dexul8-f-VER"
      },
      "execution_count": 7,
      "outputs": []
    },
    {
      "cell_type": "code",
      "source": [
        "X_test.shape, y_test.shape"
      ],
      "metadata": {
        "colab": {
          "base_uri": "https://localhost:8080/"
        },
        "id": "xDxL0rz_J65-",
        "outputId": "e9ac6856-30e0-4e4e-8ba7-68836ce3a1c9"
      },
      "execution_count": 8,
      "outputs": [
        {
          "output_type": "execute_result",
          "data": {
            "text/plain": [
              "((233, 5), (233, 1))"
            ]
          },
          "metadata": {},
          "execution_count": 8
        }
      ]
    },
    {
      "cell_type": "code",
      "source": [
        "# define inputs, hidden layer size\n",
        "input_layer = 5\n",
        "hidden_1 = 10\n",
        "hidden_2 = 5\n",
        "hidden_3 = 7\n",
        "output_layer = 1"
      ],
      "metadata": {
        "id": "v-P--nVrO7Qs"
      },
      "execution_count": 9,
      "outputs": []
    },
    {
      "cell_type": "code",
      "source": [
        "cache = {}"
      ],
      "metadata": {
        "id": "LDQqolFRrjsh"
      },
      "execution_count": 10,
      "outputs": []
    },
    {
      "cell_type": "code",
      "source": [
        "def sigmoid(x, derivative=False):\n",
        "    if derivative:\n",
        "        return (np.exp(-x))/((np.exp(-x)+1)**2)\n",
        "    return 1/(1 + np.exp(-x))\n"
      ],
      "metadata": {
        "id": "u_GUNuFkRGyx"
      },
      "execution_count": 16,
      "outputs": []
    },
    {
      "cell_type": "code",
      "source": [
        "### I'm creating four layer network where three are hidden layer and last is output layer\n",
        "params = {\n",
        "    'W1': np.random.randn(hidden_1, input_layer),\n",
        "    'b1': np.random.randn(hidden_1, 1),\n",
        "    'W2': np.random.randn(hidden_2, hidden_1),\n",
        "    'b2': np.random.randn(hidden_2, 1),\n",
        "    'W3': np.random.randn(hidden_3, hidden_2),\n",
        "    'b3': np.random.randn(hidden_3, 1),\n",
        "    'W4': np.random.randn(output_layer, hidden_3),\n",
        "    'b4': np.random.randn(output_layer, 1),\n",
        "\n",
        "}"
      ],
      "metadata": {
        "id": "mTo-TQSLJ87f"
      },
      "execution_count": 12,
      "outputs": []
    },
    {
      "cell_type": "code",
      "source": [
        "### Feedforward network\n",
        "def feed_forward(x, cache, params):\n",
        "    cache['X'] = x\n",
        "    cache['Z1'] = np.matmul(params[\"W1\"], cache[\"X\"].T) + params[\"b1\"]\n",
        "    cache['A1'] = sigmoid(cache['Z1'])\n",
        "\n",
        "    cache['Z2'] = np.matmul(params[\"W2\"], cache[\"A1\"]) + params[\"b2\"]\n",
        "    cache['A2'] = sigmoid(cache['Z2'])\n",
        "\n",
        "    cache['Z3'] = np.matmul(params[\"W3\"], cache[\"A2\"]) + params[\"b3\"]\n",
        "    cache[\"A3\"] = sigmoid(cache['Z3'])\n",
        "\n",
        "    cache[\"ouput\"] = np.matmul(params[\"W4\"], cache[\"A3\"]) + [params[\"b4\"]]\n",
        "\n",
        "    return cache[\"output\"]\n"
      ],
      "metadata": {
        "id": "Nm-2HrnGq41W"
      },
      "execution_count": 13,
      "outputs": []
    },
    {
      "cell_type": "code",
      "source": [
        "### loss function\n",
        "def loss_fuction(cache, y):\n",
        "    return np.sum(cache['output'] - y, axis=0)"
      ],
      "metadata": {
        "id": "SNgTsbnzq4uS"
      },
      "execution_count": 14,
      "outputs": []
    },
    {
      "cell_type": "code",
      "source": [
        "def back_propagation(x, y, params, cache):\n",
        "    y_hat = feed_forward(x, cache, params)\n",
        "    dloss = y_hat - y.T\n",
        "\n",
        "    dA3 = np.matmul(dloss, params[\"W4\"].T)\n",
        "    dZ3 = dA3 * sigmoid(cache[\"Z3\"], derivative=True)\n",
        "    dA2 = np.matmul(dZ3, params[\"W3\"].T)\n",
        "    dZ2 = dA2 * sigmoid(cache[\"Z2\"], derivate=True)\n",
        "    dA1 = np.matmul(dZ2, params[\"W3\"].T)\n",
        "    dZ1 = dA1 * sigmoid(cache[\"Z1\"], derivative=True)\n",
        "\n",
        "    dW4 = np.matmul(dloss, cache[\"A3\"].T)\n",
        "    db4 = np.sum(dloss, axis=1, keepdims=True)\n",
        "\n",
        "    dW3 = np.matmul(dZ3, cache[\"A2\"].T)\n",
        "    db3 = np.sum(dZ3, axis=1, keepdims=True)\n",
        "\n",
        "    dW2 = np.matmul(dZ2, cache[\"A1\"].T)\n",
        "    db2 = np.sum(dZ2, axis=1, keepdims=True)\n",
        "\n",
        "    dW1 = np.matmul(dZ1, cache[\"X\"].T)\n",
        "    db1 = np.sum(dZ1, axis=1, keepdims=True)\n",
        "\n",
        "\n",
        "    return dW4, db4, dW3, db3, dW2, db2, dW1, db1"
      ],
      "metadata": {
        "id": "g2Pov3hFqvb1"
      },
      "execution_count": 19,
      "outputs": []
    },
    {
      "cell_type": "code",
      "source": [
        "def training(x_train, y_train, x_test, y_test, epochs=100000000,\\\n",
        "             batch_size = 64, optimizer=\"sgd\", l_rate=0.01, beta=0.9):\n",
        "\n",
        "    num_batches = (x_train.shape[0]//self.batch_size) + 1\n",
        "    start_time = time.time()\n",
        "    template = \"Epoch {}: {:.2f}s, train acc={:.2f}, train loss={:.2f}, test acc={:.2f}, test loss={:.2f}\"\n",
        "\n",
        "    # Train\n",
        "    for i in range(epochs):\n",
        "        # Shuffle\n",
        "        permutation = np.random.permutation(x_train.shape[0])\n",
        "        x_train_shuffled = x_train[permutation]\n",
        "        y_train_shuffle = y_train[permutation]\n",
        "\n",
        "        for j in range(num_batches):\n",
        "            # Batch\n",
        "            begin = j * batch_size\n",
        "            end = min(begin + batch_size, x_train.shape[0]-1)\n",
        "            x = x_train_shuffled[begin:end]\n",
        "            y\n"
      ],
      "metadata": {
        "id": "2YswDxbJ7iWV"
      },
      "execution_count": null,
      "outputs": []
    },
    {
      "cell_type": "code",
      "source": [
        "6//4"
      ],
      "metadata": {
        "colab": {
          "base_uri": "https://localhost:8080/"
        },
        "id": "UmfOfnEV-hJW",
        "outputId": "da2b60b2-ec7f-4535-ea7e-207f90ccdd5b"
      },
      "execution_count": 22,
      "outputs": [
        {
          "output_type": "execute_result",
          "data": {
            "text/plain": [
              "1"
            ]
          },
          "metadata": {},
          "execution_count": 22
        }
      ]
    },
    {
      "cell_type": "code",
      "source": [],
      "metadata": {
        "id": "d-enhSms-ij6"
      },
      "execution_count": null,
      "outputs": []
    }
  ]
}
