{
  "nbformat": 4,
  "nbformat_minor": 0,
  "metadata": {
    "colab": {
      "provenance": []
    },
    "kernelspec": {
      "name": "python3",
      "display_name": "Python 3"
    },
    "language_info": {
      "name": "python"
    }
  },
  "cells": [
    {
      "cell_type": "markdown",
      "source": [
        "# Neural Networks\n",
        "\n"
      ],
      "metadata": {
        "id": "GCo5oKb7ZxPm"
      }
    },
    {
      "cell_type": "markdown",
      "source": [
        "  1. Dataset exploration\n",
        "  2. Neural Networks Explanation\n",
        "  3. Neural Networks Implementation\n",
        "  4. Training\n",
        "  5. Evaluation\n",
        "  \n",
        "\n",
        "\n"
      ],
      "metadata": {
        "id": "aA46047_Wq8V"
      }
    },
    {
      "cell_type": "markdown",
      "source": [
        "### Dataset"
      ],
      "metadata": {
        "id": "-0Kl19gVcHdz"
      }
    },
    {
      "cell_type": "markdown",
      "source": [
        "Lets talk about the dataset, I have downloaded [Used Car Price Dataset](https://www.kaggle.com/datasets/rishabhkarn/used-car-dataset) from Kaggle website. The dataset contains `13` feature/independent variables($x_i$) and a target/dependant variable($y$), from those 13 feature/independant variables, I will be using 5 feature/independent variables they are `kms_driven` ,`mileage(kmpl)`, `engine(cc)`, `max_power(bhp)` and `torque(Nm). ` and `price(in lakhs)` as the target variable.<br><br>\n",
        "\n",
        "\n",
        "kms_driven   | mileage(kmpl)| engine(cc) | max_power(bhp) | torque(Nm) | price(in lakhs)\n",
        "-------------|-------------|------------|----------------|------------|-------------\n",
        " 56000       |   7.81      |2996        |\t   2996        |     333    |       63.75\n",
        " 30615       |  17.4      |    999     |     999        |     9863   |       8.99\n",
        "24000        |  20.68     |    1995    |     1995       |      188   |       23.75\n",
        "18378        |  16.5      |    1353    |     1353       |     13808  |       13.56\n",
        "\n",
        "\n",
        "<br>\n",
        "<br>\n",
        "Here $x$'s are the five-dimensional vector in $\\mathbb{R}^5$. For instance, $X_1^{(i)}$ is the `kms_driven`, $x_2^{(i)}$ is the `mileage(kmpl)`, $x_3^{(i)}$ is the `engine(cc)`, $x_4$^{(i)} is the `max_power(bhp)`, and $x_5^{(i)}$ is the `torque(Nm)` of the $i$-th house in the training data\n"
      ],
      "metadata": {
        "id": "epKkB0i2a1z_"
      }
    },
    {
      "cell_type": "code",
      "execution_count": null,
      "metadata": {
        "id": "1T1as4X6kwSc",
        "colab": {
          "base_uri": "https://localhost:8080/"
        },
        "outputId": "dec3fcfa-24b5-407d-e254-d1ee9fc60655"
      },
      "outputs": [
        {
          "output_type": "stream",
          "name": "stdout",
          "text": [
            "Drive already mounted at /content/drive; to attempt to forcibly remount, call drive.mount(\"/content/drive\", force_remount=True).\n"
          ]
        }
      ],
      "source": [
        "from google.colab import drive\n",
        "drive.mount('/content/drive')"
      ]
    },
    {
      "cell_type": "code",
      "source": [
        "cd /content/drive/MyDrive/files"
      ],
      "metadata": {
        "colab": {
          "base_uri": "https://localhost:8080/"
        },
        "id": "f7rGis3BGYcz",
        "outputId": "f3a24b77-95a5-49df-a669-4efc8f3f38a1"
      },
      "execution_count": null,
      "outputs": [
        {
          "output_type": "stream",
          "name": "stdout",
          "text": [
            "/content/drive/MyDrive/files\n"
          ]
        }
      ]
    },
    {
      "cell_type": "code",
      "source": [
        "ls"
      ],
      "metadata": {
        "colab": {
          "base_uri": "https://localhost:8080/"
        },
        "id": "HG-02dhuGgnx",
        "outputId": "c8295f0e-e273-4ca5-d1aa-77462af7c38a"
      },
      "execution_count": null,
      "outputs": [
        {
          "output_type": "stream",
          "name": "stdout",
          "text": [
            "imdb_data.csv  iris.csv  Used_Car_Dataset.csv  yelp.csv\n"
          ]
        }
      ]
    },
    {
      "cell_type": "code",
      "source": [
        "import numpy as np\n",
        "import pandas as pd\n",
        "import matplotlib.pyplot as plt\n",
        "import time\n",
        "np.warnings.filterwarnings('ignore', 'overflow')\n",
        "from sklearn.model_selection import train_test_split\n",
        "plt.rcParams['figure.figsize'] = (12.0, 9.0)"
      ],
      "metadata": {
        "id": "zSq92HUJGhP7"
      },
      "execution_count": null,
      "outputs": []
    },
    {
      "cell_type": "code",
      "source": [
        "df = pd.read_csv(\"Used_Car_Dataset.csv\")\n",
        "df = df[['kms_driven','mileage(kmpl)', 'engine(cc)', 'max_power(bhp)', 'torque(Nm)', 'price(in lakhs)']]\n",
        "df = df.sample(frac=0.2).reset_index(drop=True)\n",
        "df.info()"
      ],
      "metadata": {
        "colab": {
          "base_uri": "https://localhost:8080/"
        },
        "id": "_xuFs5R1Gmg0",
        "outputId": "c9a4fe43-776a-4ad1-f4d3-70c7f745d160"
      },
      "execution_count": null,
      "outputs": [
        {
          "output_type": "stream",
          "name": "stdout",
          "text": [
            "<class 'pandas.core.frame.DataFrame'>\n",
            "RangeIndex: 311 entries, 0 to 310\n",
            "Data columns (total 6 columns):\n",
            " #   Column           Non-Null Count  Dtype  \n",
            "---  ------           --------------  -----  \n",
            " 0   kms_driven       311 non-null    int64  \n",
            " 1   mileage(kmpl)    311 non-null    float64\n",
            " 2   engine(cc)       311 non-null    float64\n",
            " 3   max_power(bhp)   311 non-null    float64\n",
            " 4   torque(Nm)       311 non-null    float64\n",
            " 5   price(in lakhs)  311 non-null    float64\n",
            "dtypes: float64(5), int64(1)\n",
            "memory usage: 14.7 KB\n"
          ]
        }
      ]
    },
    {
      "cell_type": "markdown",
      "source": [
        "###Neural Networks Explanation & Implementation"
      ],
      "metadata": {
        "id": "wwWySoDlct6D"
      }
    },
    {
      "cell_type": "markdown",
      "source": [
        "Neural networks refer to broad type of non-linear models/parametrizations $h_\\theta(x)$ tht involve combinations of matrix multiplications and other entry-wise non-linear operations. We will start small and slowly build up a neural network, step by step\n",
        "\n",
        "**Neural Network with a Single Neuron.**\n",
        "We define a parameterized function $h_\\theta(x)$ with input  x, parameterized by $\\theta$, which outpus the price of the house $y$. Formally, $h_\\theta : x \\to y$. Perhaps one of the simplest parametrization would be\n",
        "$$h_\\theta(x) = max(wx + b, 0), \\quad\\text{where } \\theta = (w, b) \\in \\mathbb{R}^2$$\n",
        "\n",
        "Here $h_\\theta(x)$ returns a single value: $(wx + b)$ or zero, whichever is greater. In the context of neural networks, the function max$\\{t, 0\\}$ is called ReLU (pronounced \"ray-lu\"), or rectified linear unit, and often denoted by ReLU$(t) \\triangleq \\text{max}\\{t, 0\\}$.\n",
        "<br>\n",
        "Generally, a one-dimensional non-linear function that maps $\\mathbb{R}$ to $\\mathbb{R}$ such as ReLU is often referred to as an **activation function**. The model $h_\\theta(x)$ is said to have a singel neuron partly because it has a single non-liear activation function.<br>\n",
        "\n",
        "When the input $x \\in \\mathbb{R}^d$ has mulitple dimensions, a neural network with a single neuron can be written as\n",
        "$$\\begin{align} h_\\theta(x) = \\sigma(w^Tx + b), \\quad\\text{where } w \\in \\mathbb{R}^d, b \\in \\mathbb{R}, \\text{ and } \\theta = (w, b) \\tag{nn.7}\n",
        "\\end{align}$$\n",
        "The term $b$ is often referred to as the \"bias\", and the vector $w$ is referred to as the weight vector. Such a neural network has 1 layer.<br>\n",
        "\n",
        "**Stacking Neurons.**\n",
        "A more complex neural network may take the single neuron described above and \"stack\" them together such that one neuron passes its output as input into the next neuron, resulting in a more complex function.\n",
        "\n",
        "\n",
        "\n",
        "\n",
        "\n",
        "\n"
      ],
      "metadata": {
        "id": "q4tLr5eQdHHW"
      }
    },
    {
      "cell_type": "markdown",
      "source": [
        "**Two-layer Fully-Connected Neural Networks.**\n",
        "In the equation $(nn.8)$, based on the prior knowledge we have constructed \"family size\", \"walkable\" and \"school quality\" features based on the inputs. Such a prior knowledge might not be available for other applications. To make it more flexible and general to have a generic parameterization and can be written as intermediate variable $a_1$ as a function of all $x_1,\\cdots,x_4$. <br>\n",
        "$$\\begin{align*}\n",
        "a_1 &= \\sigma(w_1^Tx + b_1),\\quad\\text{where } w_1 \\in \\mathbb{R}^4 \\text{ and  } b_1 \\in \\mathbb{R} \\tag{nn.9}\\\\\n",
        "a_2 &= \\sigma(w_2^Tx + b_2),\\quad \\text{where } w_2 \\in \\mathbb{R}^4 \\text{ and  } b_2 \\in \\mathbb{R} \\\\\n",
        "a_3 &= \\sigma(w_3^Tx + b_3),\\quad \\text{where } w_3 \\in \\mathbb{R}^4 \\text{ and  } b_3 \\in \\mathbb{R}\n",
        "\\end{align*}$$\n",
        "\n",
        "Now $h_\\theta(x)$ is defined similar to equation $(\\text{nn}.8)$ and we have a **fully-connected neural network** where the intermediate $a_i$'s depend on all the inputs $x_i$'s.<br>\n",
        "\n",
        "To fully generalize a two-layer fully-connected neural network with $m$ hidden units and $d$ dimentionsa input $x \\in \\mathbb{R}^d $ is define as\n",
        "$$\\begin{align*}\n",
        "\\forall j \\in [1,\\cdots,m], \\quad z_j &= w_{j}^{[1]^T} x + b_j^{[1]} \\quad \\text{where } w_j^{[1]} \\in \\mathbb{R}^d, b_j^{[1]} \\in R \\tag{nn.10}\\\\\n",
        "a_j &= \\sigma(z_j), \\\\\n",
        "a &= [a_1,\\cdots,a_m]^T \\in \\mathbb{R}^m\\\\\n",
        "h\\theta(x) &= w^{[2]^T}a + b^{[2]} \\quad \\text{where } w^{[2]} \\in \\mathbb{R}^m,\\; b^{[2]} \\in \\mathbb{R} \\tag{nn.11}\n",
        "\\end{align*}$$\n",
        "Note that by deafult the vectors in $\\mathbb{R}^d$ are views as column vectors, and in particular $a$ is a column vector with components $a_1, a_2,\\cdots,a_m$. The indices ${}^{[1]}$ and ${}^{[2]}$ are used to distinguish two sets of parametes: the $w_j^{[1]}$'s (each of which is a vector in $\\mathbb{R}^d$) and $w^{[2]}$ (which is a vector in $\\mathbb{R}^m$)<br>\n",
        "\n",
        "**Vectorization.** Writing the neural networks in terms of matrix and vector notations, will help us to add more layers and more comlpex structures. Vectorization is the speed perspective in the implementation as it takes advantages of matrix algebra and highly optimized numerical linear algebra packages (e.g., BLAS)<br><br><br>\n",
        "$$ W^{[1]} = \\left[ \\begin{array}{c}\n",
        "-w_1^{[1]^T}- \\\\\n",
        "-w_2^{[1]^T}-\\\\\n",
        "\\vdots\\\\\n",
        "-w_m^{[1]^T}-\n",
        "\\end{array}\\right] \\in \\mathbb{R}^{m \\times d} \\tag{nn.12}$$\n",
        "<br>\n",
        "Now by teh definition of matrix vector multiplication, we can write $z = [z_1,...,z_m]^T \\in \\mathbb{R}^m$ as <br>\n",
        "$$ \\underbrace{\\left[ \\begin{array}{c} z_1 \\\\\n",
        "\\vdots \\\\\n",
        "\\vdots \\\\\n",
        "z_m\\end{array}\\right]}_{z\\; \\in \\; \\mathbb{R}^{m \\times 1}} =\n",
        "\\underbrace{\\left[ \\begin{array}{c}\n",
        "-w_1^{[1]^T}- \\\\\n",
        "-w_2^{[1]^T}-\\\\\n",
        "\\vdots\\\\\n",
        "- w_m^{[1]^T}-\n",
        "\\end{array}\\right] }_{W^{[1]} \\; \\in \\; \\mathbb{R}^{m \\times d}}\n",
        "\\underbrace{\\left[ \\begin{array}{c} x_1 \\\\\n",
        "x_2 \\\\\n",
        "\\vdots \\\\\n",
        "x_d\\end{array}\\right]}_{x\\; \\in \\; \\mathbb{R}^{d \\times 1}} +\n",
        "\\underbrace{\\left[ \\begin{array}{c} b_1 \\\\\n",
        "b_2 \\\\\n",
        "\\vdots \\\\\n",
        "b_m\\end{array}\\right]}_{b\\; \\in \\; \\mathbb{R}^{m \\times 1}} \\tag{nn.13}\n",
        "$$\n",
        "Or succinctly,\n",
        "$$ z = W^{[1]}x + b^{[1]} \\tag{nn.14}$$\n",
        "\n",
        "\n",
        "**Multi-layer fully-connected neural networks**. With this succinct notations, we can stack more layers to get a deeper fully-connected neural network. Let r be the number of layers (weight matrices). Let\n",
        "$W^{[1]}, . . . , W^{[r]}$, $b^{[1]}, . . . ,b^{[r]}$ be the weight matrices and biases of all the layers.\n",
        "Then a multi-layer neural network can be written as\n",
        "$$\\begin{align}a^{[1]} &= \\sigma(W^{[1]}x + b^{[1]}) \\\\\n",
        "a^{[2]} &= \\sigma(W^{[2]}a^{[1]} + b^{[2]})\\\\\n",
        "\\cdots\\\\\n",
        "a^{[r−1]} &= \\sigma(W^{[r−1]}a^{[r−2]} + b^{[r−1]})\\\\\n",
        "a^{[r]} &= z^{[r]}=W^{[r]}a^{[r−1]} + b^{[r]}\\\\\n",
        "J &= \\frac{1}{2}(a^{[r]}-y)^2\n",
        "\\end{align}$$\n",
        "\n",
        "Here we define both $a^{[r]}$ and $z^{[r]}$ and $h_\\theta(x)$ for notational simplicaity. Define<br>\n",
        "$$ \\delta^{[k]} = \\frac{\\partial J}{\\partial z^{[k]} } \\quad \\text{for } k = r \\text{ to } 1.$$"
      ],
      "metadata": {
        "id": "ELdLmAhM1RIN"
      }
    },
    {
      "cell_type": "markdown",
      "source": [
        "#### Python Implementation"
      ],
      "metadata": {
        "id": "jMkJ3CsMbSKq"
      }
    },
    {
      "cell_type": "code",
      "source": [
        "np.random.seed(seed=123456)\n",
        "X = df[['kms_driven','mileage(kmpl)', 'engine(cc)', 'max_power(bhp)', 'torque(Nm)']].to_numpy()\n",
        "y = np.log(df[['price(in lakhs)']].to_numpy())"
      ],
      "metadata": {
        "id": "9BXD7XIOaqQ2"
      },
      "execution_count": null,
      "outputs": []
    },
    {
      "cell_type": "code",
      "source": [
        "from sklearn import preprocessing\n",
        "\n",
        "min_max_scaler = preprocessing.MinMaxScaler()\n",
        "X_scaled = min_max_scaler.fit_transform(X)\n",
        "X_train, X_test, y_train, y_test = train_test_split(X_scaled, y, test_size=0.15, random_state=42)"
      ],
      "metadata": {
        "id": "Ikklx43jSufr"
      },
      "execution_count": null,
      "outputs": []
    },
    {
      "cell_type": "code",
      "source": [
        "# X_train, X_test, y_train, y_test = train_test_split(X, y, test_size=0.15, random_state=42)"
      ],
      "metadata": {
        "id": "Dexul8-f-VER"
      },
      "execution_count": null,
      "outputs": []
    },
    {
      "cell_type": "code",
      "source": [
        "X_test.shape, y_test.shape"
      ],
      "metadata": {
        "colab": {
          "base_uri": "https://localhost:8080/"
        },
        "id": "xDxL0rz_J65-",
        "outputId": "b5e24a31-a3fc-423f-a928-51b7c1640c77"
      },
      "execution_count": null,
      "outputs": [
        {
          "output_type": "execute_result",
          "data": {
            "text/plain": [
              "((47, 5), (47, 1))"
            ]
          },
          "metadata": {},
          "execution_count": 174
        }
      ]
    },
    {
      "cell_type": "code",
      "source": [
        "# define inputs, hidden layer size\n",
        "input_layer = 5\n",
        "hidden_1 = 10\n",
        "hidden_2 = 5\n",
        "hidden_3 = 7\n",
        "output_layer = 1"
      ],
      "metadata": {
        "id": "v-P--nVrO7Qs"
      },
      "execution_count": null,
      "outputs": []
    },
    {
      "cell_type": "code",
      "source": [
        "cache = {}"
      ],
      "metadata": {
        "id": "LDQqolFRrjsh"
      },
      "execution_count": null,
      "outputs": []
    },
    {
      "cell_type": "code",
      "source": [
        "def sigmoid(x, derivative=False):\n",
        "    if derivative:\n",
        "        return (np.exp(-x))/((np.exp(-x)+1)**2)\n",
        "    return np.exp(x)/(1 + np.exp(x))\n"
      ],
      "metadata": {
        "id": "u_GUNuFkRGyx"
      },
      "execution_count": null,
      "outputs": []
    },
    {
      "cell_type": "code",
      "source": [
        "### I'm creating four layer network where three are hidden layer and last is output layer\n",
        "params = {\n",
        "    'W1': np.random.randn(hidden_1, input_layer,),\n",
        "    'b1': np.random.randn(hidden_1, 1),\n",
        "    'W2': np.random.randn(hidden_2, hidden_1),\n",
        "    'b2': np.random.randn(hidden_2, 1),\n",
        "    'W3': np.random.randn(hidden_3, hidden_2),\n",
        "    'b3': np.random.randn(hidden_3, 1),\n",
        "    'W4': np.random.randn(output_layer, hidden_3),\n",
        "    'b4': np.random.randn(output_layer, 1),\n",
        "\n",
        "}"
      ],
      "metadata": {
        "id": "mTo-TQSLJ87f"
      },
      "execution_count": null,
      "outputs": []
    },
    {
      "cell_type": "code",
      "source": [
        "### Feedforward network\n",
        "def feed_forward(x, cache, params):\n",
        "    cache['X'] = x\n",
        "    cache['Z1'] = np.matmul(params[\"W1\"], cache[\"X\"].T) + params[\"b1\"]\n",
        "    cache['A1'] = sigmoid(cache['Z1'])\n",
        "    cache['Z2'] = np.matmul(params[\"W2\"], cache[\"A1\"]) + params[\"b2\"]\n",
        "    cache['A2'] = sigmoid(cache['Z2'])\n",
        "    cache['Z3'] = np.matmul(params[\"W3\"], cache[\"A2\"]) + params[\"b3\"]\n",
        "    cache[\"A3\"] = sigmoid(cache['Z3'])\n",
        "\n",
        "    cache[\"output\"] = np.matmul(params[\"W4\"], cache[\"A3\"]) + params[\"b4\"]\n",
        "\n",
        "    return cache[\"output\"]\n"
      ],
      "metadata": {
        "id": "Nm-2HrnGq41W"
      },
      "execution_count": null,
      "outputs": []
    },
    {
      "cell_type": "code",
      "source": [
        "### loss function\n",
        "def loss_fuction(y_hat, y):\n",
        "    lenth = y.shape[0]\n",
        "    return (2/lenth)*np.sum((y - y_hat))"
      ],
      "metadata": {
        "id": "SNgTsbnzq4uS"
      },
      "execution_count": null,
      "outputs": []
    },
    {
      "cell_type": "markdown",
      "source": [
        "#### Back Propagation"
      ],
      "metadata": {
        "id": "l8e4ZwA_Hm0U"
      }
    },
    {
      "cell_type": "markdown",
      "source": [
        "**Preliminary: chain rule**<br>\n",
        "We first recall the chain rule in calculus. Suppose the variable J depends on the variables $\\theta_1, . . . , \\theta_p$ via the intermediate variable $g_1, . . . , g_k$:\n",
        "\n",
        "$$g_j = g_j(\\theta1, . . . , \\theta_p), \\forall_j \\in {1, · · · , k} $$\n",
        "$$J = J(g_1, . . . , g_k) $$\n",
        "Here we overload the meaning of $g_j$’s: they denote both the intermediate\n",
        "variables but also the functions used to compute the intermediate variables.\n",
        "Then, by the chain rule, we have that $\\forall_i$,\n",
        "$$\\frac{\\partial J}{\\partial\\theta_i} = \\sum_{j=1}^k\n",
        "\\frac{\\partial J}\n",
        "{\\partial g_j}\\frac{\\partial g_j}{\\partial \\theta_i}$$\n",
        "For the ease of invoking the chain rule in the following subsections in various ways, we will call $J$ the output variable, $g_1, . . . , g_k$ intermediate variables, and $\\theta_1, . . . , \\theta_p$ the input variable in the chain rule.<br>\n",
        "\n",
        "**Two-layer neural network with vector notation**<br>\n",
        "$$\\text{Let $\\quad$ } \\delta^{[2]} \\overset{\\Delta}{=} \\frac{\\partial J}{\\partial o} \\in \\mathbb{R}$$\n",
        "$$\\delta^{[1]}  \\overset{\\Delta}{=} \\frac{\\partial J}{\\partial z} \\in \\mathbb{R}^m$$\n",
        "\n",
        "**Back-propagation for two-layer neural networks in vectorized\n",
        "notations**<br>\n",
        "\n",
        "1. Compute the values of $z \\in \\mathbb{R}^m, \\; a \\in \\mathbb{R}^m, \\text{ and } o$ <br>\n",
        "2. Compute $\\delta^{[2]} = (o - y) \\in \\mathbb{R}$ <br>\n",
        "3. Compute $\\delta^{[1]} = (o - y) \\; \\cdot \\; W^{[2]^T} \\; \\odot \\sigma'(z) \\in \\mathbb{R}$ <br>\n",
        "4. Compute $$\\begin{align} \\frac{\\partial J}{\\partial W^{[2]}} &= \\delta^{[2]}a^T \\in \\mathbb{R}^{1 \\times m} \\\\\n",
        "\\frac{\\partial J}{\\partial b^{[2]}} &= \\delta^{[2]} \\in \\mathbb{R} \\\\\n",
        "\\frac{\\partial J}{\\partial W^{[1]}} &= \\delta^{[1]}x^T \\in \\mathbb{R}^{m \\times d} \\\\\n",
        "\\frac{\\partial J}{\\partial b^{[1]}} &= \\delta^{[1]} \\in \\mathbb{R}^m\n",
        "\\end{align}$$"
      ],
      "metadata": {
        "id": "1GtQFYtQOxZY"
      }
    },
    {
      "cell_type": "markdown",
      "source": [
        "**Vectorization over training examples** Back-propagation for multi-layer neural networks.\n",
        "<br>\n",
        "1. Compute and store the values of $a^{[k]}$'s and $z^{[k]}$'s for $ k =1,...,r-1$ and $J\\quad \\quad \\text{This often called as \"forward pass\"}$ <br>\n",
        "2. Compute $\\delta^{[r]} = \\frac{\\partial J}{\\partial z^{[r]}} = (z^{[r]} -o)$ <br>\n",
        "3. $\\text{for }\\;  k = r - 1 \\text{ to } 1 \\text{ do}$ <br>\n",
        "4. Compute $$\\delta^{[k]} = \\frac{\\partial J}{\\partial z^{[r]}} = \\left( W^{[k+1]^T} \\delta^{[k+1]} \\right)\\odot \\sigma'(z^{[k]}) \\in \\mathbb{R}$$ <br>\n",
        "5. Compute $$\\begin{align} \\frac{\\partial J}{\\partial W^{[k+1]}} &= \\delta^{[k+1]}a{[k]^T}\\\\\n",
        "\\frac{\\partial J}{\\partial b^{[k+1]}} &= \\delta^{[k+1]}  \n",
        "\\end{align}$$ <br><br>\n",
        "\n",
        "The above logic is applied in the back propagation `python` code, where I calculated  $a^{[k]}$'s and $z^{[k]}$'s and multiplied with respective $W^{[k]}$'s and $b^{[k]}$'s matrices"
      ],
      "metadata": {
        "id": "9lu7tjAUETx6"
      }
    },
    {
      "cell_type": "code",
      "source": [
        "def back_propagation(x, y, output, params):\n",
        "    current_batch_size = y.shape[0]\n",
        "\n",
        "    dloss = output - y.T\n",
        "\n",
        "    dA3 = np.matmul(params[\"W4\"].T, dloss)\n",
        "    dZ3 = dA3 * sigmoid(cache[\"Z3\"], derivative=True)\n",
        "    dA2 = np.matmul(params[\"W3\"].T, dZ3)\n",
        "    dZ2 = dA2 * sigmoid(cache[\"Z2\"], derivative=True)\n",
        "    dA1 = np.matmul(params[\"W2\"].T, dZ2)\n",
        "    dZ1 = dA1 * sigmoid(cache[\"Z1\"], derivative=True)\n",
        "\n",
        "    dW4 = (1./current_batch_size) * np.matmul(dloss, cache[\"A3\"].T)\n",
        "    db4 = (1./current_batch_size) * np.sum(dloss, axis=1, keepdims=True)\n",
        "\n",
        "    dW3 = (1./current_batch_size) * np.matmul(dZ3, cache[\"A2\"].T)\n",
        "    db3 = (1./current_batch_size) * np.sum(dZ3, axis=1, keepdims=True)\n",
        "\n",
        "    dW2 = (1./current_batch_size) * np.matmul(dZ2, cache[\"A1\"].T)\n",
        "    db2 = (1./current_batch_size) * np.sum(dZ2, axis=1, keepdims=True)\n",
        "\n",
        "    dW1 = (1./current_batch_size) * np.matmul(dZ1, cache[\"X\"])\n",
        "    db1 = (1./current_batch_size) * np.sum(dZ1, axis=1, keepdims=True)\n",
        "\n",
        "    grads = {'W4' : dW4, 'b4' : db4, 'W3' : dW3, 'b3': db3, 'W2' : dW2, 'b2' : db2, 'W1' : dW1, 'b1' : db1}\n",
        "    return  grads"
      ],
      "metadata": {
        "id": "g2Pov3hFqvb1"
      },
      "execution_count": null,
      "outputs": []
    },
    {
      "cell_type": "markdown",
      "source": [
        "#### Training"
      ],
      "metadata": {
        "id": "DvGL3HYtQAon"
      }
    },
    {
      "cell_type": "code",
      "source": [
        "def training(x_train, y_train, x_test, y_test, cache, params, epochs=100000000,\\\n",
        "             batch_size = 64, optimizer=\"sgd\", l_rate=0.001):\n",
        "\n",
        "    num_batches = (x_train.shape[0]//batch_size) + 1\n",
        "    start_time = time.time()\n",
        "    template = \"Epoch {}: {:.2f}s, train loss={:.2f}\"\n",
        "\n",
        "    # Train\n",
        "    for i in range(epochs):\n",
        "        # Shuffle\n",
        "        permutation = np.random.permutation(x_train.shape[0])\n",
        "        x_train_shuffled = x_train[permutation]\n",
        "        y_train_shuffled = y_train[permutation]\n",
        "\n",
        "        for j in range(num_batches):\n",
        "            # Batch\n",
        "            begin = j * batch_size\n",
        "            end = min(begin + batch_size, x_train.shape[0]-1)\n",
        "            x = x_train_shuffled[begin:end]\n",
        "            y = y_train_shuffled[begin:end]\n",
        "\n",
        "            #forward\n",
        "            output = feed_forward(x, cache, params)\n",
        "            #backprop\n",
        "            grads = back_propagation(x, y, output, params)\n",
        "            for key in params:\n",
        "                params[key] = params[key] - l_rate * grads[key]\n",
        "\n",
        "            # import sys\n",
        "            # sys.exit(0)\n",
        "\n",
        "        # Training data\n",
        "        output = feed_forward(x_train, cache, params)\n",
        "        train_loss = loss_fuction(output,  y_train)\n",
        "\n",
        "\n",
        "        print(template.format(i+1, time.time()-start_time,  train_loss))\n",
        "\n",
        "\n",
        "\n"
      ],
      "metadata": {
        "id": "2YswDxbJ7iWV"
      },
      "execution_count": null,
      "outputs": []
    },
    {
      "cell_type": "code",
      "source": [
        "training(X_train, y_train, X_test, y_test, cache, params, epochs=200,\\\n",
        "             batch_size = 64, )"
      ],
      "metadata": {
        "colab": {
          "base_uri": "https://localhost:8080/"
        },
        "id": "UmfOfnEV-hJW",
        "outputId": "3e0d3cd0-991f-455c-a19d-97a9bdd5f939"
      },
      "execution_count": null,
      "outputs": [
        {
          "output_type": "stream",
          "name": "stdout",
          "text": [
            "Epoch 1: 0.00s, train loss=1619.39\n",
            "Epoch 2: 0.01s, train loss=1587.97\n",
            "Epoch 3: 0.01s, train loss=1557.30\n",
            "Epoch 4: 0.02s, train loss=1525.95\n",
            "Epoch 5: 0.02s, train loss=1497.27\n",
            "Epoch 6: 0.03s, train loss=1469.71\n",
            "Epoch 7: 0.03s, train loss=1442.22\n",
            "Epoch 8: 0.03s, train loss=1414.33\n",
            "Epoch 9: 0.03s, train loss=1387.58\n",
            "Epoch 10: 0.04s, train loss=1360.82\n",
            "Epoch 11: 0.04s, train loss=1334.51\n",
            "Epoch 12: 0.04s, train loss=1308.66\n",
            "Epoch 13: 0.05s, train loss=1283.49\n",
            "Epoch 14: 0.05s, train loss=1257.16\n",
            "Epoch 15: 0.06s, train loss=1233.28\n",
            "Epoch 16: 0.06s, train loss=1209.28\n",
            "Epoch 17: 0.06s, train loss=1184.79\n",
            "Epoch 18: 0.06s, train loss=1161.20\n",
            "Epoch 19: 0.06s, train loss=1138.69\n",
            "Epoch 20: 0.07s, train loss=1115.88\n",
            "Epoch 21: 0.07s, train loss=1094.02\n",
            "Epoch 22: 0.07s, train loss=1071.53\n",
            "Epoch 23: 0.07s, train loss=1050.60\n",
            "Epoch 24: 0.08s, train loss=1030.39\n",
            "Epoch 25: 0.08s, train loss=1010.88\n",
            "Epoch 26: 0.08s, train loss=990.72\n",
            "Epoch 27: 0.08s, train loss=971.02\n",
            "Epoch 28: 0.08s, train loss=952.96\n",
            "Epoch 29: 0.09s, train loss=934.01\n",
            "Epoch 30: 0.09s, train loss=915.23\n",
            "Epoch 31: 0.09s, train loss=896.44\n",
            "Epoch 32: 0.09s, train loss=878.21\n",
            "Epoch 33: 0.10s, train loss=861.19\n",
            "Epoch 34: 0.10s, train loss=845.43\n",
            "Epoch 35: 0.10s, train loss=827.96\n",
            "Epoch 36: 0.10s, train loss=811.98\n",
            "Epoch 37: 0.11s, train loss=795.18\n",
            "Epoch 38: 0.11s, train loss=778.97\n",
            "Epoch 39: 0.11s, train loss=763.43\n",
            "Epoch 40: 0.11s, train loss=749.05\n",
            "Epoch 41: 0.11s, train loss=734.88\n",
            "Epoch 42: 0.12s, train loss=719.75\n",
            "Epoch 43: 0.12s, train loss=706.52\n",
            "Epoch 44: 0.12s, train loss=691.92\n",
            "Epoch 45: 0.12s, train loss=676.90\n",
            "Epoch 46: 0.12s, train loss=661.49\n",
            "Epoch 47: 0.13s, train loss=647.25\n",
            "Epoch 48: 0.13s, train loss=634.35\n",
            "Epoch 49: 0.13s, train loss=622.73\n",
            "Epoch 50: 0.13s, train loss=609.40\n",
            "Epoch 51: 0.14s, train loss=598.01\n",
            "Epoch 52: 0.14s, train loss=586.37\n",
            "Epoch 53: 0.14s, train loss=574.02\n",
            "Epoch 54: 0.14s, train loss=562.12\n",
            "Epoch 55: 0.14s, train loss=551.07\n",
            "Epoch 56: 0.15s, train loss=539.01\n",
            "Epoch 57: 0.15s, train loss=526.97\n",
            "Epoch 58: 0.15s, train loss=517.24\n",
            "Epoch 59: 0.16s, train loss=505.82\n",
            "Epoch 60: 0.16s, train loss=495.72\n",
            "Epoch 61: 0.16s, train loss=484.39\n",
            "Epoch 62: 0.17s, train loss=473.91\n",
            "Epoch 63: 0.17s, train loss=465.09\n",
            "Epoch 64: 0.17s, train loss=456.55\n",
            "Epoch 65: 0.18s, train loss=448.03\n",
            "Epoch 66: 0.18s, train loss=438.11\n",
            "Epoch 67: 0.18s, train loss=429.07\n",
            "Epoch 68: 0.18s, train loss=420.42\n",
            "Epoch 69: 0.18s, train loss=411.19\n",
            "Epoch 70: 0.19s, train loss=403.06\n",
            "Epoch 71: 0.19s, train loss=396.12\n",
            "Epoch 72: 0.19s, train loss=388.44\n",
            "Epoch 73: 0.19s, train loss=379.62\n",
            "Epoch 74: 0.20s, train loss=370.74\n",
            "Epoch 75: 0.20s, train loss=361.78\n",
            "Epoch 76: 0.20s, train loss=353.78\n",
            "Epoch 77: 0.20s, train loss=344.99\n",
            "Epoch 78: 0.21s, train loss=337.19\n",
            "Epoch 79: 0.21s, train loss=330.85\n",
            "Epoch 80: 0.22s, train loss=324.95\n",
            "Epoch 81: 0.22s, train loss=317.99\n",
            "Epoch 82: 0.23s, train loss=311.70\n",
            "Epoch 83: 0.23s, train loss=305.97\n",
            "Epoch 84: 0.24s, train loss=299.25\n",
            "Epoch 85: 0.24s, train loss=292.95\n",
            "Epoch 86: 0.25s, train loss=286.50\n",
            "Epoch 87: 0.25s, train loss=278.53\n",
            "Epoch 88: 0.25s, train loss=272.69\n",
            "Epoch 89: 0.25s, train loss=267.10\n",
            "Epoch 90: 0.26s, train loss=263.38\n",
            "Epoch 91: 0.26s, train loss=259.30\n",
            "Epoch 92: 0.26s, train loss=254.64\n",
            "Epoch 93: 0.27s, train loss=250.09\n",
            "Epoch 94: 0.27s, train loss=245.21\n",
            "Epoch 95: 0.27s, train loss=240.03\n",
            "Epoch 96: 0.27s, train loss=235.33\n",
            "Epoch 97: 0.27s, train loss=230.09\n",
            "Epoch 98: 0.28s, train loss=223.54\n",
            "Epoch 99: 0.28s, train loss=218.87\n",
            "Epoch 100: 0.28s, train loss=214.93\n",
            "Epoch 101: 0.28s, train loss=211.68\n",
            "Epoch 102: 0.29s, train loss=207.26\n",
            "Epoch 103: 0.29s, train loss=203.33\n",
            "Epoch 104: 0.29s, train loss=199.15\n",
            "Epoch 105: 0.30s, train loss=194.68\n",
            "Epoch 106: 0.30s, train loss=190.57\n",
            "Epoch 107: 0.30s, train loss=185.89\n",
            "Epoch 108: 0.30s, train loss=182.38\n",
            "Epoch 109: 0.31s, train loss=178.09\n",
            "Epoch 110: 0.31s, train loss=175.20\n",
            "Epoch 111: 0.31s, train loss=170.42\n",
            "Epoch 112: 0.31s, train loss=166.66\n",
            "Epoch 113: 0.32s, train loss=163.44\n",
            "Epoch 114: 0.32s, train loss=160.63\n",
            "Epoch 115: 0.32s, train loss=158.37\n",
            "Epoch 116: 0.32s, train loss=154.79\n",
            "Epoch 117: 0.33s, train loss=151.99\n",
            "Epoch 118: 0.33s, train loss=148.41\n",
            "Epoch 119: 0.33s, train loss=144.86\n",
            "Epoch 120: 0.33s, train loss=141.89\n",
            "Epoch 121: 0.34s, train loss=139.39\n",
            "Epoch 122: 0.34s, train loss=137.14\n",
            "Epoch 123: 0.34s, train loss=134.38\n",
            "Epoch 124: 0.34s, train loss=131.25\n",
            "Epoch 125: 0.35s, train loss=128.52\n",
            "Epoch 126: 0.36s, train loss=126.57\n",
            "Epoch 127: 0.36s, train loss=125.02\n",
            "Epoch 128: 0.36s, train loss=122.50\n",
            "Epoch 129: 0.36s, train loss=119.45\n",
            "Epoch 130: 0.37s, train loss=117.25\n",
            "Epoch 131: 0.37s, train loss=116.25\n",
            "Epoch 132: 0.37s, train loss=112.84\n",
            "Epoch 133: 0.37s, train loss=111.27\n",
            "Epoch 134: 0.37s, train loss=109.10\n",
            "Epoch 135: 0.38s, train loss=107.02\n",
            "Epoch 136: 0.38s, train loss=105.18\n",
            "Epoch 137: 0.38s, train loss=103.84\n",
            "Epoch 138: 0.38s, train loss=102.10\n",
            "Epoch 139: 0.39s, train loss=100.80\n",
            "Epoch 140: 0.39s, train loss=97.57\n",
            "Epoch 141: 0.39s, train loss=95.80\n",
            "Epoch 142: 0.40s, train loss=94.83\n",
            "Epoch 143: 0.40s, train loss=93.90\n",
            "Epoch 144: 0.40s, train loss=91.63\n",
            "Epoch 145: 0.40s, train loss=89.28\n",
            "Epoch 146: 0.40s, train loss=87.68\n",
            "Epoch 147: 0.41s, train loss=85.74\n",
            "Epoch 148: 0.41s, train loss=82.82\n",
            "Epoch 149: 0.41s, train loss=80.69\n",
            "Epoch 150: 0.42s, train loss=79.27\n",
            "Epoch 151: 0.42s, train loss=77.61\n",
            "Epoch 152: 0.42s, train loss=75.61\n",
            "Epoch 153: 0.43s, train loss=74.93\n",
            "Epoch 154: 0.43s, train loss=72.75\n",
            "Epoch 155: 0.43s, train loss=70.86\n",
            "Epoch 156: 0.43s, train loss=68.39\n",
            "Epoch 157: 0.44s, train loss=67.39\n",
            "Epoch 158: 0.44s, train loss=66.83\n",
            "Epoch 159: 0.44s, train loss=65.59\n",
            "Epoch 160: 0.44s, train loss=64.11\n",
            "Epoch 161: 0.45s, train loss=62.17\n",
            "Epoch 162: 0.45s, train loss=61.02\n",
            "Epoch 163: 0.45s, train loss=59.98\n",
            "Epoch 164: 0.45s, train loss=58.54\n",
            "Epoch 165: 0.46s, train loss=57.04\n",
            "Epoch 166: 0.46s, train loss=56.11\n",
            "Epoch 167: 0.46s, train loss=54.24\n",
            "Epoch 168: 0.47s, train loss=53.19\n",
            "Epoch 169: 0.47s, train loss=52.74\n",
            "Epoch 170: 0.47s, train loss=52.42\n",
            "Epoch 171: 0.47s, train loss=51.55\n",
            "Epoch 172: 0.48s, train loss=50.22\n",
            "Epoch 173: 0.48s, train loss=48.30\n",
            "Epoch 174: 0.48s, train loss=47.49\n",
            "Epoch 175: 0.48s, train loss=46.61\n",
            "Epoch 176: 0.48s, train loss=45.71\n",
            "Epoch 177: 0.49s, train loss=45.73\n",
            "Epoch 178: 0.49s, train loss=43.56\n",
            "Epoch 179: 0.49s, train loss=43.47\n",
            "Epoch 180: 0.49s, train loss=41.34\n",
            "Epoch 181: 0.50s, train loss=40.27\n",
            "Epoch 182: 0.50s, train loss=39.27\n",
            "Epoch 183: 0.50s, train loss=39.02\n",
            "Epoch 184: 0.50s, train loss=37.82\n",
            "Epoch 185: 0.51s, train loss=36.96\n",
            "Epoch 186: 0.51s, train loss=35.67\n",
            "Epoch 187: 0.51s, train loss=33.50\n",
            "Epoch 188: 0.51s, train loss=33.43\n",
            "Epoch 189: 0.51s, train loss=32.78\n",
            "Epoch 190: 0.52s, train loss=31.44\n",
            "Epoch 191: 0.52s, train loss=30.66\n",
            "Epoch 192: 0.52s, train loss=29.37\n",
            "Epoch 193: 0.52s, train loss=28.93\n",
            "Epoch 194: 0.52s, train loss=29.59\n",
            "Epoch 195: 0.53s, train loss=28.02\n",
            "Epoch 196: 0.53s, train loss=27.18\n",
            "Epoch 197: 0.53s, train loss=27.91\n",
            "Epoch 198: 0.54s, train loss=26.82\n",
            "Epoch 199: 0.54s, train loss=24.76\n",
            "Epoch 200: 0.54s, train loss=23.82\n"
          ]
        }
      ]
    },
    {
      "cell_type": "markdown",
      "source": [
        "#### Evaluation"
      ],
      "metadata": {
        "id": "8RCcJVb3P4_8"
      }
    },
    {
      "cell_type": "code",
      "source": [
        "# Test data\n",
        "output = feed_forward(X_test, cache, params)\n",
        "output"
      ],
      "metadata": {
        "colab": {
          "base_uri": "https://localhost:8080/"
        },
        "id": "d-enhSms-ij6",
        "outputId": "4e5007e7-5791-4caa-f3d5-21226af75525"
      },
      "execution_count": null,
      "outputs": [
        {
          "output_type": "execute_result",
          "data": {
            "text/plain": [
              "array([[2.11514447, 2.07164962, 2.08335919, 2.07228222, 2.08213417,\n",
              "        2.08069017, 2.08242817, 2.08237428, 2.08408262, 2.06829722,\n",
              "        2.09371075, 2.07656254, 2.08953671, 2.07294164, 2.0896713 ,\n",
              "        2.07293797, 2.08037512, 2.09703914, 2.08302123, 2.07961042,\n",
              "        2.07361027, 2.0839098 , 2.09911021, 2.08584386, 2.09733804,\n",
              "        2.0884576 , 2.09688344, 2.08387309, 2.0849225 , 2.08807728,\n",
              "        2.08104995, 2.10434862, 2.09108127, 2.0922988 , 2.10699648,\n",
              "        2.09559404, 2.09637999, 2.08859352, 2.07247683, 2.0858388 ,\n",
              "        2.07508118, 2.06928778, 2.07694884, 2.07016694, 2.07371564,\n",
              "        2.0796634 , 2.08692599]])"
            ]
          },
          "metadata": {},
          "execution_count": 184
        }
      ]
    },
    {
      "cell_type": "code",
      "source": [
        "results = pd.DataFrame({'predicted_value': output.T[:,0], 'actual_value':y_test[:,0]})\n",
        "results[:5]"
      ],
      "metadata": {
        "colab": {
          "base_uri": "https://localhost:8080/",
          "height": 206
        },
        "id": "kCwq8wmaKOCK",
        "outputId": "aa8b582a-d758-4ac2-eb3a-90274ca25473"
      },
      "execution_count": null,
      "outputs": [
        {
          "output_type": "execute_result",
          "data": {
            "text/plain": [
              "   predicted_value  actual_value\n",
              "0         2.115144      1.184790\n",
              "1         2.071650      2.990720\n",
              "2         2.083359      2.297573\n",
              "3         2.072282      1.749200\n",
              "4         2.082134      1.938742"
            ],
            "text/html": [
              "\n",
              "  <div id=\"df-543c1be9-127a-4bfc-bf39-57a234bbd320\" class=\"colab-df-container\">\n",
              "    <div>\n",
              "<style scoped>\n",
              "    .dataframe tbody tr th:only-of-type {\n",
              "        vertical-align: middle;\n",
              "    }\n",
              "\n",
              "    .dataframe tbody tr th {\n",
              "        vertical-align: top;\n",
              "    }\n",
              "\n",
              "    .dataframe thead th {\n",
              "        text-align: right;\n",
              "    }\n",
              "</style>\n",
              "<table border=\"1\" class=\"dataframe\">\n",
              "  <thead>\n",
              "    <tr style=\"text-align: right;\">\n",
              "      <th></th>\n",
              "      <th>predicted_value</th>\n",
              "      <th>actual_value</th>\n",
              "    </tr>\n",
              "  </thead>\n",
              "  <tbody>\n",
              "    <tr>\n",
              "      <th>0</th>\n",
              "      <td>2.115144</td>\n",
              "      <td>1.184790</td>\n",
              "    </tr>\n",
              "    <tr>\n",
              "      <th>1</th>\n",
              "      <td>2.071650</td>\n",
              "      <td>2.990720</td>\n",
              "    </tr>\n",
              "    <tr>\n",
              "      <th>2</th>\n",
              "      <td>2.083359</td>\n",
              "      <td>2.297573</td>\n",
              "    </tr>\n",
              "    <tr>\n",
              "      <th>3</th>\n",
              "      <td>2.072282</td>\n",
              "      <td>1.749200</td>\n",
              "    </tr>\n",
              "    <tr>\n",
              "      <th>4</th>\n",
              "      <td>2.082134</td>\n",
              "      <td>1.938742</td>\n",
              "    </tr>\n",
              "  </tbody>\n",
              "</table>\n",
              "</div>\n",
              "    <div class=\"colab-df-buttons\">\n",
              "\n",
              "  <div class=\"colab-df-container\">\n",
              "    <button class=\"colab-df-convert\" onclick=\"convertToInteractive('df-543c1be9-127a-4bfc-bf39-57a234bbd320')\"\n",
              "            title=\"Convert this dataframe to an interactive table.\"\n",
              "            style=\"display:none;\">\n",
              "\n",
              "  <svg xmlns=\"http://www.w3.org/2000/svg\" height=\"24px\" viewBox=\"0 -960 960 960\">\n",
              "    <path d=\"M120-120v-720h720v720H120Zm60-500h600v-160H180v160Zm220 220h160v-160H400v160Zm0 220h160v-160H400v160ZM180-400h160v-160H180v160Zm440 0h160v-160H620v160ZM180-180h160v-160H180v160Zm440 0h160v-160H620v160Z\"/>\n",
              "  </svg>\n",
              "    </button>\n",
              "\n",
              "  <style>\n",
              "    .colab-df-container {\n",
              "      display:flex;\n",
              "      gap: 12px;\n",
              "    }\n",
              "\n",
              "    .colab-df-convert {\n",
              "      background-color: #E8F0FE;\n",
              "      border: none;\n",
              "      border-radius: 50%;\n",
              "      cursor: pointer;\n",
              "      display: none;\n",
              "      fill: #1967D2;\n",
              "      height: 32px;\n",
              "      padding: 0 0 0 0;\n",
              "      width: 32px;\n",
              "    }\n",
              "\n",
              "    .colab-df-convert:hover {\n",
              "      background-color: #E2EBFA;\n",
              "      box-shadow: 0px 1px 2px rgba(60, 64, 67, 0.3), 0px 1px 3px 1px rgba(60, 64, 67, 0.15);\n",
              "      fill: #174EA6;\n",
              "    }\n",
              "\n",
              "    .colab-df-buttons div {\n",
              "      margin-bottom: 4px;\n",
              "    }\n",
              "\n",
              "    [theme=dark] .colab-df-convert {\n",
              "      background-color: #3B4455;\n",
              "      fill: #D2E3FC;\n",
              "    }\n",
              "\n",
              "    [theme=dark] .colab-df-convert:hover {\n",
              "      background-color: #434B5C;\n",
              "      box-shadow: 0px 1px 3px 1px rgba(0, 0, 0, 0.15);\n",
              "      filter: drop-shadow(0px 1px 2px rgba(0, 0, 0, 0.3));\n",
              "      fill: #FFFFFF;\n",
              "    }\n",
              "  </style>\n",
              "\n",
              "    <script>\n",
              "      const buttonEl =\n",
              "        document.querySelector('#df-543c1be9-127a-4bfc-bf39-57a234bbd320 button.colab-df-convert');\n",
              "      buttonEl.style.display =\n",
              "        google.colab.kernel.accessAllowed ? 'block' : 'none';\n",
              "\n",
              "      async function convertToInteractive(key) {\n",
              "        const element = document.querySelector('#df-543c1be9-127a-4bfc-bf39-57a234bbd320');\n",
              "        const dataTable =\n",
              "          await google.colab.kernel.invokeFunction('convertToInteractive',\n",
              "                                                    [key], {});\n",
              "        if (!dataTable) return;\n",
              "\n",
              "        const docLinkHtml = 'Like what you see? Visit the ' +\n",
              "          '<a target=\"_blank\" href=https://colab.research.google.com/notebooks/data_table.ipynb>data table notebook</a>'\n",
              "          + ' to learn more about interactive tables.';\n",
              "        element.innerHTML = '';\n",
              "        dataTable['output_type'] = 'display_data';\n",
              "        await google.colab.output.renderOutput(dataTable, element);\n",
              "        const docLink = document.createElement('div');\n",
              "        docLink.innerHTML = docLinkHtml;\n",
              "        element.appendChild(docLink);\n",
              "      }\n",
              "    </script>\n",
              "  </div>\n",
              "\n",
              "\n",
              "<div id=\"df-12f18f08-a16b-440e-84e5-21d8bcbbe4e3\">\n",
              "  <button class=\"colab-df-quickchart\" onclick=\"quickchart('df-12f18f08-a16b-440e-84e5-21d8bcbbe4e3')\"\n",
              "            title=\"Suggest charts\"\n",
              "            style=\"display:none;\">\n",
              "\n",
              "<svg xmlns=\"http://www.w3.org/2000/svg\" height=\"24px\"viewBox=\"0 0 24 24\"\n",
              "     width=\"24px\">\n",
              "    <g>\n",
              "        <path d=\"M19 3H5c-1.1 0-2 .9-2 2v14c0 1.1.9 2 2 2h14c1.1 0 2-.9 2-2V5c0-1.1-.9-2-2-2zM9 17H7v-7h2v7zm4 0h-2V7h2v10zm4 0h-2v-4h2v4z\"/>\n",
              "    </g>\n",
              "</svg>\n",
              "  </button>\n",
              "\n",
              "<style>\n",
              "  .colab-df-quickchart {\n",
              "      --bg-color: #E8F0FE;\n",
              "      --fill-color: #1967D2;\n",
              "      --hover-bg-color: #E2EBFA;\n",
              "      --hover-fill-color: #174EA6;\n",
              "      --disabled-fill-color: #AAA;\n",
              "      --disabled-bg-color: #DDD;\n",
              "  }\n",
              "\n",
              "  [theme=dark] .colab-df-quickchart {\n",
              "      --bg-color: #3B4455;\n",
              "      --fill-color: #D2E3FC;\n",
              "      --hover-bg-color: #434B5C;\n",
              "      --hover-fill-color: #FFFFFF;\n",
              "      --disabled-bg-color: #3B4455;\n",
              "      --disabled-fill-color: #666;\n",
              "  }\n",
              "\n",
              "  .colab-df-quickchart {\n",
              "    background-color: var(--bg-color);\n",
              "    border: none;\n",
              "    border-radius: 50%;\n",
              "    cursor: pointer;\n",
              "    display: none;\n",
              "    fill: var(--fill-color);\n",
              "    height: 32px;\n",
              "    padding: 0;\n",
              "    width: 32px;\n",
              "  }\n",
              "\n",
              "  .colab-df-quickchart:hover {\n",
              "    background-color: var(--hover-bg-color);\n",
              "    box-shadow: 0 1px 2px rgba(60, 64, 67, 0.3), 0 1px 3px 1px rgba(60, 64, 67, 0.15);\n",
              "    fill: var(--button-hover-fill-color);\n",
              "  }\n",
              "\n",
              "  .colab-df-quickchart-complete:disabled,\n",
              "  .colab-df-quickchart-complete:disabled:hover {\n",
              "    background-color: var(--disabled-bg-color);\n",
              "    fill: var(--disabled-fill-color);\n",
              "    box-shadow: none;\n",
              "  }\n",
              "\n",
              "  .colab-df-spinner {\n",
              "    border: 2px solid var(--fill-color);\n",
              "    border-color: transparent;\n",
              "    border-bottom-color: var(--fill-color);\n",
              "    animation:\n",
              "      spin 1s steps(1) infinite;\n",
              "  }\n",
              "\n",
              "  @keyframes spin {\n",
              "    0% {\n",
              "      border-color: transparent;\n",
              "      border-bottom-color: var(--fill-color);\n",
              "      border-left-color: var(--fill-color);\n",
              "    }\n",
              "    20% {\n",
              "      border-color: transparent;\n",
              "      border-left-color: var(--fill-color);\n",
              "      border-top-color: var(--fill-color);\n",
              "    }\n",
              "    30% {\n",
              "      border-color: transparent;\n",
              "      border-left-color: var(--fill-color);\n",
              "      border-top-color: var(--fill-color);\n",
              "      border-right-color: var(--fill-color);\n",
              "    }\n",
              "    40% {\n",
              "      border-color: transparent;\n",
              "      border-right-color: var(--fill-color);\n",
              "      border-top-color: var(--fill-color);\n",
              "    }\n",
              "    60% {\n",
              "      border-color: transparent;\n",
              "      border-right-color: var(--fill-color);\n",
              "    }\n",
              "    80% {\n",
              "      border-color: transparent;\n",
              "      border-right-color: var(--fill-color);\n",
              "      border-bottom-color: var(--fill-color);\n",
              "    }\n",
              "    90% {\n",
              "      border-color: transparent;\n",
              "      border-bottom-color: var(--fill-color);\n",
              "    }\n",
              "  }\n",
              "</style>\n",
              "\n",
              "  <script>\n",
              "    async function quickchart(key) {\n",
              "      const quickchartButtonEl =\n",
              "        document.querySelector('#' + key + ' button');\n",
              "      quickchartButtonEl.disabled = true;  // To prevent multiple clicks.\n",
              "      quickchartButtonEl.classList.add('colab-df-spinner');\n",
              "      try {\n",
              "        const charts = await google.colab.kernel.invokeFunction(\n",
              "            'suggestCharts', [key], {});\n",
              "      } catch (error) {\n",
              "        console.error('Error during call to suggestCharts:', error);\n",
              "      }\n",
              "      quickchartButtonEl.classList.remove('colab-df-spinner');\n",
              "      quickchartButtonEl.classList.add('colab-df-quickchart-complete');\n",
              "    }\n",
              "    (() => {\n",
              "      let quickchartButtonEl =\n",
              "        document.querySelector('#df-12f18f08-a16b-440e-84e5-21d8bcbbe4e3 button');\n",
              "      quickchartButtonEl.style.display =\n",
              "        google.colab.kernel.accessAllowed ? 'block' : 'none';\n",
              "    })();\n",
              "  </script>\n",
              "</div>\n",
              "\n",
              "    </div>\n",
              "  </div>\n"
            ]
          },
          "metadata": {},
          "execution_count": 185
        }
      ]
    },
    {
      "cell_type": "code",
      "source": [
        "from sklearn.metrics import mean_squared_error\n",
        "\n",
        "errors = mean_squared_error(y_test, output.T, squared=True)\n",
        "# report error\n",
        "print(errors)"
      ],
      "metadata": {
        "colab": {
          "base_uri": "https://localhost:8080/"
        },
        "id": "_WrT2M8JKPO0",
        "outputId": "d6e4bc63-9c2a-4553-a725-e429643a2387"
      },
      "execution_count": null,
      "outputs": [
        {
          "output_type": "stream",
          "name": "stdout",
          "text": [
            "1.3400598060859434\n"
          ]
        }
      ]
    },
    {
      "cell_type": "markdown",
      "source": [
        "**Observations**\n",
        "1. The model is too complex for the data <br>\n",
        "2. when the complete dataset is taken, the params and cache are filled with `nan` <br>\n",
        "3. Using Sigmoid have overfit the model <br>\n",
        "4. Better option is using **ReLU** and 2 layer network <br>\n",
        "5. Using L1/L2 regularization is again good choice <br>"
      ],
      "metadata": {
        "id": "rB113LFqG-QS"
      }
    },
    {
      "cell_type": "markdown",
      "source": [
        "**References:**<br>\n",
        "1. https://github.com/lionelmessi6410/Neural-Networks-from-Scratch/blob/main/NN-from-Scratch.ipynb\n",
        "2. https://cs229.stanford.edu/lectures-spring2022/main_notes.pdf"
      ],
      "metadata": {
        "id": "B7JR-DxSO3Y0"
      }
    },
    {
      "cell_type": "code",
      "source": [],
      "metadata": {
        "id": "8h-gCCzAKauB"
      },
      "execution_count": null,
      "outputs": []
    }
  ]
}
