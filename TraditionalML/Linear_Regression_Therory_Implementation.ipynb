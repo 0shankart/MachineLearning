{
  "nbformat": 4,
  "nbformat_minor": 0,
  "metadata": {
    "colab": {
      "provenance": []
    },
    "kernelspec": {
      "name": "python3",
      "display_name": "Python 3"
    },
    "language_info": {
      "name": "python"
    }
  },
  "cells": [
    {
      "cell_type": "markdown",
      "source": [
        "## Linear Regression"
      ],
      "metadata": {
        "id": "FtCVoFclN7FP"
      }
    },
    {
      "cell_type": "markdown",
      "source": [
        "Lets talk about the dataset, I have downloaded [Used Car Price Dataset](https://www.kaggle.com/datasets/rishabhkarn/used-car-dataset) from Kaggle website. The dataset contains `13` feature/independent variables($x_i$) and a target/dependant variable($y$), from those 13 feature/independant variables, I will be using 5 feature/independent variables they are `kms_driven` ,`mileage(kmpl)`, `engine(cc)`, `max_power(bhp)` and `torque(Nm). ` and `price(in lakhs)` as the target variable.<br><br>\n",
        "\n",
        "\n",
        "kms_driven   | mileage(kmpl)| engine(cc) | max_power(bhp) | torque(Nm) | price(in lakhs)\n",
        "-------------|-------------|------------|----------------|------------|-------------\n",
        " 56000       |   7.81      |2996        |\t   2996        |     333    |       63.75\n",
        " 30615       |  17.4      |    999     |     999        |     9863   |       8.99\n",
        "24000        |  20.68     |    1995    |     1995       |      188   |       23.75\n",
        "18378        |  16.5      |    1353    |     1353       |     13808  |       13.56\n",
        "\n",
        "\n",
        "<br>\n",
        "<br>\n",
        "Here $x$'s are four-dimensional vector in $\\mathbb{R}^5$. For instance, $x_1^{(i)}$ is the `kms_driven`, $x_2^{(i)}$ is the `mileage(kmpl)`, $x_3^{(i)}$ is the `engine(cc)`, $x_4^{(i)}$ is the `max_power(bhp)`, and $x_4^{(i)}$ is the `torque(Nm)` of the $i$-th house in the training set\n"
      ],
      "metadata": {
        "id": "tKxdr-fuFbrY"
      }
    },
    {
      "cell_type": "markdown",
      "source": [
        "To perform supervised learning, we will represent $y$ as  the functions/hypothese $h$ or as a linear function of $x$.\n",
        "\n",
        "$$h_{\\theta}(x) = \\theta_0 + \\theta_1x_1 + \\theta_2x_2 + \\theta_3x_3 + \\theta_4x_4 + \\theta_5x_5$$\n",
        "\n",
        "Here, the $\\theta_i$'s are the parameters (also called wights) parameterizing the space of linear functions mapping $\\mathcal{X}$ $\\to$ $\\mathcal{Y}$. For simplifying the notation, we drop $\\theta$ and use $x_0=1$(intercept term).\n",
        "$$h(x) = \\sum_{i=1}^d\\theta_ix_i = \\theta^Tx$$\n",
        "\n",
        "on the right-hand side both $\\theta$ and $x$ are both vectors and d is the no. of feature/input/independent variables(not counting $x_0$).\n",
        "\n",
        "\n",
        "\n",
        "Now, given a training set, how do we pick, or learn, the parameters $\\theta$. One reasonable method is to make $h(x)$ close to $y$, atleast for the training examples we have. To formalize this, we will define a function that measures, for each value of the $\\theta$'s, how close the $h(x^{(i)})$'s are to the correspoding $y^{(i)}$'s. We define the **cost function**:\n",
        "$$J(\\theta) = \\frac{1}{2}\\sum_{i=1}^n(h_{\\theta}(x^{(i)})-y^{(i)})^2.$$\n",
        "\n"
      ],
      "metadata": {
        "id": "bJ2UIvD9PPqc"
      }
    },
    {
      "cell_type": "markdown",
      "source": [
        "# LMS algorithm\n"
      ],
      "metadata": {
        "id": "Ficrjfy0N_SN"
      }
    },
    {
      "cell_type": "markdown",
      "source": [
        "We watnt to choose $\\theta$ so as to minimize $J(\\theta)$. To do so, let's use a search algorithm that starts with some \"initial guess\" for $\\theta$, and that repeatedly changes $\\theta$ to make $J(\\theta)$ smaller, until hopefully we converge to a value of $\\theta$ that minimizes $J(\\theta)$. Specifically, lets consider the **gradient descent** algorithm, which starts with some initial $\\theta$, and repeatedly performs the update:\n",
        "$$\\theta_j:=\\theta_j - \\alpha\\frac{\\partial}{\\partial\\theta_j}J(\\theta). $$\n",
        "(This update is simultaneously performed for all values of $j$= 0,...,d.)\n",
        "\n",
        "\n",
        "Here, $\\alpha$ is called the **learning rate**. This is a very natural algorithm that repeatedly takes a step in the direction of steepest descrease of $J$.\n",
        "\n",
        "In order to implement this algorithm, we have to work out what is the partial derivative term on the right hand side. Lets first work it out for the case of it we have only one training example $(x, y)$, so that we can neglect the sum in the definition of $\\textit{J}$. We have:\n",
        "\n",
        "\n",
        "$$ \\frac{\\partial}{\\partial\\theta_j}J(\\theta) = \\frac{\\partial}{\\partial\\theta_j}\\frac{1}{2}(h_\\theta(x) - y)^2$$\n",
        "$$ = 2.\\frac{1}{2}(h_\\theta(x)-y).\\frac{\\partial}{\\partial\\theta_j}(h_\\theta(x)-y))$$\n",
        "$$=(h_\\theta(x)-y).\\frac{\\partial}{\\partial\\theta_j}(\\sum_{i=0}^d\\theta_ix_i-y)$$\n",
        "$$=(h_\\theta(x)-y)x_j$$\n",
        "for a single training example, this gives the update rule:\n",
        "$$\\theta_j:= \\theta_j +\\alpha(y^{(i)}-h_\\theta(x^{(i)}))x_j^{(i)}. $$\n",
        "\n",
        "This rule is called the **LMS** update rule (LMS stands for \"least mean squares\"), and is also known as the **Widrow-Hoff** learning rule. This rule has several properties that seem natural and intuitive. For instance, the magnitude of the update is proportial to the error term $(y^{(i)}-h_\\theta(x^{(i)}))$; thus for instance, if we are encountering a training example on which our prediction nearly matches the actual value of $y^{(i)}$, then we find that there is little need to change the parameters; in contrast, a larger change to the parameters will be made if our prediction $h_\\theta(x^(i)$ has a large error (i.e, if it is very far from $y^{(i)}$).\n",
        "\n",
        "We'd derived the LMS rule for when there was only a single training example. There are two ways to modify this method for a training set of more than one example. The first is replace it with the following algorithm:\n",
        "\n",
        "repeat until convergence $ \\{ $\n",
        "$$\\theta_j := \\theta_j + \\alpha\\sum_{i=i}^n(y^{(i)} - h_\\theta(x^{(i)}))x_j^{(i)}, \\text{(for every $j$)  (1.1)} $$\n",
        "$ \\}$\n",
        "\n"
      ],
      "metadata": {
        "id": "fagHUGT-lSm-"
      }
    },
    {
      "cell_type": "markdown",
      "source": [
        "By grouping the updates of the coordinates into an update of the vector $\\theta$, we can rewrite update (1.1) in a slightly more succing way:\n",
        "$$ \\theta := \\theta + \\alpha\\sum_{i=1}^n(y^{(i)} - h_\\theta(x^{(i)}))x^{(i)}$$\n",
        "This is simply gradient descent on the original cost funtion $\\textit{J}$. This method looks ar every example in the entire training set on every step, and is called **batch gradient descent**. Note that, while gradient descent can be susceptible to local minima in general, the optimization problem we have posed here for linear regression has only one global, and no other local, optima; thus gradient descent always converges (assumming the learning rate $\\alpha$ is not too large) to the global minimum. Indeed, $\\textit{J}$ is a convex quadratic funtion. Here is an examlpe of gradient descent as it run to minimize a quadratic function.\n",
        "\n",
        "<figure>\n",
        "  <img src=\"https://github.com/0shankart/MachineLearningNotes/blob/main/TraditionalML/images/batch_gradient_descent_global_minimum.png?raw=true\" width=\"40%\"/>\n",
        "  <figcaption>Ref: https://cs229.stanford.edu/notes2021fall/cs229-notes1.pdf</figcaption>\n",
        "</figure>\n",
        " <br>\n",
        " <br>The ellipses shown above are the countours of a quadratiic function. Also shown is the trajectory taken by graidnet descent, which was initialized at (48, 30). The $x$'s in the figure (joined by straight lines) mark the successive values of $\\theta$ that gradient descent went through.\n",
        "\n",
        " There is an alternative to batch gradient descent that also works very well. Consider the folling algorithm:<br><br>$\\text{Loop }  \\{ $\n",
        "\n",
        " $ \\text{ for $i$ = 1 to n, } \\{ $\n",
        " $$\\theta^j := \\theta_j + \\alpha(y^{(i)} - h_\\theta(x^{(i)}))x_j^{(i)}, \\text{ (for every $j$)  (1.2) }$$\n",
        " $\\}$\n",
        "\n",
        " $\\}$\n",
        "<br>\n",
        "By grouping the updates of the coordinates into an update of the vector \\theta, we can rewrite update (1.2) in a slightly more succing way:\n",
        "$$\\theta := \\theta + \\alpha(y^{(i)} - h_\\theta(x^{(i)}))x^{(i)}$$\n",
        "<br>\n",
        "In this algorithm, we repeatedly run through the training set, and each time we encounter a training example, we update the parameters according to the gradient of the error with respect to that single training examlpe only. This algorithm is called **stochastic gradient descent** (also **incremental gradient descent**). Whereas batch gradient descent has to scan through the entire training set before taking a single step$-$a cpst;u p[eratopm of n is large$-$stochastic gradient descent can start making progress right away and continues to ,make progress with each example it looks at. Often, stochastic gradient descent gets $\\theta$ \"close to the minimum much faster than batch gradient descent. (Note however that it may never \"converge\" to the minimum, and the parameters $\\theta$ will keep oscillating around the minimum of the $J(\\theta)$; but in practise most of the values near the minimum will be reasonably good approximations to the true minimum. By slowly letting the learning rate $\\alpha$ decrease to zero as the algorithm runs, it is also possible to ensure that the parameters will converge to the global minimum rather than merely oscillate around the minimum.) For these reasons, particularly when the training set is large, stochastic gradient descent is often preferred voer batch gradient descent.\n",
        "\n"
      ],
      "metadata": {
        "id": "hv4CWDISaP6S"
      }
    },
    {
      "cell_type": "markdown",
      "source": [
        "# Python Implementation"
      ],
      "metadata": {
        "id": "0bz3-aewODwM"
      }
    },
    {
      "cell_type": "code",
      "source": [
        "from google.colab import drive\n",
        "drive.mount('/content/drive')"
      ],
      "metadata": {
        "colab": {
          "base_uri": "https://localhost:8080/"
        },
        "id": "TnDXTTEQFpcc",
        "outputId": "2698dcec-d48d-4054-e98a-fa4ef68f27e3"
      },
      "execution_count": 1,
      "outputs": [
        {
          "output_type": "stream",
          "name": "stdout",
          "text": [
            "Mounted at /content/drive\n"
          ]
        }
      ]
    },
    {
      "cell_type": "code",
      "source": [
        "cd /content/drive/MyDrive/files"
      ],
      "metadata": {
        "colab": {
          "base_uri": "https://localhost:8080/"
        },
        "id": "wOflmV8PJ7Nk",
        "outputId": "5947beaa-4ea7-49d9-bab9-b8576c29cafb"
      },
      "execution_count": 2,
      "outputs": [
        {
          "output_type": "stream",
          "name": "stdout",
          "text": [
            "/content/drive/MyDrive/files\n"
          ]
        }
      ]
    },
    {
      "cell_type": "code",
      "source": [
        "ls"
      ],
      "metadata": {
        "colab": {
          "base_uri": "https://localhost:8080/"
        },
        "id": "p81ecDR8KF58",
        "outputId": "faa19829-b9ed-4027-ed37-8a066804191c"
      },
      "execution_count": 3,
      "outputs": [
        {
          "output_type": "stream",
          "name": "stdout",
          "text": [
            "imdb_data.csv  Used_Car_Dataset.csv  yelp.csv\n"
          ]
        }
      ]
    },
    {
      "cell_type": "code",
      "execution_count": 4,
      "metadata": {
        "id": "krOOiagSDPK8"
      },
      "outputs": [],
      "source": [
        "import numpy as np\n",
        "import pandas as pd\n",
        "import matplotlib.pyplot as plt\n",
        "plt.rcParams['figure.figsize'] = (12.0, 9.0)"
      ]
    },
    {
      "cell_type": "code",
      "source": [
        "df = pd.read_csv(\"Used_Car_Dataset.csv\")\n",
        "df.info()"
      ],
      "metadata": {
        "colab": {
          "base_uri": "https://localhost:8080/"
        },
        "id": "t9drSqCvFzwe",
        "outputId": "57880f04-e1e1-493e-fa6c-e17c861602e2"
      },
      "execution_count": 5,
      "outputs": [
        {
          "output_type": "stream",
          "name": "stdout",
          "text": [
            "<class 'pandas.core.frame.DataFrame'>\n",
            "RangeIndex: 1553 entries, 0 to 1552\n",
            "Data columns (total 15 columns):\n",
            " #   Column              Non-Null Count  Dtype  \n",
            "---  ------              --------------  -----  \n",
            " 0   Unnamed: 0          1553 non-null   int64  \n",
            " 1   car_name            1553 non-null   object \n",
            " 2   registration_year   1553 non-null   object \n",
            " 3   insurance_validity  1553 non-null   object \n",
            " 4   fuel_type           1553 non-null   object \n",
            " 5   seats               1553 non-null   int64  \n",
            " 6   kms_driven          1553 non-null   int64  \n",
            " 7   ownsership          1553 non-null   object \n",
            " 8   transmission        1553 non-null   object \n",
            " 9   manufacturing_year  1553 non-null   object \n",
            " 10  mileage(kmpl)       1550 non-null   float64\n",
            " 11  engine(cc)          1550 non-null   float64\n",
            " 12  max_power(bhp)      1550 non-null   float64\n",
            " 13  torque(Nm)          1549 non-null   float64\n",
            " 14  price(in lakhs)     1553 non-null   float64\n",
            "dtypes: float64(5), int64(3), object(7)\n",
            "memory usage: 182.1+ KB\n"
          ]
        }
      ]
    },
    {
      "cell_type": "code",
      "source": [
        "# drop all other columsn except mileage(kmpl), engine(cc), max_power(bhp), torque(Nm), price(in lakhs)\n",
        "# sort the dataframe based on the price(in lakhs) column and only 100 samples are choosen\n",
        "\n",
        "df = df[['seats','kms_driven','mileage(kmpl)', 'engine(cc)', 'max_power(bhp)', 'torque(Nm)', 'price(in lakhs)']]\n"
      ],
      "metadata": {
        "id": "sypAS6qKML7-"
      },
      "execution_count": 6,
      "outputs": []
    },
    {
      "cell_type": "code",
      "source": [],
      "metadata": {
        "id": "IRyB0gy9Q2YM"
      },
      "execution_count": 6,
      "outputs": []
    }
  ]
}
