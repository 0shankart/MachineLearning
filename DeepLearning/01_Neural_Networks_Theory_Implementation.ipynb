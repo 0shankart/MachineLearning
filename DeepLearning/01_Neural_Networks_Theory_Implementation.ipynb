{
  "nbformat": 4,
  "nbformat_minor": 0,
  "metadata": {
    "colab": {
      "provenance": []
    },
    "kernelspec": {
      "name": "python3",
      "display_name": "Python 3"
    },
    "language_info": {
      "name": "python"
    }
  },
  "cells": [
    {
      "cell_type": "markdown",
      "source": [
        "# Neural Networks\n",
        "\n"
      ],
      "metadata": {
        "id": "GCo5oKb7ZxPm"
      }
    },
    {
      "cell_type": "markdown",
      "source": [
        "Neural networks refer to broad type of non-linear models/parametrizations\n",
        "$h_\\theta(x)$ that involve combinations of matrix multiplications and other entrywise non-linear operations. We will start small and slowly build up a neural\n",
        "network, step by step."
      ],
      "metadata": {
        "id": "o0Csl9UsZ4sV"
      }
    },
    {
      "cell_type": "code",
      "execution_count": null,
      "metadata": {
        "id": "1T1as4X6kwSc"
      },
      "outputs": [],
      "source": []
    }
  ]
}
