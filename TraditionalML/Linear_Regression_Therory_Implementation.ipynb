{
  "nbformat": 4,
  "nbformat_minor": 0,
  "metadata": {
    "colab": {
      "provenance": []
    },
    "kernelspec": {
      "name": "python3",
      "display_name": "Python 3"
    },
    "language_info": {
      "name": "python"
    }
  },
  "cells": [
    {
      "cell_type": "markdown",
      "source": [
        "### Linear Regression\n",
        "\n",
        "\n",
        "Lets talk about the dataset, I have downloaded [Used Car Price Dataset](https://www.kaggle.com/datasets/rishabhkarn/used-car-dataset) from Kaggle website. The dataset contains `13` feature/independent variables($x_i$) and a target/dependant variable($y$), from those 13 feature/independant variables, I will be using 4 feature/independent variables they are `mileage(kmpl)`, `engine(cc)`, `max_power(bhp)` and `torque(Nm). ` <br>\n",
        "\n",
        "\n",
        "mileage(kmpl)| engine(cc) | max_power(bhp) | torque(Nm) | price(in lakhs)\n",
        "-------------|------------|----------------|------------|-------------\n",
        "   7.81      |2996        |\t   2996        |     333    |       63.75\n",
        "   17.4      |    999     |     999        |     9863   |       8.99\n",
        "   20.68     |    1995    |     1995       |      188   |       23.75\n",
        "   16.5      |    1353    |     1353       |     13808  |       13.56\n",
        "\n",
        "Here $x$'s are four-dimensional vector in $\\mathbb{R}^4$. For instance, $x_1^{(i)}$ is the `mileage(kmpl)`, $x_2^{(i)}$ is the `engine(cc)`, $x_3^{(i)}$ is the `max_power(bhp)`, and $x_4^{(i)}$ is the `torque(Nm)` of the $i$-th house in the training set.\n"
      ],
      "metadata": {
        "id": "tKxdr-fuFbrY"
      }
    },
    {
      "cell_type": "markdown",
      "source": [
        "To perform supervised learning, we will represent $y$ as  the functions/hypothese $h$ or as a linear function of $x$.\n",
        "\n",
        "$$h_{\\theta}(x) = \\theta_0 + \\theta_1x_1 + \\theta_2x_2 + \\theta_3x_3 + \\theta_4x_4$$\n",
        "\n",
        "Here, the $\\theta_i$'s are the parameters (also called wights) parameterizing the space of linear functions mapping $\\mathcal{X}$ $\\to$ $\\mathcal{Y}$. For simplifying the notation, we drop $\\theta$ and use $x_0=1$(intercept term).\n",
        "$$h(x) = \\sum_{i=1}^d\\theta_ix_i = \\theta^Tx$$\n",
        "\n",
        "on the right-hand side both $\\theta$ and $x$ are both vectors and d is the no. of feature/input/independent variables(not counting $x_0$).\n",
        "\n",
        "\n",
        "\n",
        "Now, given a training set, how do we pick, or learn, the parameters $\\theta$. One reasonable method is to make $h(x)$ close to $y$, atleast for the training examples we have. To formalize this, we will define a function that measures, for each value of the $\\theta$'s, how close the $h(x^{(i)})$'s are to the correspoding $y^{(i)}$'s. We define the **cost function**:\n",
        "$$J(\\theta) = \\frac{1}{2}\\sum_{i=1}^n(h_{\\theta}(x^{(i)})-y^{(i)})^2.$$\n",
        "\n"
      ],
      "metadata": {
        "id": "bJ2UIvD9PPqc"
      }
    },
    {
      "cell_type": "markdown",
      "source": [
        "# LMS algorithm\n",
        "\n",
        "We watnt to choose $\\theta$ so as to minimize $J(\\theta)$. To do so, let's use a search algorithm that starts with some \"initial guess\" for $\\theta$, and that repeatedly changes $\\theta$ to make $J(\\theta)$ smaller, until hopefully we converge to a value of $\\theta$ that minimizes $J(\\theta)$. Specifically, lets consider the **gradient descent** algorithm, which starts with some initial $\\theta$, and repeatedly performs the update:\n",
        "$$\\theta_j:=\\theta_j - \\alpha\\frac{\\partial}{\\partial\\theta_j}J(\\theta). $$\n",
        "(This update is simultaneously performed for all values of $j$= 0,...,d.)\n",
        "\n",
        "\n",
        "Here, $\\alpha$ is called the **learning rate**. This is a very natural algorithm that repeatedly takes a step in the direction of steepest descrease of $J$.\n",
        "\n",
        "In order to implement this algorithm, we have to work out what is the partial derivative term on the right hand side. Lets first work it out for the case of it we have only one training example $(x, y)$, so that we can neglect the sum in the definition of $\\textit{J}$. We have:\n",
        "\n",
        "\n",
        "$$ \\frac{\\partial}{\\partial\\theta_j}J(\\theta) = \\frac{\\partial}{\\partial\\theta_j}\\frac{1}{2}(h_\\theta(x) - y)^2$$\n",
        "$$ = 2.\\frac{1}{2}(h_\\theta(x)-y).\\frac{\\partial}{\\partial\\theta_j}(h_\\theta(x)-y))$$\n",
        "$$=(h_\\theta(x)-y).\\frac{\\partial}{\\partial\\theta_j}(\\sum_{i=0}^d\\theta_ix_i-y)$$\n",
        "$$=(h_\\theta(x)-y)x_j$$\n",
        "for a single training example, this gives the update rule:\n",
        "$$\\theta_j:= \\theta_j +\\alpha(y^{(i)}-h_\\theta(x^{(i)}))s_j^{(i)}.$$\n",
        "\n",
        "This rule is called the **LMS** update rule (LMS stands for \"least mean squares\"), and is also known as the **Widrow-Hoff** learning rule. This rule has several properties that seem natural and intuitive. For instance, the magnitude of the update is proportial to the error term $(y^{(i)}-h_\\theta(x^{(i)}))$; thus for instance, if we are encountering a training example on which our prediction nearly matches the actual value of $y^{(i)}$, then we find that there is little need to change the parameters; in contrast, a larger change to the parameters will be made if our prediction $h_\\theta(x^(i)$ has a large error (i.e, if it is very far from $y^{(i)}$).\n",
        "\n",
        "We'd derived the LMS rule for when there was only a single training example. There are two ways to modify this method for a training set of more than one example. The first is replace it with the following algorithm:\n",
        "\n",
        "repeat until convergence $ \\{ $\n",
        "$$\\theta_j := \\theta_j + \\alpha\\sum_{i=i}^n(y^{(i)} - h_\\theta(x^{(i)}))x_j^{(i)}, \\text{(for every j)  (1.1)}$$\n",
        "$ \\}$\n",
        "\n"
      ],
      "metadata": {
        "id": "fagHUGT-lSm-"
      }
    },
    {
      "cell_type": "markdown",
      "source": [
        "By grouping the updates of the coordinates into an update of the vector $\\theta$, we can rewrite update (1.1) in a slightly more succing way:\n",
        "$$ \\theta := \\theta + \\alpha\\sum_{i=1}^n(y^{(i)} - h_\\theta(s^{(i0}))x^{(i)}$$\n",
        "This is simply gradient descent on the original cost funtion $\\textit{J}$. This method looks ar every example in the entire training set on every step, and is called **batch gradient descent**. Note that, while gradient descent can be susceptible to local minima in general, the optimization problem we have posed here for linear regression has only one global, and no other local, optima; thus gradient descent always converges (assumming the learning rate $\\alpha$ is not too large) to the global minimum. Indeed, $\\textit{J}$ is a convex quadratic funtion. Here is an examlpe of gradient descent as it run to minimize a quadratic function.\n",
        "\n",
        "<figure>\n",
        "  <img src=\"https://github.com/0shankart/MachineLearningNotes/blob/main/TraditionalML/images/batch_gradient_descent_global_minimum.png?raw=true\" width=\"40%\"/>\n",
        "  <figcaption>Ref: https://cs229.stanford.edu/notes2021fall/cs229-notes1.pdf</figcaption>\n",
        "</figure>\n",
        " The ellipses shown above are the countours of a quadratiic function. Also shown is the trajectory taken by graidnet descent, which was initialized at (48, 30). The $x$'s in the figure (joined by straight lines) mark the successive values of $\\theta$ that gradient descent went through.\n",
        "\n",
        " There is an alternative to batch gradient descent that also works very well. Consider the folling algorithm: <br><br>Loop $ \\{ $\n",
        "\n",
        "\n"
      ],
      "metadata": {
        "id": "hv4CWDISaP6S"
      }
    },
    {
      "cell_type": "code",
      "source": [
        "from google.colab import drive\n",
        "drive.mount('/content/drive')"
      ],
      "metadata": {
        "colab": {
          "base_uri": "https://localhost:8080/"
        },
        "id": "TnDXTTEQFpcc",
        "outputId": "c455ee00-3216-441b-8b58-c9ed76660c20"
      },
      "execution_count": 1,
      "outputs": [
        {
          "output_type": "stream",
          "name": "stdout",
          "text": [
            "Mounted at /content/drive\n"
          ]
        }
      ]
    },
    {
      "cell_type": "code",
      "source": [
        "!cd /content/drive/MyDrive/files"
      ],
      "metadata": {
        "id": "wOflmV8PJ7Nk"
      },
      "execution_count": 4,
      "outputs": []
    },
    {
      "cell_type": "code",
      "source": [
        "!ls"
      ],
      "metadata": {
        "colab": {
          "base_uri": "https://localhost:8080/"
        },
        "id": "p81ecDR8KF58",
        "outputId": "35eb4b59-a167-4fec-b410-75b97319c582"
      },
      "execution_count": 7,
      "outputs": [
        {
          "output_type": "stream",
          "name": "stdout",
          "text": [
            "imdb_data.csv  Used_Car_Dataset.csv  yelp.csv\n"
          ]
        }
      ]
    },
    {
      "cell_type": "code",
      "execution_count": null,
      "metadata": {
        "id": "krOOiagSDPK8"
      },
      "outputs": [],
      "source": []
    },
    {
      "cell_type": "code",
      "source": [],
      "metadata": {
        "id": "t9drSqCvFzwe"
      },
      "execution_count": null,
      "outputs": []
    }
  ]
}
