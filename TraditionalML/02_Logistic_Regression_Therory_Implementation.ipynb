{
  "nbformat": 4,
  "nbformat_minor": 0,
  "metadata": {
    "colab": {
      "provenance": []
    },
    "kernelspec": {
      "name": "python3",
      "display_name": "Python 3"
    },
    "language_info": {
      "name": "python"
    }
  },
  "cells": [
    {
      "cell_type": "markdown",
      "source": [
        "# Classification and Logistic Regression"
      ],
      "metadata": {
        "id": "Q7t-ZnAor2Y4"
      }
    },
    {
      "cell_type": "markdown",
      "source": [
        "Lets now talk about the classification problem. This is just like the regression problem, except that the vlaues y are now want to predict take on only a small number of discrete values. For now, we will focus on the **binary classification** problem in which y can take on two values, 0 and 1. (Most of what this notebook say here will also generalize to the multiple-class case). For instance, if we are trying to build a spam classifier for email, then $x^{(i)}$ may be some features of a piece of email, and $y$ may be 1 if it is a piece of spam mail, and 0 otherwise. 0 is called **negative class**, and 1 the **positive class**, they are sometimes also denoted by the symbols \"$-$\" and \"$+$\". Given $x^{(i)}$, the corresponding $y^{(i)}$ is also called the **label** for the training example."
      ],
      "metadata": {
        "id": "Mkk_WXMyr5x3"
      }
    },
    {
      "cell_type": "code",
      "source": [
        "from google.colab import drive\n",
        "drive.mount('/content/drive')"
      ],
      "metadata": {
        "colab": {
          "base_uri": "https://localhost:8080/"
        },
        "id": "gSOWD99gpu3z",
        "outputId": "54b9b17f-93d7-4777-8411-6e3662ed52c8"
      },
      "execution_count": null,
      "outputs": [
        {
          "output_type": "stream",
          "name": "stdout",
          "text": [
            "Drive already mounted at /content/drive; to attempt to forcibly remount, call drive.mount(\"/content/drive\", force_remount=True).\n"
          ]
        }
      ]
    },
    {
      "cell_type": "code",
      "source": [
        "cd /content/drive/MyDrive/files"
      ],
      "metadata": {
        "colab": {
          "base_uri": "https://localhost:8080/"
        },
        "id": "dQlZAqTmqFSl",
        "outputId": "5a30d06a-021c-40f7-9ba1-5ad0f2d1b6d7"
      },
      "execution_count": null,
      "outputs": [
        {
          "output_type": "stream",
          "name": "stdout",
          "text": [
            "/content/drive/MyDrive/files\n"
          ]
        }
      ]
    },
    {
      "cell_type": "code",
      "source": [
        "import numpy as np\n",
        "import pandas as pd\n",
        "import matplotlib.pyplot as plt\n",
        "plt.rcParams['figure.figsize'] = (12.0, 9.0)"
      ],
      "metadata": {
        "id": "d_767We6qGkj"
      },
      "execution_count": null,
      "outputs": []
    },
    {
      "cell_type": "code",
      "source": [
        "df = pd.read_csv(\"iris.csv\")\n",
        "df = df.sample(frac=1).reset_index(drop=True)\n",
        "df[:5]"
      ],
      "metadata": {
        "colab": {
          "base_uri": "https://localhost:8080/",
          "height": 206
        },
        "id": "F4d6s6TzqJWB",
        "outputId": "49ee2ca2-15cc-4645-d5db-897a96bcf4c1"
      },
      "execution_count": null,
      "outputs": [
        {
          "output_type": "execute_result",
          "data": {
            "text/plain": [
              "   sepal_length  sepal_width  petal_length  petal_width            class\n",
              "0           6.5          3.0           5.2          2.0   Iris-virginica\n",
              "1           6.3          2.3           4.4          1.3  Iris-versicolor\n",
              "2           5.0          2.3           3.3          1.0  Iris-versicolor\n",
              "3           7.0          3.2           4.7          1.4  Iris-versicolor\n",
              "4           5.5          2.4           3.8          1.1  Iris-versicolor"
            ],
            "text/html": [
              "\n",
              "  <div id=\"df-39aad65b-6abb-433f-9518-69c13f94b5e0\" class=\"colab-df-container\">\n",
              "    <div>\n",
              "<style scoped>\n",
              "    .dataframe tbody tr th:only-of-type {\n",
              "        vertical-align: middle;\n",
              "    }\n",
              "\n",
              "    .dataframe tbody tr th {\n",
              "        vertical-align: top;\n",
              "    }\n",
              "\n",
              "    .dataframe thead th {\n",
              "        text-align: right;\n",
              "    }\n",
              "</style>\n",
              "<table border=\"1\" class=\"dataframe\">\n",
              "  <thead>\n",
              "    <tr style=\"text-align: right;\">\n",
              "      <th></th>\n",
              "      <th>sepal_length</th>\n",
              "      <th>sepal_width</th>\n",
              "      <th>petal_length</th>\n",
              "      <th>petal_width</th>\n",
              "      <th>class</th>\n",
              "    </tr>\n",
              "  </thead>\n",
              "  <tbody>\n",
              "    <tr>\n",
              "      <th>0</th>\n",
              "      <td>6.5</td>\n",
              "      <td>3.0</td>\n",
              "      <td>5.2</td>\n",
              "      <td>2.0</td>\n",
              "      <td>Iris-virginica</td>\n",
              "    </tr>\n",
              "    <tr>\n",
              "      <th>1</th>\n",
              "      <td>6.3</td>\n",
              "      <td>2.3</td>\n",
              "      <td>4.4</td>\n",
              "      <td>1.3</td>\n",
              "      <td>Iris-versicolor</td>\n",
              "    </tr>\n",
              "    <tr>\n",
              "      <th>2</th>\n",
              "      <td>5.0</td>\n",
              "      <td>2.3</td>\n",
              "      <td>3.3</td>\n",
              "      <td>1.0</td>\n",
              "      <td>Iris-versicolor</td>\n",
              "    </tr>\n",
              "    <tr>\n",
              "      <th>3</th>\n",
              "      <td>7.0</td>\n",
              "      <td>3.2</td>\n",
              "      <td>4.7</td>\n",
              "      <td>1.4</td>\n",
              "      <td>Iris-versicolor</td>\n",
              "    </tr>\n",
              "    <tr>\n",
              "      <th>4</th>\n",
              "      <td>5.5</td>\n",
              "      <td>2.4</td>\n",
              "      <td>3.8</td>\n",
              "      <td>1.1</td>\n",
              "      <td>Iris-versicolor</td>\n",
              "    </tr>\n",
              "  </tbody>\n",
              "</table>\n",
              "</div>\n",
              "    <div class=\"colab-df-buttons\">\n",
              "\n",
              "  <div class=\"colab-df-container\">\n",
              "    <button class=\"colab-df-convert\" onclick=\"convertToInteractive('df-39aad65b-6abb-433f-9518-69c13f94b5e0')\"\n",
              "            title=\"Convert this dataframe to an interactive table.\"\n",
              "            style=\"display:none;\">\n",
              "\n",
              "  <svg xmlns=\"http://www.w3.org/2000/svg\" height=\"24px\" viewBox=\"0 -960 960 960\">\n",
              "    <path d=\"M120-120v-720h720v720H120Zm60-500h600v-160H180v160Zm220 220h160v-160H400v160Zm0 220h160v-160H400v160ZM180-400h160v-160H180v160Zm440 0h160v-160H620v160ZM180-180h160v-160H180v160Zm440 0h160v-160H620v160Z\"/>\n",
              "  </svg>\n",
              "    </button>\n",
              "\n",
              "  <style>\n",
              "    .colab-df-container {\n",
              "      display:flex;\n",
              "      gap: 12px;\n",
              "    }\n",
              "\n",
              "    .colab-df-convert {\n",
              "      background-color: #E8F0FE;\n",
              "      border: none;\n",
              "      border-radius: 50%;\n",
              "      cursor: pointer;\n",
              "      display: none;\n",
              "      fill: #1967D2;\n",
              "      height: 32px;\n",
              "      padding: 0 0 0 0;\n",
              "      width: 32px;\n",
              "    }\n",
              "\n",
              "    .colab-df-convert:hover {\n",
              "      background-color: #E2EBFA;\n",
              "      box-shadow: 0px 1px 2px rgba(60, 64, 67, 0.3), 0px 1px 3px 1px rgba(60, 64, 67, 0.15);\n",
              "      fill: #174EA6;\n",
              "    }\n",
              "\n",
              "    .colab-df-buttons div {\n",
              "      margin-bottom: 4px;\n",
              "    }\n",
              "\n",
              "    [theme=dark] .colab-df-convert {\n",
              "      background-color: #3B4455;\n",
              "      fill: #D2E3FC;\n",
              "    }\n",
              "\n",
              "    [theme=dark] .colab-df-convert:hover {\n",
              "      background-color: #434B5C;\n",
              "      box-shadow: 0px 1px 3px 1px rgba(0, 0, 0, 0.15);\n",
              "      filter: drop-shadow(0px 1px 2px rgba(0, 0, 0, 0.3));\n",
              "      fill: #FFFFFF;\n",
              "    }\n",
              "  </style>\n",
              "\n",
              "    <script>\n",
              "      const buttonEl =\n",
              "        document.querySelector('#df-39aad65b-6abb-433f-9518-69c13f94b5e0 button.colab-df-convert');\n",
              "      buttonEl.style.display =\n",
              "        google.colab.kernel.accessAllowed ? 'block' : 'none';\n",
              "\n",
              "      async function convertToInteractive(key) {\n",
              "        const element = document.querySelector('#df-39aad65b-6abb-433f-9518-69c13f94b5e0');\n",
              "        const dataTable =\n",
              "          await google.colab.kernel.invokeFunction('convertToInteractive',\n",
              "                                                    [key], {});\n",
              "        if (!dataTable) return;\n",
              "\n",
              "        const docLinkHtml = 'Like what you see? Visit the ' +\n",
              "          '<a target=\"_blank\" href=https://colab.research.google.com/notebooks/data_table.ipynb>data table notebook</a>'\n",
              "          + ' to learn more about interactive tables.';\n",
              "        element.innerHTML = '';\n",
              "        dataTable['output_type'] = 'display_data';\n",
              "        await google.colab.output.renderOutput(dataTable, element);\n",
              "        const docLink = document.createElement('div');\n",
              "        docLink.innerHTML = docLinkHtml;\n",
              "        element.appendChild(docLink);\n",
              "      }\n",
              "    </script>\n",
              "  </div>\n",
              "\n",
              "\n",
              "<div id=\"df-02d3a8e6-6b5c-479d-8332-fc1e358905e5\">\n",
              "  <button class=\"colab-df-quickchart\" onclick=\"quickchart('df-02d3a8e6-6b5c-479d-8332-fc1e358905e5')\"\n",
              "            title=\"Suggest charts\"\n",
              "            style=\"display:none;\">\n",
              "\n",
              "<svg xmlns=\"http://www.w3.org/2000/svg\" height=\"24px\"viewBox=\"0 0 24 24\"\n",
              "     width=\"24px\">\n",
              "    <g>\n",
              "        <path d=\"M19 3H5c-1.1 0-2 .9-2 2v14c0 1.1.9 2 2 2h14c1.1 0 2-.9 2-2V5c0-1.1-.9-2-2-2zM9 17H7v-7h2v7zm4 0h-2V7h2v10zm4 0h-2v-4h2v4z\"/>\n",
              "    </g>\n",
              "</svg>\n",
              "  </button>\n",
              "\n",
              "<style>\n",
              "  .colab-df-quickchart {\n",
              "      --bg-color: #E8F0FE;\n",
              "      --fill-color: #1967D2;\n",
              "      --hover-bg-color: #E2EBFA;\n",
              "      --hover-fill-color: #174EA6;\n",
              "      --disabled-fill-color: #AAA;\n",
              "      --disabled-bg-color: #DDD;\n",
              "  }\n",
              "\n",
              "  [theme=dark] .colab-df-quickchart {\n",
              "      --bg-color: #3B4455;\n",
              "      --fill-color: #D2E3FC;\n",
              "      --hover-bg-color: #434B5C;\n",
              "      --hover-fill-color: #FFFFFF;\n",
              "      --disabled-bg-color: #3B4455;\n",
              "      --disabled-fill-color: #666;\n",
              "  }\n",
              "\n",
              "  .colab-df-quickchart {\n",
              "    background-color: var(--bg-color);\n",
              "    border: none;\n",
              "    border-radius: 50%;\n",
              "    cursor: pointer;\n",
              "    display: none;\n",
              "    fill: var(--fill-color);\n",
              "    height: 32px;\n",
              "    padding: 0;\n",
              "    width: 32px;\n",
              "  }\n",
              "\n",
              "  .colab-df-quickchart:hover {\n",
              "    background-color: var(--hover-bg-color);\n",
              "    box-shadow: 0 1px 2px rgba(60, 64, 67, 0.3), 0 1px 3px 1px rgba(60, 64, 67, 0.15);\n",
              "    fill: var(--button-hover-fill-color);\n",
              "  }\n",
              "\n",
              "  .colab-df-quickchart-complete:disabled,\n",
              "  .colab-df-quickchart-complete:disabled:hover {\n",
              "    background-color: var(--disabled-bg-color);\n",
              "    fill: var(--disabled-fill-color);\n",
              "    box-shadow: none;\n",
              "  }\n",
              "\n",
              "  .colab-df-spinner {\n",
              "    border: 2px solid var(--fill-color);\n",
              "    border-color: transparent;\n",
              "    border-bottom-color: var(--fill-color);\n",
              "    animation:\n",
              "      spin 1s steps(1) infinite;\n",
              "  }\n",
              "\n",
              "  @keyframes spin {\n",
              "    0% {\n",
              "      border-color: transparent;\n",
              "      border-bottom-color: var(--fill-color);\n",
              "      border-left-color: var(--fill-color);\n",
              "    }\n",
              "    20% {\n",
              "      border-color: transparent;\n",
              "      border-left-color: var(--fill-color);\n",
              "      border-top-color: var(--fill-color);\n",
              "    }\n",
              "    30% {\n",
              "      border-color: transparent;\n",
              "      border-left-color: var(--fill-color);\n",
              "      border-top-color: var(--fill-color);\n",
              "      border-right-color: var(--fill-color);\n",
              "    }\n",
              "    40% {\n",
              "      border-color: transparent;\n",
              "      border-right-color: var(--fill-color);\n",
              "      border-top-color: var(--fill-color);\n",
              "    }\n",
              "    60% {\n",
              "      border-color: transparent;\n",
              "      border-right-color: var(--fill-color);\n",
              "    }\n",
              "    80% {\n",
              "      border-color: transparent;\n",
              "      border-right-color: var(--fill-color);\n",
              "      border-bottom-color: var(--fill-color);\n",
              "    }\n",
              "    90% {\n",
              "      border-color: transparent;\n",
              "      border-bottom-color: var(--fill-color);\n",
              "    }\n",
              "  }\n",
              "</style>\n",
              "\n",
              "  <script>\n",
              "    async function quickchart(key) {\n",
              "      const quickchartButtonEl =\n",
              "        document.querySelector('#' + key + ' button');\n",
              "      quickchartButtonEl.disabled = true;  // To prevent multiple clicks.\n",
              "      quickchartButtonEl.classList.add('colab-df-spinner');\n",
              "      try {\n",
              "        const charts = await google.colab.kernel.invokeFunction(\n",
              "            'suggestCharts', [key], {});\n",
              "      } catch (error) {\n",
              "        console.error('Error during call to suggestCharts:', error);\n",
              "      }\n",
              "      quickchartButtonEl.classList.remove('colab-df-spinner');\n",
              "      quickchartButtonEl.classList.add('colab-df-quickchart-complete');\n",
              "    }\n",
              "    (() => {\n",
              "      let quickchartButtonEl =\n",
              "        document.querySelector('#df-02d3a8e6-6b5c-479d-8332-fc1e358905e5 button');\n",
              "      quickchartButtonEl.style.display =\n",
              "        google.colab.kernel.accessAllowed ? 'block' : 'none';\n",
              "    })();\n",
              "  </script>\n",
              "</div>\n",
              "\n",
              "    </div>\n",
              "  </div>\n"
            ]
          },
          "metadata": {},
          "execution_count": 444
        }
      ]
    },
    {
      "cell_type": "markdown",
      "source": [
        "As we are working on the logistic regression and where the target variable $\\in \\{0, 1\\}$, its better to convert the class variable to the"
      ],
      "metadata": {
        "id": "Y8jjXkAwqiy_"
      }
    },
    {
      "cell_type": "code",
      "source": [
        "df['class'].unique()\n",
        "df['class'] = df['class'].apply(lambda x: 1 if x == 'Iris-virginica' else 0 )\n",
        "sample = df[:5]\n",
        "df = df[5:].reset_index(drop=True)\n",
        "df.info()"
      ],
      "metadata": {
        "colab": {
          "base_uri": "https://localhost:8080/"
        },
        "id": "oiZzDcvKYqzJ",
        "outputId": "d6e6ce73-d8fd-41ad-b541-382d18857e7c"
      },
      "execution_count": null,
      "outputs": [
        {
          "output_type": "stream",
          "name": "stdout",
          "text": [
            "<class 'pandas.core.frame.DataFrame'>\n",
            "RangeIndex: 145 entries, 0 to 144\n",
            "Data columns (total 5 columns):\n",
            " #   Column        Non-Null Count  Dtype  \n",
            "---  ------        --------------  -----  \n",
            " 0   sepal_length  145 non-null    float64\n",
            " 1   sepal_width   145 non-null    float64\n",
            " 2   petal_length  145 non-null    float64\n",
            " 3   petal_width   145 non-null    float64\n",
            " 4   class         145 non-null    int64  \n",
            "dtypes: float64(4), int64(1)\n",
            "memory usage: 5.8 KB\n"
          ]
        }
      ]
    },
    {
      "cell_type": "markdown",
      "source": [
        "Here x's are four-dimensional vector in $\\mathbb{R}^4$. For instance, $x_1^{(i)}$ is the `sepal_length`, $x_2^{(i)}$ is the `sepal_width`, $x_3^{(i)}$ is the `petal_length`, and $x_4^{(i)}$ is the `petal_width` of the i-th house in the training set.<br>\n",
        "Hypothesis for the $X$ & $\\theta$(parameters) can be written as\n",
        "\n",
        "$$\\begin{align*}\n",
        "h_\\theta(x) &= \\theta_0 + \\theta_1x_1 + \\theta_2x_2 + \\theta_3x_3 + \\theta_4x_4 \\\\\n",
        "&= \\sum_{i=0}^{d}\\theta_ix_i \\text{ where $x_0$ is intercept term}\\\\\n",
        "&= \\theta^Tx\n",
        "\\end{align*}$$\n"
      ],
      "metadata": {
        "id": "VIY8MBB7ZW8u"
      }
    },
    {
      "cell_type": "code",
      "source": [
        "# to replicate the values across, lets set the random seed\n",
        "np.random.seed(seed=123456)\n",
        "X = df[['sepal_length','sepal_width', 'petal_length', 'petal_width']].to_numpy()\n",
        "y = df[['class']].to_numpy()\n",
        "#We then need to add a feature of “1” concatenating it with the dataset we already have and also add q to the vector m.\n",
        "X = np.concatenate([np.ones((X.shape[0],1)), X], axis = 1)"
      ],
      "metadata": {
        "id": "GcKkn8sXqxzv"
      },
      "execution_count": null,
      "outputs": []
    },
    {
      "cell_type": "code",
      "source": [
        "# contains the theta random theta values from θ1, θ2, θ3, θ4\n",
        "θ_1_4 = np.random.rand(4,1)\n",
        "\n",
        "# creating the θ0(theta zero or intecept)\n",
        "θ0 = np.random.rand(1)\n",
        "\n",
        "# complete hθ\n",
        "hθ = np.concatenate([θ_1_4,θ0.reshape(1,-1)],axis = 0)\n",
        "print(hθ.shape)\n",
        "print(hθ)\n"
      ],
      "metadata": {
        "colab": {
          "base_uri": "https://localhost:8080/"
        },
        "id": "Edrdd0PBrIG0",
        "outputId": "5255e2a0-3b5f-4f23-802d-ce8a92e4f2fb"
      },
      "execution_count": null,
      "outputs": [
        {
          "output_type": "stream",
          "name": "stdout",
          "text": [
            "(5, 1)\n",
            "[[0.12696983]\n",
            " [0.96671784]\n",
            " [0.26047601]\n",
            " [0.89723652]\n",
            " [0.37674972]]\n"
          ]
        }
      ]
    },
    {
      "cell_type": "markdown",
      "source": [
        "#2.1 Logistic regression"
      ],
      "metadata": {
        "id": "6oLT82iLvMzE"
      }
    },
    {
      "cell_type": "markdown",
      "source": [
        "We could approach the classification problem ignoring the fact that $y$ is discrete-valued, and use old linear regression algorithm to try to predict $y$ given $x$. However, it is easy to construct examlpes where this method performs very poorly. Intuitively, it also deosn't make sense for $h_\\theta(x)$ to take values larger than 1 or smaller than 0 when we know that $ y \\in \\{0, 1\\}$.\n",
        "\n",
        "To fix this, let's change the form for our hypothesis $h_\\theta(x)$. We will choose\n",
        "$$h_\\theta(x) = g(\\theta^Tx) = \\frac{1}{1 + e^{-\\theta^Tx}},$$\n",
        "where\n",
        "$$g(z) = \\frac{1}{1+e^{-z}}$$\n",
        "is called the **logistic function** or the **sigmoid function**. Here is a plot showing $g(z)$:\n",
        "<figure>\n",
        "  <img src=\"./TraditionalML/images/sigmoid_activation_function.png\" width=\"40%\"/>\n",
        "  <figcaption>Ref: https://cs229.stanford.edu/notes2021fall/cs229-notes1.pdf</figcaption>\n",
        "</figure>\n",
        " <br>\n",
        "\n",
        "Notice that $g(z)$ tends towards 1 as $z \\to \\infty$, and $g(z)$ tends towards $0$ as $z \\to -\\infty$. Moreover, $g(z)$, and hence also $h(x)$, is always bounded between $0$ and $1$. As before, we are keeping the convention of letting $x_0 = 1$, so that $ \\theta^Tx = \\theta_0 + \\sum_{j=1}^d\\theta_jx_j$.<br>\n",
        "\n"
      ],
      "metadata": {
        "id": "axQHQvc4vX7k"
      }
    },
    {
      "cell_type": "code",
      "execution_count": null,
      "metadata": {
        "id": "oapaZ457qoOO"
      },
      "outputs": [],
      "source": [
        "# lets define sigmoid function\n",
        "def sigmoid(Z):\n",
        "    return 1/(1 + np.exp(-Z))"
      ]
    },
    {
      "cell_type": "markdown",
      "source": [
        "For now, let's take the choice of $g$ as given. Other functions that smoothly increase from $0$ to $1$ can also be used, but for a couple of reasons that we'll see later( when we talk about GLMs, and when we talk about generative learning algorithms), the choice of the logistic function is a fairly natural one. Before moving on, here's a useful property of the derivative of the signmoid fucntion, which we write as $g'$:<br>\n",
        "\n",
        "$$\\begin{align*}g'(z) &= \\frac{d}{dz}\\frac{1}{1 + e^{-z}} \\\\\n",
        "&= \\frac{1}{(1 + e^{-z})^2}(e^{-z}) \\\\\n",
        "&= \\frac{1}{(1 + e^{-z})}.\\left(1 - \\frac{1}{(1 + e^{-z})}\\right)\\\\\n",
        "&=g(z)(1-g(z))\n",
        "\\end{align*}$$\n",
        "\n",
        " So, given the logistic regression model, how do we fit $\\theta$ for it? Following how we saw least squares regression could be derived as the maximum like-lihood estimator under a set of assumptions, let's endow our classficitiona model with a set of probabilistc assumptions, lets endow our classifiction model with a set of probabilistic assumptions, and then fit the parameters via maximum likelihood. <br>\n",
        "\n",
        " Let us assume that\n",
        " $$\\begin{align*}\n",
        " P(y = 1 | x; \\theta) &= h_\\theta(x) \\\\\n",
        " P(y = 0 | x; \\theta) &= 1 - h_\\theta(x)\n",
        " \\end{align*}$$\n",
        "\n",
        " <br>Note that this can be written more compactly as<br>\n",
        " $$\\begin{align*}\n",
        " p(y | x;\\theta) = (h_\\theta(x))^y (1 - h_\\theta(x))^{1-y}\n",
        " \\end{align*}$$\n",
        " <br>\n",
        " Assuming that the $n$ traininig examples were generated independently, we can then write down the likelihood of the parameters as\n",
        " $$\\begin{align*}\n",
        " L(\\theta) &= p(\\vec{y}| X;\\theta) \\\\\n",
        " &= \\prod_{i=1}^np(y^{(i)} | x^{(i)}; \\theta) \\\\\n",
        " &= \\prod_{i=1}^np(h_\\theta(x^{(i)}))^{y^{(i)}}(1 - h_\\theta(x^{(i)}))^{1 - y^{(i)}}\n",
        "\\end{align*}$$\n",
        "\n",
        "As before, it will be easier to maximize the log likelihood:\n",
        "$$\\begin{align*}\n",
        "l(\\theta) &= \\text{log} L(\\theta) \\\\\n",
        "&= \\sum_{i=n}^ny^{(i)}\\text{log}h(x^{(i)}) + (1 - y^{(i)})\\text{log}(1 - h(x^{(i)}))\n",
        "\\end{align*}$$\n",
        "\n"
      ],
      "metadata": {
        "id": "G7g003K7m22R"
      }
    },
    {
      "cell_type": "code",
      "source": [
        "a = np.array([[1.0, 2.0, 3.0], ])\n",
        "b = np.array([[2.0], [2.0], [2.0]])\n",
        "#print(f'{a*b}, {np.dot(a,b)}, {a.shape} {b.shape}')\n",
        "# print(f' {np.dot(a,b)},  {a.shape} {b.shape}')\n",
        "# print(f'{a.T*b}, , {a.T.shape} {b.shape}')"
      ],
      "metadata": {
        "id": "U-_HIfwV-KC5"
      },
      "execution_count": null,
      "outputs": []
    },
    {
      "cell_type": "code",
      "source": [
        "# we have defined the cost fuction lθ, which is modelled after the mean square error\n",
        "def max_log_likelihood(X, y, hθ):\n",
        "    hx = np.dot(X,hθ)\n",
        "    gx = sigmoid(hx)\n",
        "\n",
        "    epsilon = 1e-5\n",
        "    lθ = np.sum((y*np.log(gx + epsilon)) + (1-y)*np.log(1-gx + epsilon))\n",
        "    #print(f'{lθ}, \"max_log_likelihood\"')\n",
        "    return lθ"
      ],
      "metadata": {
        "id": "ivH-OBUMoI9d"
      },
      "execution_count": null,
      "outputs": []
    },
    {
      "cell_type": "markdown",
      "source": [
        "How do we maximize the likelihood? Similar to our derivation in the case of linear regression, we can use gradient ascent. Written in vectorial notation, our update will therefore be given by $ \\theta := \\theta + \\alpha\\Delta_\\theta l(\\theta)$. (Note the positive rather than negative sign in the update formula, since we'are maximizing, rather than minimizing, a function now.) Let's start by working with just one training examle $(x,y)$, and take derivatives to derive the stochastic gradient ascent rule:\n",
        "\n",
        "$$\n",
        "\\begin{align*}\n",
        "\\frac{\\partial}{\\partial \\theta_j} l(\\theta) &= \\left( y \\frac{1}{g(\\theta^Tx)} - (1-y)\\frac{1}{1-g(\\theta^Tx)}  \\right)\\frac{\\partial}{\\theta_j}g(\\theta^Tx)\\\\\n",
        "&= \\left( y \\frac{1}{g(\\theta^Tx)} - (1-y)\\frac{1}{1-g(\\theta^Tx)}  \\right) g(\\theta^Tx)(1 - g(\\theta^Tx))\\frac{\\partial}{\\partial \\theta_j}\\theta^Tx \\\\\n",
        "&= (y(1 - g(\\theta^Tx)) - (1-y)g(\\theta^Tx))x_j \\\\\n",
        "&=(y -h\\theta(x))x_j\n",
        "\\end{align*}$$\n",
        "<br>\n",
        "Above, we used the fact that $g'(z) = g(z)(1-g(z))$. This therefore gives us the stochastic gradient ascent rule:\n",
        "$$ \\theta_j := \\theta_j + \\alpha(y^{(i)} - h_\\theta(x^{(i)}))x_j^{(i)}$$\n",
        "<br>\n",
        "If we compare this to the LMS update rule, we that it looks identical; but this $\\textit{not}$ the same algorithm, becuase $h_\\theta(x^{(i)})$ is now defined as a non-linear function of $\\theta^Tx^{(i)}$. Nonetheless, its a little suprising that we end up with the same update rule for a rather different algorithm and learning problem."
      ],
      "metadata": {
        "id": "Tn8tiAAtoJfl"
      }
    },
    {
      "cell_type": "code",
      "source": [
        "def partial_derivative(X_batch, y_batch, hθ):\n",
        "    y_pred = sigmoid(np.dot(X_batch,hθ))\n",
        "    df_dhθ = np.dot(X_batch.T, (y_batch - y_pred))\n",
        "    #df_dhθ = df_dhθ.reshape(len(df_dhθ), -1)\n",
        "\n",
        "    return df_dhθ"
      ],
      "metadata": {
        "id": "DO-JkJwXp_xQ"
      },
      "execution_count": null,
      "outputs": []
    },
    {
      "cell_type": "code",
      "source": [
        "def training_batch(X, y, batch_size, lr, epochs, hθ):\n",
        "    cost_lst = []\n",
        "    for epoch in range(epochs):\n",
        "        # shuffle X and y using same permutation\n",
        "        indices = np.arange(X.shape[0])\n",
        "        np.random.shuffle(indices)\n",
        "\n",
        "        X = X[indices]\n",
        "        y = y[indices]\n",
        "\n",
        "        # store cumulative derivative\n",
        "        cumulative_derivative = np.zeros((X.shape[1], 1))\n",
        "\n",
        "        for batch in range(len(X)//batch_size):\n",
        "            start = batch*batch_size\n",
        "            stop = (batch*batch_size) + batch_size\n",
        "\n",
        "            X_batch = X[start:stop]\n",
        "            y_batch = y[start:stop]\n",
        "            parti = partial_derivative(X_batch, y_batch, hθ)\n",
        "            cumulative_derivative = cumulative_derivative + parti\n",
        "\n",
        "            #updating rule\n",
        "            hθ = hθ + (lr * cumulative_derivative)\n",
        "\n",
        "        #print(f'X.shape, {X.shape}, y.shape, {y.shape}, {epoch}')\n",
        "        print(f\"epoch: {epoch} ----> MSE: {max_log_likelihood(X, y, hθ)}\")\n",
        "        cost_lst.append(max_log_likelihood(X, y, hθ))\n",
        "    plt.plot(np.arange(1,epochs),cost_lst[1:], color = 'red')\n",
        "    plt.title('Cost function Graph')\n",
        "    plt.xlabel('Number of iterations')\n",
        "    plt.ylabel('Cost')\n",
        "    return hθ\n"
      ],
      "metadata": {
        "id": "3sp4FGTYqinm"
      },
      "execution_count": null,
      "outputs": []
    },
    {
      "cell_type": "code",
      "source": [
        "batch_size = 100\n",
        "lr = 0.01\n",
        "epochs = 200\n",
        "\n",
        "hθ = training_batch(X,y, batch_size,lr,epochs, hθ)\n",
        "hθ"
      ],
      "metadata": {
        "colab": {
          "base_uri": "https://localhost:8080/",
          "height": 1000
        },
        "id": "oz6DpuKq87MN",
        "outputId": "24c8be72-c54b-4732-8a8b-b476c898344c"
      },
      "execution_count": null,
      "outputs": [
        {
          "output_type": "stream",
          "name": "stdout",
          "text": [
            "epoch: 0 ----> MSE: -564.1323604125006\n",
            "epoch: 1 ----> MSE: -127.8953156364198\n",
            "epoch: 2 ----> MSE: -564.1050344638818\n",
            "epoch: 3 ----> MSE: -308.19225533776216\n",
            "epoch: 4 ----> MSE: -564.1321262747219\n",
            "epoch: 5 ----> MSE: -76.63661721777015\n",
            "epoch: 6 ----> MSE: -557.0954768771496\n",
            "epoch: 7 ----> MSE: -673.2161832347331\n",
            "epoch: 8 ----> MSE: -564.1242482632767\n",
            "epoch: 9 ----> MSE: -126.77573410085918\n",
            "epoch: 10 ----> MSE: -563.2555140027459\n",
            "epoch: 11 ----> MSE: -477.1061755112104\n",
            "epoch: 12 ----> MSE: -382.09494070809484\n",
            "epoch: 13 ----> MSE: -603.57354728072\n",
            "epoch: 14 ----> MSE: -544.5198350813179\n",
            "epoch: 15 ----> MSE: -415.4197585283662\n",
            "epoch: 16 ----> MSE: -374.45674614319535\n",
            "epoch: 17 ----> MSE: -485.58938576456507\n",
            "epoch: 18 ----> MSE: -272.7933714817902\n",
            "epoch: 19 ----> MSE: -534.8642759721911\n",
            "epoch: 20 ----> MSE: -241.1739233227729\n",
            "epoch: 21 ----> MSE: -539.3417910694441\n",
            "epoch: 22 ----> MSE: -46.293258300737804\n",
            "epoch: 23 ----> MSE: -394.69530915136454\n",
            "epoch: 24 ----> MSE: -389.66756116384\n",
            "epoch: 25 ----> MSE: -464.61825145683474\n",
            "epoch: 26 ----> MSE: -414.7241668155003\n",
            "epoch: 27 ----> MSE: -460.67592384833415\n",
            "epoch: 28 ----> MSE: -321.720391427463\n",
            "epoch: 29 ----> MSE: -503.4563851159873\n",
            "epoch: 30 ----> MSE: -165.5524403920587\n",
            "epoch: 31 ----> MSE: -523.5305907201318\n",
            "epoch: 32 ----> MSE: -45.9568512579047\n",
            "epoch: 33 ----> MSE: -353.8945601875498\n",
            "epoch: 34 ----> MSE: -281.4358148506421\n",
            "epoch: 35 ----> MSE: -510.73438628032085\n",
            "epoch: 36 ----> MSE: -55.92532965057447\n",
            "epoch: 37 ----> MSE: -323.59430175153403\n",
            "epoch: 38 ----> MSE: -377.9458785621933\n",
            "epoch: 39 ----> MSE: -511.76118313033453\n",
            "epoch: 40 ----> MSE: -22.70758360761853\n",
            "epoch: 41 ----> MSE: -36.764429123253834\n",
            "epoch: 42 ----> MSE: -180.70564087090264\n",
            "epoch: 43 ----> MSE: -512.1785658585076\n",
            "epoch: 44 ----> MSE: -41.6512125855013\n",
            "epoch: 45 ----> MSE: -229.300711908317\n",
            "epoch: 46 ----> MSE: -406.2284617536095\n",
            "epoch: 47 ----> MSE: -465.1054562579567\n",
            "epoch: 48 ----> MSE: -249.0964359921365\n",
            "epoch: 49 ----> MSE: -513.9217855737196\n",
            "epoch: 50 ----> MSE: -60.652939735234746\n",
            "epoch: 51 ----> MSE: -342.995319790955\n",
            "epoch: 52 ----> MSE: -279.61755554691354\n",
            "epoch: 53 ----> MSE: -484.5085186091759\n",
            "epoch: 54 ----> MSE: -78.23981764257414\n",
            "epoch: 55 ----> MSE: -430.4124844649772\n",
            "epoch: 56 ----> MSE: -285.0320775290495\n",
            "epoch: 57 ----> MSE: -512.4805609585175\n",
            "epoch: 58 ----> MSE: -16.89119002404055\n",
            "epoch: 59 ----> MSE: -23.64577487157807\n",
            "epoch: 60 ----> MSE: -21.19790060888714\n",
            "epoch: 61 ----> MSE: -57.688238417507876\n",
            "epoch: 62 ----> MSE: -211.8677576486064\n",
            "epoch: 63 ----> MSE: -447.5289954247039\n",
            "epoch: 64 ----> MSE: -115.12378578224201\n",
            "epoch: 65 ----> MSE: -446.6829166472189\n",
            "epoch: 66 ----> MSE: -111.77545346564739\n",
            "epoch: 67 ----> MSE: -259.7044980171644\n",
            "epoch: 68 ----> MSE: -339.19917680832\n",
            "epoch: 69 ----> MSE: -437.466693815295\n",
            "epoch: 70 ----> MSE: -146.2543181086678\n",
            "epoch: 71 ----> MSE: -419.90726164586465\n",
            "epoch: 72 ----> MSE: -141.97198754311538\n",
            "epoch: 73 ----> MSE: -427.5237787138269\n",
            "epoch: 74 ----> MSE: -162.57492786914585\n",
            "epoch: 75 ----> MSE: -466.74379411500223\n",
            "epoch: 76 ----> MSE: -117.49769253077201\n",
            "epoch: 77 ----> MSE: -309.7197680072313\n",
            "epoch: 78 ----> MSE: -381.55575920054713\n",
            "epoch: 79 ----> MSE: -369.4378325362695\n",
            "epoch: 80 ----> MSE: -36.35909084983483\n",
            "epoch: 81 ----> MSE: -31.17578306925695\n",
            "epoch: 82 ----> MSE: -25.23099781836966\n",
            "epoch: 83 ----> MSE: -51.69423581477657\n",
            "epoch: 84 ----> MSE: -78.5914407930442\n",
            "epoch: 85 ----> MSE: -163.07908170322978\n",
            "epoch: 86 ----> MSE: -305.4484600740237\n",
            "epoch: 87 ----> MSE: -402.034399174393\n",
            "epoch: 88 ----> MSE: -194.92003314211246\n",
            "epoch: 89 ----> MSE: -466.5386853733221\n",
            "epoch: 90 ----> MSE: -54.294119515774696\n",
            "epoch: 91 ----> MSE: -128.39361384998284\n",
            "epoch: 92 ----> MSE: -252.48237326968922\n",
            "epoch: 93 ----> MSE: -452.75159607678904\n",
            "epoch: 94 ----> MSE: -42.421887337912494\n",
            "epoch: 95 ----> MSE: -60.564223130001096\n",
            "epoch: 96 ----> MSE: -57.44437594529427\n",
            "epoch: 97 ----> MSE: -123.79872516934374\n",
            "epoch: 98 ----> MSE: -96.74274350386995\n",
            "epoch: 99 ----> MSE: -154.7244636572993\n",
            "epoch: 100 ----> MSE: -262.17130957765926\n",
            "epoch: 101 ----> MSE: -407.66869653149195\n",
            "epoch: 102 ----> MSE: -135.26175217014858\n",
            "epoch: 103 ----> MSE: -345.2286701344294\n",
            "epoch: 104 ----> MSE: -203.87269609145346\n",
            "epoch: 105 ----> MSE: -268.66272660253844\n",
            "epoch: 106 ----> MSE: -180.97817744118214\n",
            "epoch: 107 ----> MSE: -360.2146630992615\n",
            "epoch: 108 ----> MSE: -91.80134296430353\n",
            "epoch: 109 ----> MSE: -157.08333939479976\n",
            "epoch: 110 ----> MSE: -96.56738541092201\n",
            "epoch: 111 ----> MSE: -213.2222229012787\n",
            "epoch: 112 ----> MSE: -89.7042371015231\n",
            "epoch: 113 ----> MSE: -157.99722848509924\n",
            "epoch: 114 ----> MSE: -133.01788328272787\n",
            "epoch: 115 ----> MSE: -267.40264665295956\n",
            "epoch: 116 ----> MSE: -61.85901604083527\n",
            "epoch: 117 ----> MSE: -38.82769053258457\n",
            "epoch: 118 ----> MSE: -14.366912565539828\n",
            "epoch: 119 ----> MSE: -14.733431677854963\n",
            "epoch: 120 ----> MSE: -13.811286806496568\n",
            "epoch: 121 ----> MSE: -15.022613144167405\n",
            "epoch: 122 ----> MSE: -10.290571576513251\n",
            "epoch: 123 ----> MSE: -10.462253427369593\n",
            "epoch: 124 ----> MSE: -10.390710952398447\n",
            "epoch: 125 ----> MSE: -10.624117184630192\n",
            "epoch: 126 ----> MSE: -11.383549750129438\n",
            "epoch: 127 ----> MSE: -10.3452327741709\n",
            "epoch: 128 ----> MSE: -10.656266501698205\n",
            "epoch: 129 ----> MSE: -13.377334019280642\n",
            "epoch: 130 ----> MSE: -14.223243983321339\n",
            "epoch: 131 ----> MSE: -20.996258314477473\n",
            "epoch: 132 ----> MSE: -15.114827796546166\n",
            "epoch: 133 ----> MSE: -10.79759155458524\n",
            "epoch: 134 ----> MSE: -10.26747072508307\n",
            "epoch: 135 ----> MSE: -10.295568405655398\n",
            "epoch: 136 ----> MSE: -10.295963127783633\n",
            "epoch: 137 ----> MSE: -10.26629847817123\n",
            "epoch: 138 ----> MSE: -10.696657779460141\n",
            "epoch: 139 ----> MSE: -10.731439991013596\n",
            "epoch: 140 ----> MSE: -11.298634272193471\n",
            "epoch: 141 ----> MSE: -13.143443816432507\n",
            "epoch: 142 ----> MSE: -12.786879776646046\n",
            "epoch: 143 ----> MSE: -10.538244470990845\n",
            "epoch: 144 ----> MSE: -11.901321921207199\n",
            "epoch: 145 ----> MSE: -13.300941160982992\n",
            "epoch: 146 ----> MSE: -13.409816122697507\n",
            "epoch: 147 ----> MSE: -10.870372216622624\n",
            "epoch: 148 ----> MSE: -12.034448884301003\n",
            "epoch: 149 ----> MSE: -10.546536559994347\n",
            "epoch: 150 ----> MSE: -13.81867743960688\n",
            "epoch: 151 ----> MSE: -10.19001546710049\n",
            "epoch: 152 ----> MSE: -10.468883181147282\n",
            "epoch: 153 ----> MSE: -11.429711119026393\n",
            "epoch: 154 ----> MSE: -11.619248105202669\n",
            "epoch: 155 ----> MSE: -12.788473172908176\n",
            "epoch: 156 ----> MSE: -10.211795514420164\n",
            "epoch: 157 ----> MSE: -10.203823891438649\n",
            "epoch: 158 ----> MSE: -10.637520350726994\n",
            "epoch: 159 ----> MSE: -10.818469158519173\n",
            "epoch: 160 ----> MSE: -15.537376256865217\n",
            "epoch: 161 ----> MSE: -14.665425268088173\n",
            "epoch: 162 ----> MSE: -10.415885000719774\n",
            "epoch: 163 ----> MSE: -10.18433017450079\n",
            "epoch: 164 ----> MSE: -10.334285352324423\n",
            "epoch: 165 ----> MSE: -12.71152636121926\n",
            "epoch: 166 ----> MSE: -13.21890714766155\n",
            "epoch: 167 ----> MSE: -11.544963716653339\n",
            "epoch: 168 ----> MSE: -10.51522679960538\n",
            "epoch: 169 ----> MSE: -10.215156225993193\n",
            "epoch: 170 ----> MSE: -10.20563480239724\n",
            "epoch: 171 ----> MSE: -10.274892042335331\n",
            "epoch: 172 ----> MSE: -10.443665393247581\n",
            "epoch: 173 ----> MSE: -10.587065598235988\n",
            "epoch: 174 ----> MSE: -10.219646532216316\n",
            "epoch: 175 ----> MSE: -10.149838290365635\n",
            "epoch: 176 ----> MSE: -10.429831516199348\n",
            "epoch: 177 ----> MSE: -10.671048662808381\n",
            "epoch: 178 ----> MSE: -10.234154548368597\n",
            "epoch: 179 ----> MSE: -10.236832659546863\n",
            "epoch: 180 ----> MSE: -10.180287741473142\n",
            "epoch: 181 ----> MSE: -10.582871803737687\n",
            "epoch: 182 ----> MSE: -11.037805123390266\n",
            "epoch: 183 ----> MSE: -10.205077788373309\n",
            "epoch: 184 ----> MSE: -10.130514499392195\n",
            "epoch: 185 ----> MSE: -11.944007110441689\n",
            "epoch: 186 ----> MSE: -15.299635831577241\n",
            "epoch: 187 ----> MSE: -13.233093127727294\n",
            "epoch: 188 ----> MSE: -13.072789963502345\n",
            "epoch: 189 ----> MSE: -15.74561166552202\n",
            "epoch: 190 ----> MSE: -12.945765266064633\n",
            "epoch: 191 ----> MSE: -13.427012604738392\n",
            "epoch: 192 ----> MSE: -16.21638900123495\n",
            "epoch: 193 ----> MSE: -15.580935969146703\n",
            "epoch: 194 ----> MSE: -10.97077718792283\n",
            "epoch: 195 ----> MSE: -10.462495093159532\n",
            "epoch: 196 ----> MSE: -10.117886802342309\n",
            "epoch: 197 ----> MSE: -10.10567020667484\n",
            "epoch: 198 ----> MSE: -10.754084420369022\n",
            "epoch: 199 ----> MSE: -10.711363011966649\n"
          ]
        },
        {
          "output_type": "execute_result",
          "data": {
            "text/plain": [
              "array([[-3.18812936],\n",
              "       [-6.23222366],\n",
              "       [-6.13693063],\n",
              "       [ 9.38673008],\n",
              "       [ 7.79198223]])"
            ]
          },
          "metadata": {},
          "execution_count": 453
        },
        {
          "output_type": "display_data",
          "data": {
            "text/plain": [
              "<Figure size 1200x900 with 1 Axes>"
            ],
            "image/png": "[encoded data removed]"
          },
          "metadata": {}
        }
      ]
    },
    {
      "cell_type": "code",
      "source": [
        "# predict the sample dataframe using the parameters\n",
        "# to replicate the values across, lets set the random seed\n",
        "#np.random.seed(seed=123456)\n",
        "X_test = sample[['sepal_length','sepal_width', 'petal_length', 'petal_width']].to_numpy()\n",
        "y_test = sample[['class']].to_numpy()\n",
        "#We then need to add a feature of “1” concatenating it with the dataset we already have and also add q to the vector m.\n",
        "X_test = np.concatenate([np.ones((X_test.shape[0],1)), X_test], axis = 1)\n",
        "# contains the theta random theta values from θ1, θ2, θ3, θ4\n",
        "y_pred = sigmoid_function(np.dot(X_test, hθ))"
      ],
      "metadata": {
        "id": "tsGgx6R7GgRT"
      },
      "execution_count": null,
      "outputs": []
    },
    {
      "cell_type": "code",
      "source": [
        "y_pred"
      ],
      "metadata": {
        "colab": {
          "base_uri": "https://localhost:8080/"
        },
        "id": "gaxGyEM7Vb3l",
        "outputId": "98a24247-277e-44ec-da3b-b4b236c82900"
      },
      "execution_count": null,
      "outputs": [
        {
          "output_type": "execute_result",
          "data": {
            "text/plain": [
              "array([[9.07759970e-01],\n",
              "       [5.85323899e-03],\n",
              "       [6.15255402e-05],\n",
              "       [1.09138551e-05],\n",
              "       [3.51398466e-04]])"
            ]
          },
          "metadata": {},
          "execution_count": 455
        }
      ]
    },
    {
      "cell_type": "code",
      "source": [
        "y_test"
      ],
      "metadata": {
        "colab": {
          "base_uri": "https://localhost:8080/"
        },
        "id": "cl6c2vrWVkrf",
        "outputId": "12439ab7-73c8-4b7e-8e32-7b58ab75b8fb"
      },
      "execution_count": null,
      "outputs": [
        {
          "output_type": "execute_result",
          "data": {
            "text/plain": [
              "array([[1],\n",
              "       [0],\n",
              "       [0],\n",
              "       [0],\n",
              "       [0]])"
            ]
          },
          "metadata": {},
          "execution_count": 456
        }
      ]
    },
    {
      "cell_type": "markdown",
      "source": [
        "Our Model was able to predict 4 out of 5 instances correctly. Now comes the evaluation metrics and tuning the parameters based on the metrics."
      ],
      "metadata": {
        "id": "7Q6BTbZpWgZw"
      }
    },
    {
      "cell_type": "markdown",
      "source": [
        "References:\n",
        "\n",
        "\n",
        "1.   https://cs229.stanford.edu/notes2021fall/cs229-notes1.pdf\n",
        "2.   https://medium.com/@IwriteDSblog/gradient-descent-for-logistics-regression-in-python-18e033775082\n",
        "\n"
      ],
      "metadata": {
        "id": "KDajVJiIMd1Z"
      }
    }
  ]
}
