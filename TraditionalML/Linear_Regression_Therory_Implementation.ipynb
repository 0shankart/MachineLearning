{
  "nbformat": 4,
  "nbformat_minor": 0,
  "metadata": {
    "colab": {
      "provenance": []
    },
    "kernelspec": {
      "name": "python3",
      "display_name": "Python 3"
    },
    "language_info": {
      "name": "python"
    }
  },
  "cells": [
    {
      "cell_type": "markdown",
      "source": [
        "### Linear Regression\n",
        "\n",
        "\n",
        "Lets talk about the dataset, I have downloaded [Used Car Price Dataset](https://www.kaggle.com/datasets/rishabhkarn/used-car-dataset) from Kaggle website. The dataset contains `13` feature/independent variables($x_i$) and a target/dependant variable($y$), from those 13 feature/independant variables, I will be using 4 feature/independent variables they are `mileage(kmpl)`, `engine(cc)`, `max_power(bhp)` and `torque(Nm). ` <br>\n",
        "\n",
        "\n",
        "mileage(kmpl)| engine(cc) | max_power(bhp) | torque(Nm) | price(in lakhs)\n",
        "-------------|------------|----------------|------------|-------------\n",
        "   7.81      |2996        |\t   2996        |     333    |       63.75\n",
        "   17.4      |    999     |     999        |     9863   |       8.99\n",
        "   20.68     |    1995    |     1995       |      188   |       23.75\n",
        "   16.5      |    1353    |     1353       |     13808  |       13.56\n",
        "\n",
        "\n",
        "Here $x$'s are four-dimensional vector in $\\mathbb{R}^4$. For instance, $x_1^{(i)}$ is the `mileage(kmpl)`, $x_2^{(i)}$ is the `engine(cc)`, $x_3^{(i)}$ is the `max_power(bhp)`, and $x_4^{(i)}$ is the `torque(Nm)` of the $i$-th house in the training set.\n",
        "<br>"
      ],
      "metadata": {
        "id": "tKxdr-fuFbrY"
      }
    },
    {
      "cell_type": "markdown",
      "source": [
        "To perform supervised learning, we will represent $y$ as  the functions/hypothese $h$ or as a linear function of $x$.\n",
        "\n",
        "$$h_{\\theta}(x) = \\theta_0 + \\theta_1x_1 + \\theta_2x_2 + \\theta_3x_3 + \\theta_4x_4$$\n",
        "\n",
        "Here, the $\\theta_i$'s are the parameters (also called wights) parameterizing the space of linear functions mapping $\\mathcal{X}$ to $\\mathcal{Y}$. For simplifying the notation, we drop $\\theta$ and use $x_0=1$(intercept term).\n",
        "$$h(x) = \\sum_{i=1}^d\\theta_ix_i = \\theta^Tx$$"
      ],
      "metadata": {
        "id": "bJ2UIvD9PPqc"
      }
    },
    {
      "cell_type": "code",
      "source": [
        "from google.colab import drive\n",
        "drive.mount('/content/drive')"
      ],
      "metadata": {
        "colab": {
          "base_uri": "https://localhost:8080/"
        },
        "id": "TnDXTTEQFpcc",
        "outputId": "c455ee00-3216-441b-8b58-c9ed76660c20"
      },
      "execution_count": 1,
      "outputs": [
        {
          "output_type": "stream",
          "name": "stdout",
          "text": [
            "Mounted at /content/drive\n"
          ]
        }
      ]
    },
    {
      "cell_type": "code",
      "source": [
        "!cd /content/drive/MyDrive/files"
      ],
      "metadata": {
        "id": "wOflmV8PJ7Nk"
      },
      "execution_count": 4,
      "outputs": []
    },
    {
      "cell_type": "code",
      "source": [
        "!ls"
      ],
      "metadata": {
        "colab": {
          "base_uri": "https://localhost:8080/"
        },
        "id": "p81ecDR8KF58",
        "outputId": "35eb4b59-a167-4fec-b410-75b97319c582"
      },
      "execution_count": 7,
      "outputs": [
        {
          "output_type": "stream",
          "name": "stdout",
          "text": [
            "imdb_data.csv  Used_Car_Dataset.csv  yelp.csv\n"
          ]
        }
      ]
    },
    {
      "cell_type": "code",
      "execution_count": null,
      "metadata": {
        "id": "krOOiagSDPK8"
      },
      "outputs": [],
      "source": []
    },
    {
      "cell_type": "code",
      "source": [],
      "metadata": {
        "id": "t9drSqCvFzwe"
      },
      "execution_count": null,
      "outputs": []
    }
  ]
}
